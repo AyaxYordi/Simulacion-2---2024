{
  "nbformat": 4,
  "nbformat_minor": 0,
  "metadata": {
    "colab": {
      "provenance": [],
      "authorship_tag": "ABX9TyOoF1vuGI3KbXDNdsV+ocSr"
    },
    "kernelspec": {
      "name": "python3",
      "display_name": "Python 3"
    },
    "language_info": {
      "name": "python"
    }
  },
  "cells": [
    {
      "cell_type": "markdown",
      "source": [
        "# Juego de serpientes y escaleras\n",
        "\n",
        "Primero realizaremos una simulación del juego y luego se procede a resolverse de manera analítica.\n",
        "\n",
        "Para resolverlo por vía simulación, primero importamos las librerías que se usarán para el código."
      ],
      "metadata": {
        "id": "qLxh7hNQLg6r"
      }
    },
    {
      "cell_type": "code",
      "source": [
        "from random import random\n",
        "from math import *"
      ],
      "metadata": {
        "id": "9yAa6Vf4FBs_"
      },
      "execution_count": 4,
      "outputs": []
    },
    {
      "cell_type": "markdown",
      "source": [
        "Creamos nuestro dado."
      ],
      "metadata": {
        "id": "8SZ6doj7FEGk"
      }
    },
    {
      "cell_type": "code",
      "source": [
        "dado = lambda : floor(6*random()+1)\n",
        "\n",
        "for i in range(10):\n",
        "  print(dado())"
      ],
      "metadata": {
        "colab": {
          "base_uri": "https://localhost:8080/"
        },
        "id": "cBSwUjTyFMEN",
        "outputId": "7821fd90-c48e-42b1-bfb5-7d6b5b4b16d6"
      },
      "execution_count": 5,
      "outputs": [
        {
          "output_type": "stream",
          "name": "stdout",
          "text": [
            "3\n",
            "1\n",
            "3\n",
            "3\n",
            "3\n",
            "4\n",
            "3\n",
            "1\n",
            "6\n",
            "6\n"
          ]
        }
      ]
    },
    {
      "cell_type": "markdown",
      "source": [
        "Como el estudio de este juego es un proceso estocástico, su ecuación es recursiva y para evitar la recursividad se creará un objeto para que el número de iteraciones sea rápido.\n",
        "\n",
        "La siguiente función, la cual llamaremos, ```j()``` no requiere de parámetros y lo que regresa es toda una partida completa del juego de serpientes y escaleras en forma de lista donde la lista almacena las posiciones en el tablero.\n",
        "\n"
      ],
      "metadata": {
        "id": "WH1wX-ACFM7x"
      }
    },
    {
      "cell_type": "code",
      "source": [
        "def j():\n",
        "\ts = 1\n",
        "\tl = []\n",
        "\tfor i in range(1000):\n",
        "\t\tl.append(s)\n",
        "\t\ts+=dado()\n",
        "\t\tif s>=20:\n",
        "\t\t\ts = 20\n",
        "\t\t\tl.append(s)\n",
        "\t\t\tbreak\n",
        "\t\telif s==3:\n",
        "\t\t\ts+=8   # Escalera\n",
        "\t\telif s==13:\n",
        "\t\t\ts-=9\t# Serpiente\n",
        "\t\telif s==15:\n",
        "\t\t\ts+=4\t# Escalera\n",
        "\t\telif s==17:\n",
        "\t\t\ts-=7\t# Serpiente\n",
        "\treturn l\n"
      ],
      "metadata": {
        "id": "BRU9NtCj2eFF"
      },
      "execution_count": 3,
      "outputs": []
    },
    {
      "cell_type": "markdown",
      "source": [
        "Solo basta con mandar a llamar la función para que nos imprima una partida completa y se muestra un ejemplo a continuación."
      ],
      "metadata": {
        "id": "grW6Bmkgb_JP"
      }
    },
    {
      "cell_type": "code",
      "source": [
        "print(j())"
      ],
      "metadata": {
        "id": "rN_hKnq2ceAo",
        "outputId": "3468d60a-8c8c-4553-db39-6beeaa642d3b",
        "colab": {
          "base_uri": "https://localhost:8080/"
        }
      },
      "execution_count": 11,
      "outputs": [
        {
          "output_type": "stream",
          "name": "stdout",
          "text": [
            "[1, 6, 12, 4, 7, 12, 10, 4, 7, 10, 14, 18, 19, 20]\n"
          ]
        }
      ]
    },
    {
      "cell_type": "markdown",
      "source": [
        "Ahora ya con el programa hecho se procede a hacer una simulacion donde la maquina tiene que juagar el juego  un millon de veces para saber el numero en promedio de tiradas del dado para terminar el dado."
      ],
      "metadata": {
        "id": "RHu_r65rcqPM"
      }
    },
    {
      "cell_type": "code",
      "source": [
        "n = 1000000  # numero de simulaciones\n",
        "\n",
        "l = (len(j())-1 for i in range(n))  # generador\n",
        "\n",
        "print(\"Tiradas en primedio: {0}\".format(sum(l)/n))"
      ],
      "metadata": {
        "id": "_0xqqeyvb-_A",
        "outputId": "3a96fb76-13d0-4aa1-b63d-045258e59f51",
        "colab": {
          "base_uri": "https://localhost:8080/"
        }
      },
      "execution_count": 12,
      "outputs": [
        {
          "output_type": "stream",
          "name": "stdout",
          "text": [
            "Tiradas en primedio: 6.894916\n"
          ]
        }
      ]
    }
  ]
}