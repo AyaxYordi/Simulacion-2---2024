{
  "nbformat": 4,
  "nbformat_minor": 0,
  "metadata": {
    "colab": {
      "provenance": [],
      "authorship_tag": "ABX9TyNGS4R+HO3sWiEZ3Dt5xE/Q"
    },
    "kernelspec": {
      "name": "python3",
      "display_name": "Python 3"
    },
    "language_info": {
      "name": "python"
    }
  },
  "cells": [
    {
      "cell_type": "markdown",
      "source": [
        "# Juego de serpientes y escaleras\n",
        "\n",
        "Primero realizaremos una simulación del juego y luego se procede a resolverse de manera analítica."
      ],
      "metadata": {
        "id": "qLxh7hNQLg6r"
      }
    },
    {
      "cell_type": "code",
      "source": [
        "from random import random\n",
        "from math import *\n",
        "\n",
        "dado = lambda : floor(6*random()+1)\n",
        "\n",
        "class Lil:\n",
        "  x = 1\n",
        "  def j1(n):\n",
        "    if n==0:\n",
        "      return Lil.x\n",
        "    else:\n",
        "      Lil.x+=dado()\n",
        "      return Lil.x\n",
        "\n",
        "def posicion(x):\n",
        "  if x==3:\n",
        "    x+=8      # escalera\n",
        "    return x\n",
        "  elif x==13:\n",
        "    x-=9      # serpiente\n",
        "    return x\n",
        "  elif x==15:\n",
        "    x+=4      # escalera\n",
        "    return x\n",
        "  elif x==17:\n",
        "    x-=7      # serpiente\n",
        "    return x\n",
        "  elif x>=20:\n",
        "    return 20\n",
        "  else:\n",
        "    return x\n",
        "\n",
        "\n",
        "def conteo():\n",
        "  s = -1\n",
        "  for i in range(10):\n",
        "    s+=1\n",
        "    posicion(Lil.j1(i))\n",
        "    #print(posicion(Lil.j1(i)))\n",
        "    if Lil.x>=20:\n",
        "      Lil.x=0\n",
        "      break\n",
        "  return s\n",
        "\n",
        "N = 1000\n",
        "\n",
        "l1 = (conteo() for i in range(N))\n",
        "\n",
        "print(sum(l1)/N)\n"
      ],
      "metadata": {
        "colab": {
          "base_uri": "https://localhost:8080/"
        },
        "id": "BRU9NtCj2eFF",
        "outputId": "ca7a47f5-510b-421d-dfde-692279b265a3"
      },
      "execution_count": 355,
      "outputs": [
        {
          "output_type": "stream",
          "name": "stdout",
          "text": [
            "6.127\n"
          ]
        }
      ]
    }
  ]
}