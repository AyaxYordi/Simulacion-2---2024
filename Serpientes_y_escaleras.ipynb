{
  "nbformat": 4,
  "nbformat_minor": 0,
  "metadata": {
    "colab": {
      "provenance": [],
      "authorship_tag": "ABX9TyOt7pkWoRVFmE0bDfFYh0am"
    },
    "kernelspec": {
      "name": "python3",
      "display_name": "Python 3"
    },
    "language_info": {
      "name": "python"
    }
  },
  "cells": [
    {
      "cell_type": "markdown",
      "source": [
        "# Juego de serpientes y escaleras\n",
        "\n",
        "Primero realizaremos una simulación del juego y luego se procede a resolverse de manera analítica.\n",
        "\n",
        "Para resolverlo por vía simulación, primero importamos las librerías que se usarán para el código."
      ],
      "metadata": {
        "id": "qLxh7hNQLg6r"
      }
    },
    {
      "cell_type": "code",
      "source": [
        "from random import random\n",
        "from math import *"
      ],
      "metadata": {
        "id": "9yAa6Vf4FBs_"
      },
      "execution_count": 356,
      "outputs": []
    },
    {
      "cell_type": "markdown",
      "source": [
        "Creamos nuestro dado."
      ],
      "metadata": {
        "id": "8SZ6doj7FEGk"
      }
    },
    {
      "cell_type": "code",
      "source": [
        "dado = lambda : floor(6*random()+1)\n",
        "\n",
        "for i in range(10):\n",
        "  print(dado())"
      ],
      "metadata": {
        "colab": {
          "base_uri": "https://localhost:8080/"
        },
        "id": "cBSwUjTyFMEN",
        "outputId": "1e9e2ab6-ccf0-4fb1-a8bb-b6f35015cb1d"
      },
      "execution_count": 361,
      "outputs": [
        {
          "output_type": "stream",
          "name": "stdout",
          "text": [
            "5\n",
            "4\n",
            "1\n",
            "1\n",
            "1\n",
            "3\n",
            "6\n",
            "3\n",
            "2\n",
            "2\n"
          ]
        }
      ]
    },
    {
      "cell_type": "markdown",
      "source": [
        "Como el estudio de este juego es un proceso estocástico, su ecuación es recursiva y para evitar la recursividad se creará un objeto para que el número de iteraciones sea rápido."
      ],
      "metadata": {
        "id": "WH1wX-ACFM7x"
      }
    },
    {
      "cell_type": "code",
      "source": [
        "class Juego:\n",
        "  x = 1\n",
        "  def lanzamiento(n):\n",
        "    if n==0:\n",
        "      return Juego.x\n",
        "    else:\n",
        "      Juego.x+=dado()\n",
        "      return Juego.x\n",
        "\n",
        "def posicion(x):\n",
        "  if x==3:\n",
        "    x+=8      # escalera\n",
        "    return x\n",
        "  elif x==13:\n",
        "    x-=9      # serpiente\n",
        "    return x\n",
        "  elif x==15:\n",
        "    x+=4      # escalera\n",
        "    return x\n",
        "  elif x==17:\n",
        "    x-=7      # serpiente\n",
        "    return x\n",
        "  elif x>=20:\n",
        "    return 20\n",
        "  else:\n",
        "    return x\n",
        "\n",
        "\n",
        "def conteo():\n",
        "  s = -1\n",
        "  for i in range(10):\n",
        "    s+=1\n",
        "    posicion(Juego.lanzamiento(i))\n",
        "    print(posicion(Juego.lanzamiento(i)))\n",
        "    if Juego.x>=20:\n",
        "      Juego.x=1\n",
        "      break\n",
        "  return s\n",
        "\n",
        "N = 1000\n",
        "\n",
        "l1 = (conteo() for i in range(N))\n",
        "\n",
        "#print(sum(l1)/N)\n",
        "for i in range(5):\n",
        "  print(\"tiradas: {0}\".format(conteo()))"
      ],
      "metadata": {
        "colab": {
          "base_uri": "https://localhost:8080/"
        },
        "id": "BRU9NtCj2eFF",
        "outputId": "d6b9f4d1-b454-480b-caf0-31fafd2ab179"
      },
      "execution_count": 363,
      "outputs": [
        {
          "output_type": "stream",
          "name": "stdout",
          "text": [
            "1\n",
            "8\n",
            "19\n",
            "20\n",
            "tiradas: 3\n",
            "1\n",
            "9\n",
            "18\n",
            "20\n",
            "tiradas: 3\n",
            "1\n",
            "10\n",
            "19\n",
            "20\n",
            "tiradas: 3\n",
            "1\n",
            "5\n",
            "19\n",
            "19\n",
            "20\n",
            "tiradas: 4\n",
            "1\n",
            "10\n",
            "16\n",
            "20\n",
            "tiradas: 3\n"
          ]
        }
      ]
    }
  ]
}