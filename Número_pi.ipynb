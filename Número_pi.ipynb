{
  "nbformat": 4,
  "nbformat_minor": 0,
  "metadata": {
    "colab": {
      "provenance": [],
      "authorship_tag": "ABX9TyPMoDBXv3usT43s1SWMRXG/"
    },
    "kernelspec": {
      "name": "python3",
      "display_name": "Python 3"
    },
    "language_info": {
      "name": "python"
    }
  },
  "cells": [
    {
      "cell_type": "markdown",
      "source": [
        "## Estimar el número $\\pi$"
      ],
      "metadata": {
        "id": "z6swbkbZgpd-"
      }
    },
    {
      "cell_type": "markdown",
      "source": [
        "# Calcular el número $\\pi$ mediante el método de Monte Carlo\n",
        "\n",
        "**1.-** Dibujamos un cuadrado de lado $l$ y dentro del cuadrado dibujamos un circulo con radio $r=l/2$.\n",
        "\n",
        "**2.-** Dividimos el área del cuadrado entre el área del círculo. Primero tenemos que el área del cuadrado y del círculo están dados por:\n",
        "$$A_{\\square}=l^2$$\n",
        "$$A_{\\circ}=\\pi r^2$$\n",
        "Expresando el área del círculo en términos del lado del cuadrado se tiene lo siguiente:\n",
        "\n",
        "$$A_{\\circ}=\\pi r^2=\\pi(\\dfrac{l}{2})^2$$\n",
        "$$A_{\\circ}=\\pi\\dfrac{l^2}{4}$$\n",
        "\n",
        "Realizando la división se tiene que:\n",
        "$$\\dfrac{A_{\\square}}{A_{\\circ}}=\\dfrac{l^2}{\\dfrac{\\pi l^2}{4}}$$\n",
        "\n",
        "$$\\dfrac{A_{\\square}}{A_{\\circ}}=\\dfrac{4}{\\pi}$$\n",
        "\n",
        "$$\\pi=\\dfrac{4A_{\\circ}}{A_{\\square}}$$\n",
        "\n",
        "**3.-** Para estimar las areas se van a utilizar números aleatorios, dibujaremos puntos de manera aleatoria en la figura del punto numero **1** se va a denotar $N_H$ al número de puntos que caen dentro del circulo y $N$ al número puntos que caen dentro del cuadrado o el número total de puntos que se generan.\n",
        "\n",
        "Como los puntos van a estar tapando de a poco toda la superficie, la siguiente proporción $\\dfrac{N_H}{N}=\\dfrac{A_{\\circ}}{A_{\\square}}$ es una buena aproximación.\n",
        "\n",
        "Con esto podemos aproximar pi como $\\dfrac{4N_H}{N}=\\pi$\n",
        "\n",
        "Ahora se va a intentar estimar el número $\\pi$"
      ],
      "metadata": {
        "id": "mqiMWMrArM9V"
      }
    },
    {
      "cell_type": "markdown",
      "source": [
        "**Paso 1.** Sea\n",
        "\n",
        "$N_H$ : el número de puntos que caen dentro del circulo\n",
        "\n",
        "$N$: el número de puntos generados\n",
        "\n",
        "$V$: punto aleatorio"
      ],
      "metadata": {
        "id": "O9Yv2VfaQ_Us"
      }
    },
    {
      "cell_type": "markdown",
      "source": [
        "**Paso 2.**  $V$ sigue una distribución uniforme con parametros $a=-1 , b=1$ o sea $V\\sim U(-1,1)$ escribimos la función que regrese puntos aleatoerios."
      ],
      "metadata": {
        "id": "28vi6krbV44V"
      }
    },
    {
      "cell_type": "code",
      "source": [
        "import numpy as np\n",
        "import time\n",
        "\n",
        "\"\"\"\n",
        "  Este es un generador de puntos personalizado que se basa en el método de generador lineal congruencial\n",
        "\"\"\"\n",
        "class PuntoAleatorio:\n",
        "  x =  1   # semilla para x\n",
        "  y = np.arange(2**(17)-1,2**(19)-1,4000)[99-int(time.time()%100)] # semilla para y\n",
        "  n = 0\n",
        "  def u(a,b):       # Generador lineal congruencial\n",
        "    if PuntoAleatorio.n == 0:\n",
        "      PuntoAleatorio.n+=1\n",
        "      return np.array([ a+(b-a)*( PuntoAleatorio.x/(2**(32)+1) ), a+(b-a)*( PuntoAleatorio.y/(2**(31)-1) )])\n",
        "    else:\n",
        "      PuntoAleatorio.n+=1\n",
        "\n",
        "      PuntoAleatorio.x*=(2**(19)-1)\n",
        "      PuntoAleatorio.x%=(2**(32)+1)\n",
        "\n",
        "      PuntoAleatorio.y*=274177\n",
        "      PuntoAleatorio.y%=(2**(31)-1)\n",
        "\n",
        "      return np.array([ a+(b-a)*( PuntoAleatorio.x/(2**(32)+1) ), a+(b-a)*( PuntoAleatorio.y/(2**(31)-1) )]) # punto aleatorio\n",
        "\"\"\"\n",
        "# Generar 50 puntos aleatorios\n",
        "for i in range(50):\n",
        "  print(PuntoAleatorio.u(-1,1))\n",
        "\"\"\"\n",
        "v = np.arange(2**(17)-1,2**(19)-1,4000)\n",
        "print(len(v))\n",
        "for i in v:\n",
        "  #print(i)"
      ],
      "metadata": {
        "id": "5-DSlp9Fl6wH"
      },
      "execution_count": null,
      "outputs": []
    }
  ]
}