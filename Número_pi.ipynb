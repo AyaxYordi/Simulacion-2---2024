{
  "nbformat": 4,
  "nbformat_minor": 0,
  "metadata": {
    "colab": {
      "provenance": [],
      "authorship_tag": "ABX9TyOuGQI62LrkUjvaq1ZwTfL1"
    },
    "kernelspec": {
      "name": "python3",
      "display_name": "Python 3"
    },
    "language_info": {
      "name": "python"
    }
  },
  "cells": [
    {
      "cell_type": "markdown",
      "source": [
        "## Estimar el número $\\pi$"
      ],
      "metadata": {
        "id": "z6swbkbZgpd-"
      }
    },
    {
      "cell_type": "markdown",
      "source": [
        "# Calcular el número $\\pi$ mediante el método de Monte Carlo\n",
        "\n",
        "**1.-** Dibujamos un cuadrado de lado $l$ y dentro del cuadrado dibujamos un circulo con radio $r=l/2$.\n",
        "\n",
        "**2.-** Dividimos el área del cuadrado entre el área del círculo. Primero tenemos que el área del cuadrado y del círculo están dados por:\n",
        "$$A_{\\square}=l^2$$\n",
        "$$A_{\\circ}=\\pi r^2$$\n",
        "Expresando el área del círculo en términos del lado del cuadrado se tiene lo siguiente:\n",
        "\n",
        "$$A_{\\circ}=\\pi r^2=\\pi(\\dfrac{l}{2})^2$$\n",
        "$$A_{\\circ}=\\pi\\dfrac{l^2}{4}$$\n",
        "\n",
        "Realizando la división se tiene que:\n",
        "$$\\dfrac{A_{\\square}}{A_{\\circ}}=\\dfrac{l^2}{\\dfrac{\\pi l^2}{4}}$$\n",
        "\n",
        "$$\\dfrac{A_{\\square}}{A_{\\circ}}=\\dfrac{4}{\\pi}$$\n",
        "\n",
        "$$\\pi=\\dfrac{4A_{\\circ}}{A_{\\square}}$$"
      ],
      "metadata": {
        "id": "mqiMWMrArM9V"
      }
    },
    {
      "cell_type": "code",
      "execution_count": null,
      "metadata": {
        "id": "MXGRJQOEgH-I"
      },
      "outputs": [],
      "source": []
    }
  ]
}