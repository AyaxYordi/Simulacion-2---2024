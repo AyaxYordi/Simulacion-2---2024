{
  "nbformat": 4,
  "nbformat_minor": 0,
  "metadata": {
    "colab": {
      "provenance": [],
      "authorship_tag": "ABX9TyN3hd/+K0aCPJeiaWOV2QzD"
    },
    "kernelspec": {
      "name": "python3",
      "display_name": "Python 3"
    },
    "language_info": {
      "name": "python"
    }
  },
  "cells": [
    {
      "cell_type": "markdown",
      "source": [
        "## Estimar el número $\\pi$"
      ],
      "metadata": {
        "id": "z6swbkbZgpd-"
      }
    },
    {
      "cell_type": "markdown",
      "source": [
        "# Calcular el número $\\pi$ mediante el método de Monte Carlo\n",
        "\n",
        "**1.-** Dibujamos un cuadrado de lado $l$ y dentro del cuadrado dibujamos un circulo con radio $r=l/2$.\n",
        "\n",
        "**2.-** Dividimos el área del cuadrado entre el área del círculo. Primero tenemos que el área del cuadrado y del círculo están dados por:\n",
        "$$A_{\\square}=l^2$$\n",
        "$$A_{\\circ}=\\pi r^2$$\n",
        "Expresando el área del círculo en términos del lado del cuadrado se tiene lo siguiente:\n",
        "\n",
        "$$A_{\\circ}=\\pi r^2=\\pi(\\dfrac{l}{2})^2$$\n",
        "$$A_{\\circ}=\\pi\\dfrac{l^2}{4}$$\n",
        "\n",
        "Realizando la división se tiene que:\n",
        "$$\\dfrac{A_{\\square}}{A_{\\circ}}=\\dfrac{l^2}{\\dfrac{\\pi l^2}{4}}$$\n",
        "\n",
        "$$\\dfrac{A_{\\square}}{A_{\\circ}}=\\dfrac{4}{\\pi}$$\n",
        "\n",
        "$$\\pi=\\dfrac{4A_{\\circ}}{A_{\\square}}$$\n",
        "\n",
        "**3.-** Para estimar las areas se van a utilizar números aleatorios, dibujaremos puntos de manera aleatoria en la figura del punto numero **1** se va a denotar $N_H$ al número de puntos que caen dentro del circulo y $N$ al número puntos que caen dentro del cuadrado o el número total de puntos que se generan.\n",
        "\n",
        "Como los puntos van a estar tapando de a poco toda la superficie, la siguiente proporción $\\dfrac{N_H}{N}=\\dfrac{A_{\\circ}}{A_{\\square}}$ es una buena aproximación.\n",
        "\n",
        "Con esto podemos aproximar pi como $\\dfrac{4N_H}{N}=\\pi$\n",
        "\n",
        "Ahora se va a intentar estimar el número $\\pi$"
      ],
      "metadata": {
        "id": "mqiMWMrArM9V"
      }
    },
    {
      "cell_type": "markdown",
      "source": [
        "**Paso 1.** Sea\n",
        "\n",
        "$N_H$ : el número de puntos que caen dentro del circulo\n",
        "\n",
        "$N$: el número de puntos generados\n",
        "\n",
        "$V$: punto aleatorio"
      ],
      "metadata": {
        "id": "O9Yv2VfaQ_Us"
      }
    },
    {
      "cell_type": "markdown",
      "source": [
        "**Paso 2.**  $V$ sigue una distribución uniforme con parametros $a=-1 , b=1$ o sea $V\\sim U(-1,1)$ escribimos la función que regrese puntos aleatoerios."
      ],
      "metadata": {
        "id": "28vi6krbV44V"
      }
    },
    {
      "cell_type": "code",
      "source": [
        "import numpy as np\n",
        "import time\n",
        "\n",
        "\"\"\"\n",
        "  | Este es un generador de puntos personalizado que se basa en el método de generador\n",
        "  v lineal congruencial\n",
        "\"\"\"\n",
        "class PuntoAleatorio:\n",
        "  x = np.arange(2**(17)-1,2**(19)-1,3900)[int(time.time()%100)]    # semilla para x\n",
        "  y = np.arange(2**(17)-1,2**(19)-1,3900)[100-int(time.time()%100)] # semilla para y\n",
        "  n = 0\n",
        "  def u(a,b):       # Generador lineal congruencial\n",
        "    if PuntoAleatorio.n == 0:\n",
        "      PuntoAleatorio.n+=1\n",
        "\n",
        "      PuntoAleatorio.x*=(2**(19)-1)\n",
        "      PuntoAleatorio.x%=(2**(32)+1)\n",
        "\n",
        "      PuntoAleatorio.y*=274177\n",
        "      PuntoAleatorio.y%=(2**(31)-1)\n",
        "\n",
        "      return np.array([ a+(b-a)*( PuntoAleatorio.x/(2**(32)+1) ), a+(b-a)*( PuntoAleatorio.y/(2**(31)-1) )])\n",
        "    else:\n",
        "      PuntoAleatorio.n+=1\n",
        "\n",
        "      PuntoAleatorio.x*=(2**(19)-1)\n",
        "      PuntoAleatorio.x%=(2**(32)+1)\n",
        "\n",
        "      PuntoAleatorio.y*=274177\n",
        "      PuntoAleatorio.y%=(2**(31)-1)\n",
        "\n",
        "      return np.array([ a+(b-a)*( PuntoAleatorio.x/(2**(32)+1) ), a+(b-a)*( PuntoAleatorio.y/(2**(31)-1) )]) # punto aleatorio\n",
        "\n",
        "# Generar 50 puntos aleatorios\n",
        "for i in range(50):\n",
        "  print(PuntoAleatorio.u(-1,1))\n"
      ],
      "metadata": {
        "id": "5-DSlp9Fl6wH",
        "colab": {
          "base_uri": "https://localhost:8080/"
        },
        "outputId": "0e9b1d11-310b-4cdd-f1be-ba6c0f78a3ce"
      },
      "execution_count": 139,
      "outputs": [
        {
          "output_type": "stream",
          "name": "stdout",
          "text": [
            "[-0.4408275  -0.73452767]\n",
            "[-0.12833255 -0.59392314]\n",
            "[ 0.91045271 -0.06453556]\n",
            "[ 0.52071056 -0.16537232]\n",
            "[-0.22084737  0.71212557]\n",
            "[0.59550812 0.45327591]\n",
            "[-0.83593726 -0.16945834]\n",
            "[0.96384692 0.42109656]\n",
            "[0.40822781 0.99032997]\n",
            "[ 0.53349482 -0.29913979]\n",
            "[0.39820275 0.75007703]\n",
            "[ 0.52643126 -0.12949651]\n",
            "[-0.93604142 -0.96506037]\n",
            "[-0.34594881  0.64216116]\n",
            "[-0.46541032 -0.17923105]\n",
            "[-0.5825065  0.969414 ]\n",
            "[-0.58331595 -0.9771057 ]\n",
            "[-0.97044585  0.09012602]\n",
            "[-0.14357143  0.48062126]\n",
            "[-0.63387687 -0.70495664]\n",
            "[ 0.59989663 -0.89678179]\n",
            "[ 0.002203   -0.94160895]\n",
            "[-0.99768666  0.48278739]\n",
            "[-0.14782143 -0.80177233]\n",
            "[-0.854724    0.46817023]\n",
            "[-0.68215897 -0.49109662]\n",
            "[0.92137798 0.60119438]\n",
            "[ 0.49757693 -0.3288218 ]\n",
            "[-0.88472263  0.62652584]\n",
            "[-0.57305511  0.97563931]\n",
            "[ 0.65308112 -0.14174418]\n",
            "[-0.05757979 -0.99511137]\n",
            "[-0.33511338 -0.65021777]\n",
            "[ 0.41291307 -0.75687878]\n",
            "[ 0.95654336 -0.75201141]\n",
            "[-0.75243649 -0.23359387]\n",
            "[-0.67044529 -0.06536323]\n",
            "[0.24926248 0.90448051]\n",
            "[-0.919581   -0.24711464]\n",
            "[-0.36289952  0.84900838]\n",
            "[0.49856394 0.57044801]\n",
            "[ 0.59134102 -0.27493301]\n",
            "[ 0.41066199 -0.30890474]\n",
            "[ 0.74150956 -0.57354171]\n",
            "[-0.17604832  0.05484511]\n",
            "[ 0.15397508 -0.73097874]\n",
            "[-0.86480931  0.44244409]\n",
            "[-0.27876188 -0.00686206]\n",
            "[0.77012892 0.58156711]\n",
            "[0.57926438 0.32636647]\n"
          ]
        }
      ]
    },
    {
      "cell_type": "markdown",
      "source": [
        "**Paso 3.** Realizar el dibujo del cuadrado y el circulo."
      ],
      "metadata": {
        "id": "eI7gYyVWofVx"
      }
    },
    {
      "cell_type": "code",
      "source": [],
      "metadata": {
        "id": "8guFwGilo6A8"
      },
      "execution_count": null,
      "outputs": []
    }
  ]
}