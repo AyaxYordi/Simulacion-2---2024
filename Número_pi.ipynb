{
  "nbformat": 4,
  "nbformat_minor": 0,
  "metadata": {
    "colab": {
      "provenance": [],
      "authorship_tag": "ABX9TyMRauMe6wJmSuCuCpukC6Ij"
    },
    "kernelspec": {
      "name": "python3",
      "display_name": "Python 3"
    },
    "language_info": {
      "name": "python"
    }
  },
  "cells": [
    {
      "cell_type": "markdown",
      "source": [
        "## Estimar el número $\\pi$"
      ],
      "metadata": {
        "id": "z6swbkbZgpd-"
      }
    },
    {
      "cell_type": "markdown",
      "source": [
        "# Calcular el número $\\pi$ mediante el método de Monte Carlo\n",
        "\n",
        "**1.-** Dibujamos un cuadrado de lado $l$ y dentro del cuadrado dibujamos un circulo con radio $r=l/2$.\n",
        "\n",
        "**2.-** Dividimos el área del cuadrado entre el área del círculo. Primero tenemos que el área del cuadrado y del círculo están dados por:\n",
        "$$A_{\\square}=l^2$$\n",
        "$$A_{\\circ}=\\pi r^2$$\n",
        "Expresando el área del círculo en términos del lado del cuadrado se tiene lo siguiente:\n",
        "\n",
        "$$A_{\\circ}=\\pi r^2=\\pi(\\dfrac{l}{2})^2$$\n",
        "$$A_{\\circ}=\\pi\\dfrac{l^2}{4}$$\n",
        "\n",
        "Realizando la división se tiene que:\n",
        "$$\\dfrac{A_{\\square}}{A_{\\circ}}=\\dfrac{l^2}{\\dfrac{\\pi l^2}{4}}$$\n",
        "\n",
        "$$\\dfrac{A_{\\square}}{A_{\\circ}}=\\dfrac{4}{\\pi}$$\n",
        "\n",
        "$$\\pi=\\dfrac{4A_{\\circ}}{A_{\\square}}$$\n",
        "\n",
        "**3.-** Para estimar las areas se van a utilizar números aleatorios, dibujaremos puntos de manera aleatoria en la figura del punto numero **1** se va a denotar $N_H$ al número de puntos que caen dentro del circulo y $N$ al número puntos que caen dentro del cuadrado o el número total de puntos que se generan.\n",
        "\n",
        "Como los puntos van a estar tapando de a poco toda la superficie, la siguiente proporción $\\dfrac{N_H}{N}=\\dfrac{A_{\\circ}}{A_{\\square}}$ es una buena aproximación.\n",
        "\n",
        "Con esto podemos aproximar pi como $\\dfrac{4N_H}{N}=\\pi$\n",
        "\n",
        "Ahora se va a intentar estimar el número $\\pi$"
      ],
      "metadata": {
        "id": "mqiMWMrArM9V"
      }
    },
    {
      "cell_type": "markdown",
      "source": [
        "**Paso 1.** Sea\n",
        "\n",
        "$N_H$ : el número de puntos que caen dentro del circulo\n",
        "\n",
        "$N$: el número de puntos generados\n",
        "\n",
        "$V$: punto aleatorio"
      ],
      "metadata": {
        "id": "O9Yv2VfaQ_Us"
      }
    },
    {
      "cell_type": "markdown",
      "source": [
        "**Paso 2.**  $V$ sigue una distribución uniforme con parametros $a=-1 , b=1$ o sea $V\\sim U(-1,1)$ escribimos la función que regrese puntos aleatoerios."
      ],
      "metadata": {
        "id": "28vi6krbV44V"
      }
    },
    {
      "cell_type": "code",
      "execution_count": 8,
      "metadata": {
        "id": "MXGRJQOEgH-I",
        "outputId": "d4de784a-d97c-4218-c972-4b24e3c840c9",
        "colab": {
          "base_uri": "https://localhost:8080/"
        }
      },
      "outputs": [
        {
          "output_type": "stream",
          "name": "stdout",
          "text": [
            "30671\n",
            "524287\n",
            "594287\n",
            "664287\n",
            "734287\n",
            "804287\n",
            "874287\n",
            "944287\n",
            "1014287\n",
            "1084287\n",
            "1154287\n",
            "1224287\n",
            "1294287\n",
            "1364287\n",
            "1434287\n",
            "1504287\n",
            "1574287\n",
            "1644287\n",
            "1714287\n",
            "1784287\n",
            "1854287\n",
            "1924287\n",
            "1994287\n",
            "2064287\n",
            "2134287\n",
            "2204287\n",
            "2274287\n",
            "2344287\n",
            "2414287\n",
            "2484287\n",
            "2554287\n",
            "2624287\n",
            "2694287\n",
            "2764287\n",
            "2834287\n",
            "2904287\n",
            "2974287\n",
            "3044287\n",
            "3114287\n",
            "3184287\n",
            "3254287\n",
            "3324287\n",
            "3394287\n",
            "3464287\n",
            "3534287\n",
            "3604287\n",
            "3674287\n",
            "3744287\n",
            "3814287\n",
            "3884287\n",
            "3954287\n",
            "4024287\n",
            "4094287\n",
            "4164287\n",
            "4234287\n",
            "4304287\n",
            "4374287\n",
            "4444287\n",
            "4514287\n",
            "4584287\n",
            "4654287\n",
            "4724287\n",
            "4794287\n",
            "4864287\n",
            "4934287\n",
            "5004287\n",
            "5074287\n",
            "5144287\n",
            "5214287\n",
            "5284287\n",
            "5354287\n",
            "5424287\n",
            "5494287\n",
            "5564287\n",
            "5634287\n",
            "5704287\n",
            "5774287\n",
            "5844287\n",
            "5914287\n",
            "5984287\n",
            "6054287\n",
            "6124287\n",
            "6194287\n",
            "6264287\n",
            "6334287\n",
            "6404287\n",
            "6474287\n",
            "6544287\n",
            "6614287\n",
            "6684287\n",
            "6754287\n",
            "6824287\n",
            "6894287\n",
            "6964287\n",
            "7034287\n",
            "7104287\n",
            "7174287\n",
            "7244287\n",
            "7314287\n",
            "7384287\n",
            "7454287\n"
          ]
        }
      ],
      "source": [
        "import numpy as np\n",
        "\n",
        "\"\"\"\n",
        "  Este es un generador de numeros psudoaleatorios personalizado\n",
        "\"\"\"\n",
        "class PuntoAleatorio:\n",
        "  semilla = np.arange(2**(19)-1,2**(31),70000)\n",
        "\n",
        "\n",
        "v1 = np.arange(2**(19)-1,2**(31),70000)\n",
        "print(len(v1))\n",
        "for i in range(100):\n",
        "  print(v1[i])\n"
      ]
    }
  ]
}