{
  "nbformat": 4,
  "nbformat_minor": 0,
  "metadata": {
    "colab": {
      "provenance": [],
      "authorship_tag": "ABX9TyOMd23LagLK0m65nPG4F3Pj"
    },
    "kernelspec": {
      "name": "python3",
      "display_name": "Python 3"
    },
    "language_info": {
      "name": "python"
    }
  },
  "cells": [
    {
      "cell_type": "markdown",
      "source": [
        "## Estimar el número $\\pi$"
      ],
      "metadata": {
        "id": "z6swbkbZgpd-"
      }
    },
    {
      "cell_type": "markdown",
      "source": [
        "# Calcular el número $\\pi$ mediante el método de Monte Carlo\n",
        "\n",
        "**1.-** Dibujamos un cuadrado de lado $l$ y dentro del cuadrado dibujamos un circulo con radio $r=l/2$.\n",
        "\n",
        "**2.-** Dividimos el área del cuadrado entre el área del círculo. Primero tenemos que el área del cuadrado y del círculo están dados por:\n",
        "$$A_{\\square}=l^2$$\n",
        "$$A_{\\circ}=\\pi r^2$$\n",
        "Expresando el área del círculo en términos del lado del cuadrado se tiene lo siguiente:\n",
        "\n",
        "$$A_{\\circ}=\\pi r^2=\\pi(\\dfrac{l}{2})^2$$"
      ],
      "metadata": {
        "id": "mqiMWMrArM9V"
      }
    },
    {
      "cell_type": "code",
      "execution_count": null,
      "metadata": {
        "id": "MXGRJQOEgH-I"
      },
      "outputs": [],
      "source": []
    }
  ]
}