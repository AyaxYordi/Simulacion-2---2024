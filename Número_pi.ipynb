{
  "nbformat": 4,
  "nbformat_minor": 0,
  "metadata": {
    "colab": {
      "provenance": [],
      "authorship_tag": "ABX9TyPxxPePxaAZdp/tdpnIXjYR"
    },
    "kernelspec": {
      "name": "python3",
      "display_name": "Python 3"
    },
    "language_info": {
      "name": "python"
    }
  },
  "cells": [
    {
      "cell_type": "markdown",
      "source": [
        "## Estimar el número $\\pi$"
      ],
      "metadata": {
        "id": "z6swbkbZgpd-"
      }
    },
    {
      "cell_type": "markdown",
      "source": [
        "# Calcular el número $\\pi$ mediante el método de Monte Carlo\n",
        "\n",
        "**1.-** Dibujamos un cuadrado de lado $l$ y dentro del cuadrado dibujamos un circulo con radio $r=l/2$.\n",
        "\n",
        "**2.-** Dividimos el área del cuadrado entre el área del círculo. Primero tenemos que el área del cuadrado y del círculo están dados por:\n",
        "$$A_{\\square}=l^2$$\n",
        "$$A_{\\circ}=\\pi r^2$$\n",
        "Expresando el área del círculo en términos del lado del cuadrado se tiene lo siguiente:\n",
        "\n",
        "$$A_{\\circ}=\\pi r^2=\\pi(\\dfrac{l}{2})^2$$\n",
        "$$A_{\\circ}=\\pi\\dfrac{l^2}{4}$$\n",
        "\n",
        "Realizando la división se tiene que:\n",
        "$$\\dfrac{A_{\\square}}{A_{\\circ}}=\\dfrac{l^2}{\\dfrac{\\pi l^2}{4}}$$\n",
        "\n",
        "$$\\dfrac{A_{\\square}}{A_{\\circ}}=\\dfrac{4}{\\pi}$$\n",
        "\n",
        "$$\\pi=\\dfrac{4A_{\\circ}}{A_{\\square}}$$\n",
        "\n",
        "**3.-** Para estimar las areas se van a utilizar números aleatorios, dibujaremos puntos de manera aleatoria en la figura del punto numero **1** se va a denotar $N_H$ al número de puntos que caen dentro del circulo y $N$ al número puntos que caen dentro del cuadrado o el número total de puntos que se generan.\n",
        "\n",
        "Como los puntos van a estar tapando de a poco toda la superficie, la siguiente proporción $\\dfrac{N_H}{N}=\\dfrac{A_{\\circ}}{A_{\\square}}$ es una buena aproximación.\n",
        "\n",
        "Con esto podemos aproximar pi como $\\dfrac{4N_H}{N}=\\pi$\n",
        "\n",
        "Ahora se va a intentar estimar el número $\\pi$"
      ],
      "metadata": {
        "id": "mqiMWMrArM9V"
      }
    },
    {
      "cell_type": "markdown",
      "source": [
        "**Paso 1.** Sea\n",
        "\n",
        "$N_H$ : el número de puntos que caen dentro del circulo\n",
        "\n",
        "$N$: el número de puntos generados\n",
        "\n",
        "$V$: punto aleatorio"
      ],
      "metadata": {
        "id": "O9Yv2VfaQ_Us"
      }
    },
    {
      "cell_type": "markdown",
      "source": [
        "**Paso 2.**  $V$ sigue una distribución uniforme con parametros $a=-1 , b=1$ o sea $V\\sim U(-1,1)$ escribimos la función que regrese puntos aleatoerios."
      ],
      "metadata": {
        "id": "28vi6krbV44V"
      }
    },
    {
      "cell_type": "code",
      "source": [
        "import numpy as np\n",
        "import time\n",
        "\n",
        "\"\"\"\n",
        "  Este es un generador de puntos personalizado que se basa en el método de generador lineal congruencial\n",
        "\"\"\"\n",
        "class PuntoAleatorio:\n",
        "  x = np.arange(2**(17)-1,2**(19)-1,3900)[int(time.time()%100)]    # semilla para x\n",
        "  y = np.arange(2**(17)-1,2**(19)-1,3900)[99-int(time.time()%100)] # semilla para y\n",
        "  n = 0\n",
        "  def u(a,b):       # Generador lineal congruencial\n",
        "    if PuntoAleatorio.n == 0:\n",
        "      PuntoAleatorio.n+=1\n",
        "      return np.array([ a+(b-a)*( PuntoAleatorio.x/(2**(32)+1) ), a+(b-a)*( PuntoAleatorio.y/(2**(31)-1) )])\n",
        "    else:\n",
        "      PuntoAleatorio.n+=1\n",
        "\n",
        "      PuntoAleatorio.x*=(2**(19)-1)\n",
        "      PuntoAleatorio.x%=(2**(32)+1)\n",
        "\n",
        "      PuntoAleatorio.y*=274177\n",
        "      PuntoAleatorio.y%=(2**(31)-1)\n",
        "\n",
        "      return np.array([ a+(b-a)*( PuntoAleatorio.x/(2**(32)+1) ), a+(b-a)*( PuntoAleatorio.y/(2**(31)-1) )]) # punto aleatorio\n",
        "\n",
        "# Generar 50 puntos aleatorios\n",
        "for i in range(50):\n",
        "  print(PuntoAleatorio.u(-1,1))\n"
      ],
      "metadata": {
        "id": "5-DSlp9Fl6wH",
        "outputId": "1f4d0d89-d134-49cd-921e-1f1fdda53c64",
        "colab": {
          "base_uri": "https://localhost:8080/"
        }
      },
      "execution_count": 84,
      "outputs": [
        {
          "output_type": "stream",
          "name": "stdout",
          "text": [
            "[-0.9997846  -0.99982708]\n",
            "[-0.06784238  0.41057548]\n",
            "[-0.87831633  0.35284894]\n",
            "[ 0.16638741 -0.93534918]\n",
            "[0.75778661 0.76727314]\n",
            "[-0.33075509  0.64796977]\n",
            "[-0.59461957  0.40637485]\n",
            "[0.68832009 0.63776845]\n",
            "[-0.72636798 -0.55840092]\n",
            "[ 0.71193028 -0.6878721 ]\n",
            "[-0.20994199 -0.70991363]\n",
            "[0.14441586 0.01094932]\n",
            "[-0.64260243  0.0511165 ]\n",
            "[-0.10182596  0.96800232]\n",
            "[-0.02718993 -0.02784017]\n",
            "[0.67306727 0.866068  ]\n",
            "[ 0.42121092 -0.07500965]\n",
            "[-0.59179456  0.08018042]\n",
            "[-0.1951205  -0.37193358]\n",
            "[0.85688749 0.36757942]\n",
            "[ 0.96905772 -0.17690607]\n",
            "[0.36419801 0.42538785]\n",
            "[ 0.28285226 -0.43653673]\n",
            "[-0.23857526 -0.3315332 ]\n",
            "[ 0.0917538  -0.77812053]\n",
            "[-0.67611559 -0.75324708]\n",
            "[-0.61176575  0.97502134]\n",
            "[-0.82895547  0.4248997 ]\n",
            "[-0.57731541 -0.27474438]\n",
            "[-0.96326353 -0.58985545]\n",
            "[-0.54797142 -0.79797398]\n",
            "[-0.29192751 -0.11117631]\n",
            "[0.20199732 0.01166051]\n",
            "[ 0.57129345 -0.95756782]\n",
            "[-0.27241299  0.92696599]\n",
            "[-0.58924809  0.7550254 ]\n",
            "[0.88534053 0.59953377]\n",
            "[0.53044495 0.36970411]\n",
            "[-0.60802435  0.36383722]\n",
            "[ 0.73712689 -0.20267505]\n",
            "[ 0.04732902 -0.83635015]\n",
            "[-0.00790609  0.02406689]\n",
            "[0.93942561 0.58697062]\n",
            "[ 0.63504467 -0.15564607]\n",
            "[-0.33275403 -0.57342238]\n",
            "[-0.61239578  0.77120891]\n",
            "[ 0.85380354 -0.25336096]\n",
            "[0.0981186  0.25250267]\n",
            "[0.30653251 0.42357604]\n",
            "[-0.99077403  0.80662179]\n"
          ]
        }
      ]
    }
  ]
}