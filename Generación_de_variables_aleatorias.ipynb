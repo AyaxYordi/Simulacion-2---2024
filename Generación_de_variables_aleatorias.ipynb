{
  "nbformat": 4,
  "nbformat_minor": 0,
  "metadata": {
    "colab": {
      "provenance": [],
      "authorship_tag": "ABX9TyMtAtWQ/BDiXfksflqkqLyd"
    },
    "kernelspec": {
      "name": "python3",
      "display_name": "Python 3"
    },
    "language_info": {
      "name": "python"
    }
  },
  "cells": [
    {
      "cell_type": "markdown",
      "source": [
        "# Variables aleatorias continuas\n",
        "\n",
        "# Uniforme\n",
        "\n",
        "Generar una variable aleatoria con distribución uniforme. $X\\sim U(0,1)$\n",
        "\n",
        "Suponiendo que no existe la librería random, una manera de generar la uniforme $U(0,1)$ es mediante el método del generador lineal congruencial.\n",
        "\n",
        "$$z_n=(az_{n-1}+c)\\text{mod} m$$\n",
        "\n",
        "$$u_n=z_n/m$$\n",
        "\n",
        "Donde:\n",
        "\n",
        "$$a \\in Z^{+} , a<m$$\n",
        "$$c \\in Z^{+} , c<m$$\n",
        "$$m \\in Z^{+}$$\n",
        "\n",
        "Para evitar la recursión, una manera de generar estos números es con el uso de programación orientada a objetos.\n",
        "\n",
        "Primero importamos las librerías."
      ],
      "metadata": {
        "id": "5028R4IKrHc_"
      }
    },
    {
      "cell_type": "code",
      "source": [
        "import time\n",
        "import numpy as np"
      ],
      "metadata": {
        "id": "f1Y6yKUqbIrx"
      },
      "execution_count": 103,
      "outputs": []
    },
    {
      "cell_type": "markdown",
      "source": [
        "La librería ````time```` es para cambiar de semilla cada que se manda a llamar la función ```u()```\n",
        "\n",
        "La librería ````numpy```` es para crear la lista de semillas.\n",
        "\n",
        "Definimos la clase ````Uniforme```` con el atributo ````z````, al atributo ````z```` se le asignará la semilla y también definimos un método llamado ````u()```` al cual no se le pasa ningún parámetro.\n",
        "\n",
        "La función ````u()```` tomará el valor inicial de ````z```` que en este caso es la semilla la cual será extraída de una lista creada de manera arbitraria, la lista de semillas no sigue ningún método o técnica simplemente se crea una lista de números con saltos y de ahí se elegirá la semilla usando la librería time, una vez extraída la semilla se evalúa en la ecuación de recurrencia y ya generado el número este se divide entre $m$ para que retorne un número entre 0 y 1.\n",
        "\n",
        "Para nuestro generador se toman los siguientes valores:\n",
        "\n",
        "$$a = 2^{19}-1$$\n",
        "$$c = 2^{11}-1$$\n",
        "$$m = 2^{31}-1$$\n",
        "\n",
        "El código queda de la siguiente manera.\n",
        "\n"
      ],
      "metadata": {
        "id": "3qzUBqeDbGdb"
      }
    },
    {
      "cell_type": "code",
      "source": [
        "import time\n",
        "import numpy as np\n",
        "\n",
        "class Uniforme:\n",
        "\tz = int(np.arange(2**(11)-1,2**(13)+99,41)[int(time.time()%100)]) # Semillas\n",
        "\tdef u():\n",
        "\t\tUniforme.z *= 2**(19)-1 # a\n",
        "\t\tUniforme.z += 2**(11)-1 # c\n",
        "\t\tUniforme.z %= 2**(31)-1 # m\n",
        "\t\treturn Uniforme.z/(2**(31)-1) # u"
      ],
      "metadata": {
        "id": "3dbAQ7C_cHRo"
      },
      "execution_count": 104,
      "outputs": []
    },
    {
      "cell_type": "markdown",
      "source": [
        "Para probar el codigo imprimimos 10 numeros."
      ],
      "metadata": {
        "id": "VPy0T567cCgi"
      }
    },
    {
      "cell_type": "code",
      "source": [
        "for i in range(10):\n",
        "  print(Uniforme.u())"
      ],
      "metadata": {
        "id": "YeHJIOBeddAO",
        "outputId": "f280ae4d-ce34-4f75-83d3-ed9632f8eca8",
        "colab": {
          "base_uri": "https://localhost:8080/"
        }
      },
      "execution_count": 105,
      "outputs": [
        {
          "output_type": "stream",
          "name": "stdout",
          "text": [
            "0.05029191917287741\n",
            "0.3994283435863575\n",
            "0.08797481380774398\n",
            "0.05120777387693887\n",
            "0.5701435718546358\n",
            "0.862857904686992\n",
            "0.18227558218980003\n",
            "0.7181604968934135\n",
            "0.21243571034280384\n",
            "0.28126945080294713\n"
          ]
        }
      ]
    },
    {
      "cell_type": "markdown",
      "source": [
        "Generar una distribucion uniforme $U(a,b)$\n",
        "\n",
        "1. Generamos $U \\sim U(0,1)$\n",
        "2. Regresamos  $X = (b-a)U+a$\n",
        "\n",
        "Para este código usaremos la librería random para generar una distribución uniforme $U(a,b)$.\n",
        "\n",
        "Importamos las librerías y definimos la función ````u(a,b)```` donde los parámetros son:\n",
        "\n",
        "````a:````: un número real menor que b\n",
        "\n",
        "````b````: un número real\n"
      ],
      "metadata": {
        "id": "cBzocpg1dz9E"
      }
    },
    {
      "cell_type": "code",
      "source": [
        "from random import random\n",
        "\n",
        "u = lambda a,b:(b-a)*random()+a"
      ],
      "metadata": {
        "id": "3KIFC9n_esEr"
      },
      "execution_count": 106,
      "outputs": []
    },
    {
      "cell_type": "markdown",
      "source": [
        "Para probar el código, generamos una uniforme $U(1,7)$ e imprimimos 10 números."
      ],
      "metadata": {
        "id": "4umidfXyevpF"
      }
    },
    {
      "cell_type": "code",
      "source": [
        "for i2 in range(10):\n",
        "\tprint(u(1,7))"
      ],
      "metadata": {
        "id": "kOPOAgYpe70V",
        "colab": {
          "base_uri": "https://localhost:8080/"
        },
        "outputId": "04210f2a-be1c-4c1e-a1b5-a942843d63a5"
      },
      "execution_count": 107,
      "outputs": [
        {
          "output_type": "stream",
          "name": "stdout",
          "text": [
            "3.848829069472564\n",
            "6.503839568307168\n",
            "3.5457766246064457\n",
            "4.705604347583358\n",
            "1.945491566300607\n",
            "4.320859191067244\n",
            "6.860892471958629\n",
            "3.855260707645696\n",
            "2.2461233218861083\n",
            "6.517666162585957\n"
          ]
        }
      ]
    },
    {
      "cell_type": "markdown",
      "source": [
        "# Exponencial\n",
        "\n",
        "Generar variable aleatoria con distribución exponencial. $X\\sim expo(\\beta)$\n",
        "\n",
        "\n",
        "Para generar esta variable se utiliza el método de transformada inversa. No se va a escribir el procedimiento, pero solo se van a escribir los pasos para generar la variable aleatoria.\n",
        "\n",
        "1. Generar $U \\sim U(0,1)$\n",
        "2. Regresar $X=-\\beta ln(U)$\n"
      ],
      "metadata": {
        "id": "0VQ9YCWDe-uz"
      }
    },
    {
      "cell_type": "code",
      "source": [
        "from math import log\n",
        "\n",
        "expo = lambda beta: -beta*log(random())\n",
        "\n",
        "for i3 in range(10):\n",
        "\tprint(expo(3))"
      ],
      "metadata": {
        "id": "rGQV3FUCgVLF",
        "outputId": "b41dee7e-364b-4598-afca-7d7a26a2cae5",
        "colab": {
          "base_uri": "https://localhost:8080/"
        }
      },
      "execution_count": 108,
      "outputs": [
        {
          "output_type": "stream",
          "name": "stdout",
          "text": [
            "2.6308447585679646\n",
            "0.27572317097468735\n",
            "3.7552824897104866\n",
            "0.7303044256561625\n",
            "5.473961406072275\n",
            "2.066746899196345\n",
            "0.34437022844811277\n",
            "7.909254546539877\n",
            "16.909334029224315\n",
            "7.521724246665084\n"
          ]
        }
      ]
    },
    {
      "cell_type": "markdown",
      "source": [
        "# Weibull\n",
        "\n",
        "Generar variable aleatoria con distribución Weibull. $X\\sim weibull(\\alpha,\\beta)$\n",
        "\n",
        "1. Generar $U \\sim U(0,1)$\n",
        "2. Regresar $X=\\beta(-ln(U))^{1/\\alpha}$"
      ],
      "metadata": {
        "id": "Bz1NQCVhgcaX"
      }
    },
    {
      "cell_type": "code",
      "source": [
        "from random import random\n",
        "from math import log\n",
        "\n",
        "weibull = lambda alfa,beta:beta*(-log(random()))**(1/alfa)\n",
        "\n",
        "for i4 in range(10):\n",
        "\tprint(weibull(3,2))"
      ],
      "metadata": {
        "id": "y6LBnOwjg2Kq",
        "outputId": "e4133cb4-7039-4bc3-b115-7a1cdcaddcc1",
        "colab": {
          "base_uri": "https://localhost:8080/"
        }
      },
      "execution_count": 109,
      "outputs": [
        {
          "output_type": "stream",
          "name": "stdout",
          "text": [
            "1.2485153520151246\n",
            "1.8826789977737075\n",
            "1.6315213909918613\n",
            "1.957217589548277\n",
            "0.2729149868479967\n",
            "2.277818045111894\n",
            "2.075328727342336\n",
            "0.7764044291813693\n",
            "2.087434438567445\n",
            "1.8092942683317554\n"
          ]
        }
      ]
    },
    {
      "cell_type": "markdown",
      "source": [
        "# Erlang (Gamma)\n",
        "\n",
        "Variable aleatoria $X \\sim erlang(m,\\beta)$ o $gamma(m,\\beta)$\n",
        "\n",
        "Donde:\n",
        "$$m \\in Z^+ $$\n",
        "$$\\beta \\in \\Re$$\n",
        "\n",
        "Sea $X_1, X_2, ...,X_m$ variables aleatorias independientes que siguen una distribución exponencial de parámetro beta $X_i \\sim expo(\\beta)$ con $i=1,2,...,m$ entonces:\n",
        "\n",
        "$$X_1+X_2+...+X_m \\sim erlang(m,\\beta)$$"
      ],
      "metadata": {
        "id": "hijozpkEg5dy"
      }
    },
    {
      "cell_type": "code",
      "execution_count": 110,
      "metadata": {
        "id": "1Ydq-MfDq-gb",
        "outputId": "0a727e0b-307d-453b-8907-d49df711ac45",
        "colab": {
          "base_uri": "https://localhost:8080/"
        }
      },
      "outputs": [
        {
          "output_type": "stream",
          "name": "stdout",
          "text": [
            "2.7261894178391617\n",
            "2.209768260163686\n",
            "1.5242156079066604\n",
            "1.5769786448793364\n",
            "2.3056296642308394\n",
            "0.9928751249126367\n",
            "5.355826539444748\n",
            "1.8302316540965433\n",
            "3.316246718957786\n",
            "3.7601275667926775\n"
          ]
        }
      ],
      "source": [
        "erlang = lambda m , beta: np.array( [ expo(beta) for i in range(m)] ).sum()\n",
        "\n",
        "for i in range(10):\n",
        "\tprint(erlang(5,0.5))"
      ]
    },
    {
      "cell_type": "markdown",
      "source": [
        "# Beta\n",
        "\n",
        "Variable aleatoria Beta. $X \\sim beta(\\alpha,\\beta)$\n",
        "\n",
        "Si $Y_1 \\sim gamma(\\alpha_1, 1)$ y $Y_2 \\sim gamma(\\alpha_2, 1)$ entonces $\\dfrac{Y_1}{Y_1+Y_2} \\sim beta(\\alpha_1,\\alpha_2)$\n",
        "\n",
        "1. Generar $Y_1 \\sim gamma(\\alpha_1, 1)$ y $Y_2 \\sim gamma(\\alpha_2, 1)$\n",
        "2. Regresar $X=\\dfrac{Y_1}{Y_1+Y_2}$"
      ],
      "metadata": {
        "id": "trHZNSQakcev"
      }
    },
    {
      "cell_type": "code",
      "source": [
        "def beta(a,b):\n",
        "  y1 = erlang(a,1)\n",
        "  y2 = erlang(b,1)\n",
        "  return y1/(y1+y2)\n",
        "\n",
        "for i4 in range(10):\n",
        "  print(beta(4,3))"
      ],
      "metadata": {
        "id": "4sy6hL9KkezB",
        "outputId": "a8302a71-7dfc-479d-fa3a-d267edf818f3",
        "colab": {
          "base_uri": "https://localhost:8080/"
        }
      },
      "execution_count": 111,
      "outputs": [
        {
          "output_type": "stream",
          "name": "stdout",
          "text": [
            "0.7142712869348941\n",
            "0.6296606463102133\n",
            "0.5494374804012746\n",
            "0.8710491712905287\n",
            "0.7649070749938633\n",
            "0.6399411975247666\n",
            "0.5670311598286526\n",
            "0.849374799038827\n",
            "0.2851955539780997\n",
            "0.4404650242214974\n"
          ]
        }
      ]
    },
    {
      "cell_type": "markdown",
      "source": [
        "# Normal\n",
        "\n",
        "Generar variable aleatoria normal. $X\\sim N(0,1)$\n",
        "\n",
        "Para generar esta variable se va a utilizar la función ``random()`` de la libreria ``random`` para generar las variables uniformes.\n",
        "\n",
        "Suponiendo que no existe la función ``normalvariate`` de la libreria ````random```` el metodo para generar una variable aleatoria normal es el siguiente:\n",
        "\n",
        "1. Generar $V_1\\sim U_1(-1,1) \\hspace{1cm} V_2\\sim U_2(-1,1)$ y calcular $W=V_1^2+V_2^2$\n",
        "\n",
        "2. Si $W<1$ regresar $X=V_1\\sqrt{(-2ln(W))/W}$ sino volver al paso 1"
      ],
      "metadata": {
        "id": "mFuvwxxpjV6M"
      }
    },
    {
      "cell_type": "code",
      "source": [
        "from math import log,sqrt\n",
        "\n",
        "def N():\n",
        "  v1 = u(-1,1)\n",
        "  v2 = u(-1,1)\n",
        "  w = v1*v1+v2*v2\n",
        "  if w < 1:\n",
        "    return v1*sqrt(-2*log(w)/w)\n",
        "  else:\n",
        "    return N()\n",
        "\n",
        "for i5 in range(10):\n",
        "  print(N())"
      ],
      "metadata": {
        "id": "jJrTb0hlj0gP",
        "outputId": "ea0f04b5-d636-464c-d067-5251857d1bdc",
        "colab": {
          "base_uri": "https://localhost:8080/"
        }
      },
      "execution_count": 112,
      "outputs": [
        {
          "output_type": "stream",
          "name": "stdout",
          "text": [
            "1.4292999671089388\n",
            "-0.7320978513921401\n",
            "1.0617018153359532\n",
            "1.4782272724349879\n",
            "0.06844144453867218\n",
            "0.4186440011455587\n",
            "0.10395850337115939\n",
            "0.7761445580112064\n",
            "-0.31482578194286814\n",
            "0.9045819093127053\n"
          ]
        }
      ]
    },
    {
      "cell_type": "markdown",
      "source": [
        "Generar variable aleatoria normal. $X\\sim N(\\mu,\\sigma)$\n",
        "\n",
        "Tomando el supuesto de que no existe una función para generar una variable aleatoria normal con parametros media $\\mu$ y desviacion estandar $\\sigma$ la variable se genera de la siguiente manera.\n",
        "\n",
        "1. Generar $Z \\sim N(0,1)$\n",
        "2. Regresar $X = \\sigma Z +\\mu$"
      ],
      "metadata": {
        "id": "YWEWjdgzAiTW"
      }
    },
    {
      "cell_type": "code",
      "source": [
        "normal = lambda media,desviacion: desviacion*N()+media\n",
        "\n",
        "for i6 in range(10):\n",
        "  print(normal(7,2))"
      ],
      "metadata": {
        "id": "S0aUiySUBsIU",
        "outputId": "572a19e9-1bde-491e-a1db-4425a0c4c254",
        "colab": {
          "base_uri": "https://localhost:8080/"
        }
      },
      "execution_count": 113,
      "outputs": [
        {
          "output_type": "stream",
          "name": "stdout",
          "text": [
            "6.535575933794785\n",
            "10.92401420801288\n",
            "8.391460280680764\n",
            "4.441181292208961\n",
            "1.0259107115981205\n",
            "6.977683451617726\n",
            "6.34851055875168\n",
            "8.15263521490961\n",
            "6.436931808493039\n",
            "8.623284194363011\n"
          ]
        }
      ]
    },
    {
      "cell_type": "markdown",
      "source": [
        "# Chi\n",
        "\n",
        "Generar variable aleatoria Chi de Perason. $X \\sim \\chi_{\\nu}^2$\n",
        "\n",
        "Para esta variable se hara uso de la función ``normalvariate`` de la libreria ``random`` para generar esta variable.\n",
        "\n",
        "Si $X_1, X_2,...,X_{\\nu}$ son variables aleatorias independientes que siguen una distribucion normal $X_i\\sim N(0,1)$ con  $i=1,2,...,\\nu$ entonces:\n",
        "\n",
        "$$X_1^2+X_2^2+...+X_{\\nu}^2 \\sim \\chi_{\\nu}^2$$"
      ],
      "metadata": {
        "id": "f0s9EqGxj04j"
      }
    },
    {
      "cell_type": "code",
      "source": [
        "from random import normalvariate\n",
        "\n",
        "chi = lambda v : np.array([normalvariate(0,1)**2 for i in range(v)]).sum()\n",
        "\n",
        "for i7 in range(10):\n",
        "  print(chi(5))"
      ],
      "metadata": {
        "id": "QrVEYUR0kASe",
        "outputId": "84d53abc-0333-4d42-a07b-a6514fa55c94",
        "colab": {
          "base_uri": "https://localhost:8080/"
        }
      },
      "execution_count": 114,
      "outputs": [
        {
          "output_type": "stream",
          "name": "stdout",
          "text": [
            "8.592283642929353\n",
            "7.0190064038788496\n",
            "5.335230159794938\n",
            "3.0113038096710123\n",
            "1.0863717735380245\n",
            "1.6600955407915046\n",
            "7.112261058753781\n",
            "7.468042749165643\n",
            "3.557702358158818\n",
            "5.9323522756442975\n"
          ]
        }
      ]
    },
    {
      "cell_type": "markdown",
      "source": [
        "# t Student\n",
        "\n",
        "\n",
        "Generar variable aleatoria t de Student. $X \\sim t_{n}$\n",
        "\n",
        "Sea $X_1, X_2, ...,X_n$ variables aleatorias independientes e identicamente distribuidas segun una distribución normal $X_i \\sim N(0,\\sigma)$ con $i=1,2,...,n$ se define la variable t de Student con $n$ grados de libertad por:\n",
        "\n",
        "$$\\dfrac{X_1}{\\sqrt{\\frac{1}{n}\\sum_{i=1}^n X_i^2}} \\sim t_n$$\n",
        "\n",
        "$$\\dfrac{X_1}{\\sqrt{\\frac{1}{n}\\chi_{n}^2}} \\sim t_n$$\n",
        "\n",
        "Para generar esta variable aleatoria se hará uso de la función ``normalvariate`` de la libreria ``random``."
      ],
      "metadata": {
        "id": "QrgUwNkikBSn"
      }
    },
    {
      "cell_type": "code",
      "source": [
        "from random import normalvariate\n",
        "from math import sqrt\n",
        "\n",
        "def student(n):\n",
        "  s = np.array([normalvariate(0,1)**2 for i in range(n)]).sum()\n",
        "  return normalvariate(0,1)/sqrt(s/n)\n",
        "\n",
        "for i in range(10):\n",
        "  print(student(4))"
      ],
      "metadata": {
        "id": "yoORTYHJlbZ0",
        "outputId": "96c78f40-0ebc-4805-9013-862ea45116bf",
        "colab": {
          "base_uri": "https://localhost:8080/"
        }
      },
      "execution_count": 115,
      "outputs": [
        {
          "output_type": "stream",
          "name": "stdout",
          "text": [
            "1.1977868584861089\n",
            "1.0226333647754817\n",
            "0.546671339689047\n",
            "-0.11741729983995651\n",
            "-0.036912303949614665\n",
            "2.0175208169835273\n",
            "-1.369778250792099\n",
            "0.9819871759359676\n",
            "0.4179387383573657\n",
            "2.3364880085776605\n"
          ]
        }
      ]
    },
    {
      "cell_type": "markdown",
      "source": [
        "# Fisher\n",
        "\n",
        "Generar variable aleatoria Fisher de Snedecor. $X \\sim F_{n,m}$\n",
        "\n",
        "Sea $X_1, X_2,...,X_m$ y $Y_1, Y_2,...,Y_n$ variables aleatorias independientes e identicamente distribuidas segun $X_i,Y_j\\sim N(0,1)$ con $i=1,2,...,m$ $j = 1,2,...,n$ se define la variable aleatoria F de Fisher.\n",
        "\n",
        "$$\\dfrac{\\frac{1}{m}\\sum_{i=1}^mX_i^2}{\\frac{1}{n}\\sum_{j=1}^nY_i^2} \\sim F_{n,m}$$\n",
        "\n",
        "$$\\dfrac{\\chi_m^2/m}{\\chi_n^2/n} \\sim F_{n,m}$$\n",
        "\n",
        "Para generar esta variable aleatoria se hará uso de la función ``normalvariate`` de la libreria ``random``."
      ],
      "metadata": {
        "id": "oiHgps-umPIp"
      }
    },
    {
      "cell_type": "code",
      "source": [
        "from random import normalvariate\n",
        "\n",
        "def fisher(m,n):\n",
        "  x = np.array([normalvariate(0,1)**2 for i in range(m)]).sum()\n",
        "  y = np.array([normalvariate(0,1)**2 for j in range(n)]).sum()\n",
        "  return (x/m) / (y/n)\n",
        "\n",
        "for i in range(20):\n",
        "  print(fisher(4,3))"
      ],
      "metadata": {
        "id": "FV7JYoAVkDVS",
        "outputId": "3d764f9d-9705-41f6-c0b9-b72c47a30a5a",
        "colab": {
          "base_uri": "https://localhost:8080/"
        }
      },
      "execution_count": 116,
      "outputs": [
        {
          "output_type": "stream",
          "name": "stdout",
          "text": [
            "2.0851854383653374\n",
            "0.4336083811721087\n",
            "1.4782604088013918\n",
            "0.8066014084039776\n",
            "4.528503866751635\n",
            "0.2971746377325184\n",
            "1.4138520764543103\n",
            "25.742320611291124\n",
            "1.299432066464779\n",
            "0.2468746166412481\n",
            "0.7498023034582578\n",
            "1.0561484101194492\n",
            "0.9101383720544822\n",
            "2.112153197074575\n",
            "7.5600554099569575\n",
            "8.925769112232679\n",
            "1.6543476112737268\n",
            "0.6484897801082401\n",
            "3.233894401823152\n",
            "0.7497645985980402\n"
          ]
        }
      ]
    },
    {
      "cell_type": "markdown",
      "source": [
        "# Rayleigh\n",
        "\n",
        "Generar variable aleatoria Rayleigh. $X \\sim rayleigh(\\beta)$\n",
        "\n",
        "1. Generar $U \\sim U(0,1)$\n",
        "2. Regresar $X=\\sqrt{-\\beta ln(U)}$"
      ],
      "metadata": {
        "id": "pC_AH3x3kDnc"
      }
    },
    {
      "cell_type": "code",
      "source": [
        "from random import random\n",
        "from math import sqrt,log\n",
        "\n",
        "rayleigh = lambda beta: sqrt(-beta*log(random()))\n",
        "\n",
        "for i in range(10):\n",
        "  print(rayleigh(9))"
      ],
      "metadata": {
        "id": "HD6fowmBkG7O",
        "outputId": "0b083ed7-c190-4b56-8695-f9eeb9e6a813",
        "colab": {
          "base_uri": "https://localhost:8080/"
        }
      },
      "execution_count": 117,
      "outputs": [
        {
          "output_type": "stream",
          "name": "stdout",
          "text": [
            "1.697150649358463\n",
            "4.912822719234521\n",
            "3.0632589155898056\n",
            "3.6134451645333963\n",
            "1.0667854710235547\n",
            "1.824502836008831\n",
            "1.6693844436837415\n",
            "1.6956381887302352\n",
            "3.044121822199367\n",
            "3.269925570989711\n"
          ]
        }
      ]
    },
    {
      "cell_type": "markdown",
      "source": [
        "# Simpson\n",
        "\n",
        "Generar variable aleatoria Simpson. $X \\sim simpson(a)$\n",
        "\n",
        "1. Generar $U \\sim U(0,1)$\n",
        "2. Regresar si $0<U<0.5$ regresar $-a+a\\sqrt{2U}$ si $0.5<U<1$ regresar $a-a\\sqrt{2(1-U)}$"
      ],
      "metadata": {
        "id": "i51hznnDkHhG"
      }
    },
    {
      "cell_type": "code",
      "source": [
        "from math import sqrt\n",
        "from random import random\n",
        "\n",
        "def simpson(a):\n",
        "  u = random()\n",
        "  if u>0 and u<0.5:\n",
        "    return -a+a*sqrt(2*u)\n",
        "  else:\n",
        "    return a-a*sqrt(2*(1-u))\n",
        "\n",
        "for i in range(10):\n",
        "  print(simpson(6))"
      ],
      "metadata": {
        "id": "kKvPxhBAkKaf",
        "outputId": "5bf58c7f-3eff-4401-98aa-f7b097d14e01",
        "colab": {
          "base_uri": "https://localhost:8080/"
        }
      },
      "execution_count": 118,
      "outputs": [
        {
          "output_type": "stream",
          "name": "stdout",
          "text": [
            "-1.0762755955847902\n",
            "-0.5849884408615553\n",
            "-1.5852520887151105\n",
            "0.21371917619778813\n",
            "-1.9790313319075121\n",
            "2.9005025217025184\n",
            "-1.3269694325231303\n",
            "-0.06562537895238396\n",
            "0.15740826515170703\n",
            "1.5593671524055548\n"
          ]
        }
      ]
    },
    {
      "cell_type": "markdown",
      "source": [
        "# Variables aleatorias discretas\n",
        "\n",
        "# Bernoulli\n",
        "\n",
        "Generar variable aleatoria Bernoulli. $X \\sim bernoulli(p)$\n",
        "\n",
        "1. Generar $U \\sim U(0,1)$\n",
        "2. Regresar $1$ si $U\\leq p$ sino regresar $0$"
      ],
      "metadata": {
        "id": "KOvDExHcU4wk"
      }
    },
    {
      "cell_type": "code",
      "source": [
        "from random import random\n",
        "\n",
        "bernoulli = lambda p : 1 if random() <= p else 0\n",
        "\n",
        "moneda = [bernoulli(0.5) for i in range(30)]\n",
        "print(moneda)"
      ],
      "metadata": {
        "id": "2AOTyvHmVWBy",
        "outputId": "9ab94c2a-ed16-47b2-a089-ced66bcdebad",
        "colab": {
          "base_uri": "https://localhost:8080/"
        }
      },
      "execution_count": 119,
      "outputs": [
        {
          "output_type": "stream",
          "name": "stdout",
          "text": [
            "[1, 0, 1, 0, 1, 1, 0, 1, 0, 0, 0, 1, 1, 1, 1, 1, 1, 1, 1, 1, 0, 1, 0, 1, 1, 1, 1, 0, 0, 0]\n"
          ]
        }
      ]
    },
    {
      "cell_type": "markdown",
      "source": [
        "# Binomial\n",
        "\n",
        "Generar variable aleatoria Binomial. $X \\sim binomial(n,p)$\n",
        "\n",
        "Sea $X_1,X_2,...,X_n$ variables aleatorias independientes e identicamente distribuidas segun $X_i \\sim bernoulli(p)$ con $i = 1,2,...,n$ se define a la variable binomial como:\n",
        "\n",
        "$$X_1+X_2+...+X_n \\sim binomial(n,p)$$"
      ],
      "metadata": {
        "id": "iPiIe3NHV016"
      }
    },
    {
      "cell_type": "code",
      "source": [
        "from random import random\n",
        "\n",
        "bernoulli = lambda p : 1 if random() <= p else 0\n",
        "\n",
        "binomial = lambda n , p : bernoulli(p) if n == 1 else np.array([bernoulli(p) for i in range(n)]).sum()\n",
        "\n",
        "for i in range(10):\n",
        "  print(binomial(5,0.5))"
      ],
      "metadata": {
        "id": "PDrN0IG2WjBK",
        "outputId": "d28daad3-9403-4c84-f46d-c22fd96bb18a",
        "colab": {
          "base_uri": "https://localhost:8080/"
        }
      },
      "execution_count": 120,
      "outputs": [
        {
          "output_type": "stream",
          "name": "stdout",
          "text": [
            "0\n",
            "2\n",
            "2\n",
            "3\n",
            "1\n",
            "1\n",
            "1\n",
            "4\n",
            "2\n",
            "4\n"
          ]
        }
      ]
    },
    {
      "cell_type": "markdown",
      "source": [
        "# Geometrica\n",
        "\n",
        "Generar variable aleatoria Geometrica. $X \\sim geometrica(p)$\n",
        "\n",
        "1. Generar $U \\sim U(0,1)$\n",
        "2. Regresar $X=\\lceil ln(U)/ln(1-p)\\rceil$"
      ],
      "metadata": {
        "id": "Ey9CdiqGXMT9"
      }
    },
    {
      "cell_type": "code",
      "source": [
        "from random import random\n",
        "from math import log, ceil\n",
        "\n",
        "geometrica = lambda p : ceil( log(random()) / log(1-p) )\n",
        "\n",
        "for i in range(10):\n",
        "  print(geometrica(0.3))"
      ],
      "metadata": {
        "id": "6sPxct2OXLUz",
        "outputId": "831184a2-401a-40d2-b87a-3fef719d1589",
        "colab": {
          "base_uri": "https://localhost:8080/"
        }
      },
      "execution_count": 121,
      "outputs": [
        {
          "output_type": "stream",
          "name": "stdout",
          "text": [
            "7\n",
            "3\n",
            "4\n",
            "1\n",
            "4\n",
            "1\n",
            "1\n",
            "2\n",
            "2\n",
            "5\n"
          ]
        }
      ]
    },
    {
      "cell_type": "markdown",
      "source": [
        "# Poisson\n",
        "\n",
        "Generar variable aleatoria Poisson. $X \\sim poisson(\\lambda)$\n",
        "\n",
        "1. $x=-1$, $b=1$ generar $U_i \\sim U(0,1)$\n",
        "2. Regresar $X=\\sum_{x=-1}^nx \\hspace{0.5cm}$ si $\\hspace{0.5cm} \\prod_{i=1}^n U_i \\leq e^{-b}$"
      ],
      "metadata": {
        "id": "7iQb_4KhYXWj"
      }
    },
    {
      "cell_type": "code",
      "source": [
        "from random import random\n",
        "from math import exp\n",
        "\n",
        "def poisson(l):\n",
        "  x = -1\n",
        "  b = 1\n",
        "  while b > exp(-l):\n",
        "    b *= random()\n",
        "    x += 1\n",
        "  return x\n",
        "\n",
        "for i in range(10):\n",
        "  print(poisson(2))"
      ],
      "metadata": {
        "id": "B7y3818PYWGk",
        "outputId": "de0e0a7f-8255-4b3e-fd76-b90d5769cb92",
        "colab": {
          "base_uri": "https://localhost:8080/"
        }
      },
      "execution_count": 122,
      "outputs": [
        {
          "output_type": "stream",
          "name": "stdout",
          "text": [
            "0\n",
            "1\n",
            "4\n",
            "2\n",
            "0\n",
            "2\n",
            "2\n",
            "2\n",
            "2\n",
            "3\n"
          ]
        }
      ]
    }
  ]
}