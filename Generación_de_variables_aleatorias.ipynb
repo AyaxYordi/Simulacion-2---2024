{
  "nbformat": 4,
  "nbformat_minor": 0,
  "metadata": {
    "colab": {
      "provenance": [],
      "authorship_tag": "ABX9TyP0E6NKk3tusbmQ104mWPuT"
    },
    "kernelspec": {
      "name": "python3",
      "display_name": "Python 3"
    },
    "language_info": {
      "name": "python"
    }
  },
  "cells": [
    {
      "cell_type": "markdown",
      "source": [
        "# Uniforme  $U(0,1)$\n",
        "\n",
        "Generar una variable aleatoria con distribución uniforme. $X\\sim U(0,1)$"
      ],
      "metadata": {
        "id": "5028R4IKrHc_"
      }
    },
    {
      "cell_type": "code",
      "execution_count": null,
      "metadata": {
        "id": "1Ydq-MfDq-gb"
      },
      "outputs": [],
      "source": []
    },
    {
      "cell_type": "markdown",
      "source": [
        "# Uniforme $U(a,b)$\n",
        "\n"
      ],
      "metadata": {
        "id": "5wzJWp9QjsMw"
      }
    },
    {
      "cell_type": "code",
      "source": [],
      "metadata": {
        "id": "jJrTb0hlj0gP"
      },
      "execution_count": null,
      "outputs": []
    },
    {
      "cell_type": "markdown",
      "source": [
        "# Exponencial $expo(\\beta)$"
      ],
      "metadata": {
        "id": "f0s9EqGxj04j"
      }
    },
    {
      "cell_type": "code",
      "source": [],
      "metadata": {
        "id": "QrVEYUR0kASe"
      },
      "execution_count": null,
      "outputs": []
    },
    {
      "cell_type": "markdown",
      "source": [
        "# Erlang $erlang(m,\\beta)$"
      ],
      "metadata": {
        "id": "QrgUwNkikBSn"
      }
    },
    {
      "cell_type": "code",
      "source": [],
      "metadata": {
        "id": "yoORTYHJlbZ0"
      },
      "execution_count": null,
      "outputs": []
    },
    {
      "cell_type": "markdown",
      "source": [
        "# Beta $beta(\\alpha,\\beta)$"
      ],
      "metadata": {
        "id": "oiHgps-umPIp"
      }
    }
  ]
}