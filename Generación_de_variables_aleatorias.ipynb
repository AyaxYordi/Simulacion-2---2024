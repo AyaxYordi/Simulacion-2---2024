{
  "nbformat": 4,
  "nbformat_minor": 0,
  "metadata": {
    "colab": {
      "provenance": [],
      "authorship_tag": "ABX9TyN32XolMG7got5sVZCJ6smu"
    },
    "kernelspec": {
      "name": "python3",
      "display_name": "Python 3"
    },
    "language_info": {
      "name": "python"
    }
  },
  "cells": [
    {
      "cell_type": "markdown",
      "source": [
        "# Variables aleatorias continuas\n",
        "\n",
        "# Uniforme\n",
        "\n",
        "Generar una variable aleatoria con distribución uniforme. $X\\sim U(0,1)$\n",
        "\n",
        "Suponiendo que no existe la librería random, una manera de generar la uniforme $U(0,1)$ es mediante el método del generador lineal congruencial.\n",
        "\n",
        "$$z_n=(az_{n-1}+c)\\text{mod} m$$\n",
        "\n",
        "$$u_n=z_n/m$$\n",
        "\n",
        "Donde:\n",
        "\n",
        "$$a \\in Z^{+} , a<m$$\n",
        "$$c \\in Z^{+} , c<m$$\n",
        "$$m \\in Z^{+}$$\n",
        "\n",
        "Para evitar la recursión, una manera de generar estos números es con el uso de programación orientada a objetos.\n",
        "\n",
        "Primero importamos las librerías."
      ],
      "metadata": {
        "id": "5028R4IKrHc_"
      }
    },
    {
      "cell_type": "code",
      "source": [
        "import time\n",
        "import numpy as np"
      ],
      "metadata": {
        "id": "f1Y6yKUqbIrx"
      },
      "execution_count": 6,
      "outputs": []
    },
    {
      "cell_type": "markdown",
      "source": [
        "La librería ````time```` es para cambiar de semilla cada que se manda a llamar la función ```u()```\n",
        "\n",
        "La librería ````numpy```` es para crear la lista de semillas.\n",
        "\n",
        "Definimos la clase ````Uniforme```` con el atributo ````z````, al atributo ````z```` se le asignará la semilla y también definimos un método llamado ````u()```` al cual no se le pasa ningún parámetro.\n",
        "\n",
        "La función ````u()```` tomará el valor inicial de ````z```` que en este caso es la semilla la cual será extraída de una lista creada de manera arbitraria, la lista de semillas no sigue ningún método o técnica simplemente se crea una lista de números con saltos y de ahí se elegirá la semilla usando la librería time, una vez extraída la semilla se evalúa en la ecuación de recurrencia y ya generado el número este se divide entre $m$ para que retorne un número entre 0 y 1.\n",
        "\n",
        "Para nuestro generador se toman los siguientes valores:\n",
        "\n",
        "$$a = 2^{19}-1$$\n",
        "$$c = 2^{11}-1$$\n",
        "$$m = 2^{31}-1$$\n",
        "\n",
        "El código queda de la siguiente manera.\n",
        "\n"
      ],
      "metadata": {
        "id": "3qzUBqeDbGdb"
      }
    },
    {
      "cell_type": "code",
      "source": [
        "import time\n",
        "import numpy as np\n",
        "\n",
        "class Uniforme:\n",
        "\tz = int(np.arange(2**(11)-1,2**(13)+99,41)[int(time.time()%100)]) # Semillas\n",
        "\tdef u():\n",
        "\t\tUniforme.z *= 2**(19)-1 # a\n",
        "\t\tUniforme.z += 2**(11)-1 # c\n",
        "\t\tUniforme.z %= 2**(31)-1 # m\n",
        "\t\treturn Uniforme.z/(2**(31)-1) # u"
      ],
      "metadata": {
        "id": "3dbAQ7C_cHRo"
      },
      "execution_count": 7,
      "outputs": []
    },
    {
      "cell_type": "markdown",
      "source": [
        "Para probar el codigo imprimimos 10 numeros."
      ],
      "metadata": {
        "id": "VPy0T567cCgi"
      }
    },
    {
      "cell_type": "code",
      "source": [
        "for i in range(10):\n",
        "  print(Uniforme.u())"
      ],
      "metadata": {
        "id": "YeHJIOBeddAO",
        "outputId": "562bb9bc-97dc-4fbc-8d12-e4e5cdccff58",
        "colab": {
          "base_uri": "https://localhost:8080/"
        }
      },
      "execution_count": 8,
      "outputs": [
        {
          "output_type": "stream",
          "name": "stdout",
          "text": [
            "0.4406720341372639\n",
            "0.618762676892226\n",
            "0.22758074767309275\n",
            "0.6274562359915377\n",
            "0.147600248524733\n",
            "0.8914992399008476\n",
            "0.46199084886442443\n",
            "0.7961795357038172\n",
            "0.5802365003992973\n",
            "0.45408579961121354\n"
          ]
        }
      ]
    },
    {
      "cell_type": "markdown",
      "source": [
        "Generar una distribucion uniforme $U(a,b)$\n",
        "\n",
        "1. Generamos $U \\sim U(0,1)$\n",
        "2. Regresamos  $X = (b-a)U+a$\n",
        "\n",
        "Para este código usaremos la librería random para generar una distribución uniforme $U(a,b)$.\n",
        "\n",
        "Importamos las librerías y definimos la función ````u(a,b)```` donde los parámetros son:\n",
        "\n",
        "````a:````: un número real menor que b\n",
        "\n",
        "````b````: un número real\n"
      ],
      "metadata": {
        "id": "cBzocpg1dz9E"
      }
    },
    {
      "cell_type": "code",
      "source": [
        "from random import random\n",
        "\n",
        "u = lambda a,b:(b-a)*random()+a"
      ],
      "metadata": {
        "id": "3KIFC9n_esEr"
      },
      "execution_count": 9,
      "outputs": []
    },
    {
      "cell_type": "markdown",
      "source": [
        "Para probar el código, generamos una uniforme $U(1,7)$ e imprimimos 10 números."
      ],
      "metadata": {
        "id": "4umidfXyevpF"
      }
    },
    {
      "cell_type": "code",
      "source": [
        "for i2 in range(10):\n",
        "\tprint(u(1,7))"
      ],
      "metadata": {
        "id": "kOPOAgYpe70V",
        "outputId": "5ace2a40-58fb-46e8-e2d4-f3c9b68b4b70",
        "colab": {
          "base_uri": "https://localhost:8080/"
        }
      },
      "execution_count": 26,
      "outputs": [
        {
          "output_type": "stream",
          "name": "stdout",
          "text": [
            "1.6887359415834462\n",
            "4.207062751444914\n",
            "6.5745447685886536\n",
            "3.2672171771277236\n",
            "6.607080166152272\n",
            "3.6986383623263808\n",
            "3.807507192301646\n",
            "1.054014486246597\n",
            "2.549071187391082\n",
            "6.358411047054527\n"
          ]
        }
      ]
    },
    {
      "cell_type": "markdown",
      "source": [
        "# Exponencial\n",
        "\n",
        "Generar variable aleatoria con distribución exponencial. $X\\sim expo(\\beta)$\n",
        "\n",
        "\n",
        "Para generar esta variable se utiliza el método de transformada inversa. No se va a escribir el procedimiento, pero solo se van a escribir los pasos para generar la variable aleatoria.\n",
        "\n",
        "1. Generar $U \\sim U(0,1)$\n",
        "2. Regresar $X=-\\beta ln(U)$\n"
      ],
      "metadata": {
        "id": "0VQ9YCWDe-uz"
      }
    },
    {
      "cell_type": "code",
      "source": [
        "from math import log\n",
        "\n",
        "expo = lambda beta: -beta*log(random())\n",
        "\n",
        "for i3 in range(10):\n",
        "\tprint(expo(3))"
      ],
      "metadata": {
        "id": "rGQV3FUCgVLF",
        "outputId": "0bd9df58-e6f7-486d-c026-01f0049fea42",
        "colab": {
          "base_uri": "https://localhost:8080/"
        }
      },
      "execution_count": 11,
      "outputs": [
        {
          "output_type": "stream",
          "name": "stdout",
          "text": [
            "0.8517449139849649\n",
            "2.0342862605493077\n",
            "0.39128879365604624\n",
            "8.825316390495413\n",
            "0.24495562408771296\n",
            "2.9366988262626395\n",
            "5.7712728386747685\n",
            "1.6224628783920507\n",
            "0.4042866972301689\n",
            "1.4818331108624108\n"
          ]
        }
      ]
    },
    {
      "cell_type": "markdown",
      "source": [
        "# Weibull\n",
        "\n",
        "Generar variable aleatoria con distribución Weibull. $X\\sim weibull(\\alpha,\\beta)$\n",
        "\n",
        "1. Generar $U \\sim U(0,1)$\n",
        "2. Regresar $X=\\beta(-ln(U))^{1/\\alpha}$"
      ],
      "metadata": {
        "id": "Bz1NQCVhgcaX"
      }
    },
    {
      "cell_type": "code",
      "source": [
        "from random import random\n",
        "from math import log\n",
        "\n",
        "weibull = lambda alfa,beta:beta*(-log(random()))**(1/alfa)\n",
        "\n",
        "for i4 in range(10):\n",
        "\tprint(weibull(3,2))"
      ],
      "metadata": {
        "id": "y6LBnOwjg2Kq",
        "outputId": "940e5785-2c1e-4017-f954-b6537e2761c0",
        "colab": {
          "base_uri": "https://localhost:8080/"
        }
      },
      "execution_count": 12,
      "outputs": [
        {
          "output_type": "stream",
          "name": "stdout",
          "text": [
            "2.3558337263270843\n",
            "2.426727587962932\n",
            "1.8016043977008391\n",
            "1.364488544496081\n",
            "2.4245899711610597\n",
            "0.9304453895252798\n",
            "2.836949960077713\n",
            "2.3875970031243416\n",
            "2.4974207773423895\n",
            "1.748190546528954\n"
          ]
        }
      ]
    },
    {
      "cell_type": "markdown",
      "source": [
        "# Erlang (Gamma)\n",
        "\n",
        "Variable aleatoria $X \\sim erlang(m,\\beta)$ o $gamma(m,\\beta)$\n",
        "\n",
        "Donde:\n",
        "$$m \\in Z^+ $$\n",
        "$$\\beta \\in \\Re$$\n",
        "\n",
        "Sea $X_1, X_2, ...,X_m$ variables aleatorias independientes que siguen una distribución exponencial de parámetro beta $X_i \\sim expo(\\beta)$ con $i=1,2,...,m$ entonces:\n",
        "\n",
        "$$X_1+X_2+...+X_m \\sim erlang(m,\\beta)$$"
      ],
      "metadata": {
        "id": "hijozpkEg5dy"
      }
    },
    {
      "cell_type": "code",
      "execution_count": 35,
      "metadata": {
        "id": "1Ydq-MfDq-gb",
        "outputId": "aaecb419-6d18-45fa-84a5-8fca53d12ead",
        "colab": {
          "base_uri": "https://localhost:8080/"
        }
      },
      "outputs": [
        {
          "output_type": "stream",
          "name": "stdout",
          "text": [
            "1.3046518765025692\n",
            "4.507091658862067\n",
            "3.3892335301499807\n",
            "4.2332168627701545\n",
            "3.957138673704011\n",
            "2.905389612000272\n",
            "0.5785766348939163\n",
            "2.796117145549797\n",
            "3.993743507388122\n",
            "1.1419906443732937\n",
            "Media: 2.500543794079883\n"
          ]
        }
      ],
      "source": [
        "erlang = lambda m , beta: np.array( [ expo(beta) for i in range(m)] ).sum()\n",
        "\n",
        "for i in range(10):\n",
        "\tprint(erlang(5,0.5))"
      ]
    },
    {
      "cell_type": "markdown",
      "source": [
        "# Beta\n",
        "\n",
        "Variable aleatoria Beta. $X \\sim beta(\\alpha,\\beta)$\n",
        "\n",
        "Si $Y_1 \\sim gamma(\\alpha_1, 1)$ y $Y_2 \\sim gamma(\\alpha_2, 1)$ entonces $\\dfrac{Y_1}{Y_1+Y_2} \\sim beta(\\alpha_1,\\alpha_2)$\n",
        "\n",
        "1. Generar $Y_1 \\sim gamma(\\alpha_1, 1)$ y $Y_2 \\sim gamma(\\alpha_2, 1)$\n",
        "2. Regresar $X=\\dfrac{Y_1}{Y_1+Y_2}$"
      ],
      "metadata": {
        "id": "trHZNSQakcev"
      }
    },
    {
      "cell_type": "code",
      "source": [
        "def beta(a,b):\n",
        "  y1 = erlang(a,1)\n",
        "  y2 = erlang(b,1)\n",
        "  return y1/(y1+y2)\n",
        "\n",
        "for i4 in range(10):\n",
        "  print(beta(4,3))"
      ],
      "metadata": {
        "id": "4sy6hL9KkezB",
        "outputId": "290d160a-4520-4aaa-d9d4-fa314a2bfed3",
        "colab": {
          "base_uri": "https://localhost:8080/"
        }
      },
      "execution_count": 36,
      "outputs": [
        {
          "output_type": "stream",
          "name": "stdout",
          "text": [
            "0.5657356249317991\n",
            "0.5651696546494763\n",
            "0.3183135173601752\n",
            "0.2832449549630211\n",
            "0.6679884004053406\n",
            "0.38493445518563707\n",
            "0.7810992341849717\n",
            "0.6688805888963754\n",
            "0.9086083997850625\n",
            "0.20493514495055465\n"
          ]
        }
      ]
    },
    {
      "cell_type": "markdown",
      "source": [
        "# Normal\n",
        "\n",
        "Generar variable aleatoria normal. $X\\sim N(0,1)$\n",
        "\n",
        "Para generar esta variable se va a utilizar la función ``random()`` de la libreria ``random`` para generar las variables uniformes.\n",
        "\n",
        "Suponiendo que no existe la función ``normalvariate`` de la libreria ````random```` el metodo para generar una variable aleatoria normal es el siguiente:\n",
        "\n",
        "1. Generar $V_1\\sim U_1(-1,1) \\hspace{1cm} V_2\\sim U_2(-1,1)$ y calcular $W=V_1^2+V_2^2$\n",
        "\n",
        "2. Si $W<1$ regresar $X=V_1\\sqrt{(-2ln(W))/W}$ sino volver al paso 1"
      ],
      "metadata": {
        "id": "mFuvwxxpjV6M"
      }
    },
    {
      "cell_type": "code",
      "source": [
        "from math import log,sqrt\n",
        "\n",
        "def N():\n",
        "  v1 = u(-1,1)\n",
        "  v2 = u(-1,1)\n",
        "  w = v1*v1+v2*v2\n",
        "  if w < 1:\n",
        "    return v1*sqrt(-2*log(w)/w)\n",
        "  else:\n",
        "    return N()\n",
        "\n",
        "for i5 in range(10):\n",
        "  print(N())"
      ],
      "metadata": {
        "id": "jJrTb0hlj0gP",
        "outputId": "bd66bff2-cfe3-440f-c0b2-292c45ec31a9",
        "colab": {
          "base_uri": "https://localhost:8080/"
        }
      },
      "execution_count": 15,
      "outputs": [
        {
          "output_type": "stream",
          "name": "stdout",
          "text": [
            "-0.19013340293289713\n",
            "-0.9941034543151386\n",
            "-0.0853996426503988\n",
            "0.6681589975202804\n",
            "0.7541915809909764\n",
            "-0.4754287776840359\n",
            "-0.012175966257792109\n",
            "2.741473640037369\n",
            "0.24236259491498666\n",
            "0.45308106791654895\n"
          ]
        }
      ]
    },
    {
      "cell_type": "markdown",
      "source": [
        "Generar variable aleatoria normal. $X\\sim N(\\mu,\\sigma)$\n",
        "\n",
        "Tomando el supuesto de que no existe una función para generar una variable aleatoria normal con parametros media $\\mu$ y desviacion estandar $\\sigma$ la variable se genera de la siguiente manera.\n",
        "\n",
        "1. Generar $Z \\sim N(0,1)$\n",
        "2. Regresar $X = \\sigma Z +\\mu$"
      ],
      "metadata": {
        "id": "YWEWjdgzAiTW"
      }
    },
    {
      "cell_type": "code",
      "source": [
        "normal = lambda media,desviacion: desviacion*N()+media\n",
        "\n",
        "for i6 in range(10):\n",
        "  print(normal(7,2))"
      ],
      "metadata": {
        "id": "S0aUiySUBsIU",
        "outputId": "7cb2d3ae-26fd-4f2f-a545-05a82e838e40",
        "colab": {
          "base_uri": "https://localhost:8080/"
        }
      },
      "execution_count": 16,
      "outputs": [
        {
          "output_type": "stream",
          "name": "stdout",
          "text": [
            "8.007866054299091\n",
            "3.384429866932444\n",
            "5.234067270049403\n",
            "7.600323967070966\n",
            "5.782532653496959\n",
            "7.237645258386421\n",
            "7.569727660322266\n",
            "11.185331465105353\n",
            "4.79774329708081\n",
            "5.615622850951221\n"
          ]
        }
      ]
    },
    {
      "cell_type": "markdown",
      "source": [
        "# Chi\n",
        "\n",
        "Generar variable aleatoria Chi de Perason. $X \\sim \\chi_{\\nu}^2$\n",
        "\n",
        "Para esta variable se hara uso de la función ``normalvariate`` de la libreria ``random`` para generar esta variable.\n",
        "\n",
        "Si $X_1, X_2,...,X_{\\nu}$ son variables aleatorias independientes que siguen una distribucion normal $X_i\\sim N(0,1)$ con  $i=1,2,...,\\nu$ entonces:\n",
        "\n",
        "$$X_1^2+X_2^2+...+X_{\\nu}^2 \\sim \\chi_{\\nu}^2$$"
      ],
      "metadata": {
        "id": "f0s9EqGxj04j"
      }
    },
    {
      "cell_type": "code",
      "source": [
        "from random import normalvariate\n",
        "\n",
        "chi = lambda v : np.array([normalvariate(0,1)**2 for i in range(v)]).sum()\n",
        "\n",
        "for i7 in range(10):\n",
        "  print(chi(5))"
      ],
      "metadata": {
        "id": "QrVEYUR0kASe",
        "outputId": "597a9854-1e12-48bc-d7b8-32a4f6ce5bfb",
        "colab": {
          "base_uri": "https://localhost:8080/"
        }
      },
      "execution_count": 37,
      "outputs": [
        {
          "output_type": "stream",
          "name": "stdout",
          "text": [
            "4.173234977590836\n",
            "11.675732905203573\n",
            "5.269625878313794\n",
            "2.4149671824986907\n",
            "3.859788106402145\n",
            "11.130286491425155\n",
            "3.964463616820335\n",
            "6.8729299137691084\n",
            "1.468060318969877\n",
            "3.713515222340062\n"
          ]
        }
      ]
    },
    {
      "cell_type": "markdown",
      "source": [
        "# t Student\n",
        "\n",
        "\n",
        "Generar variable aleatoria t de Student. $X \\sim t_{n}$\n",
        "\n",
        "Sea $X_1, X_2, ...,X_n$ variables aleatorias independientes e identicamente distribuidas segun una distribución normal $X_i \\sim N(0,\\sigma)$ con $i=1,2,...,n$ se define la variable t de Student con $n$ grados de libertad por:\n",
        "\n",
        "$$\\dfrac{X_1}{\\sqrt{\\frac{1}{n}\\sum_{i=1}^n X_i^2}} \\sim t_n$$\n",
        "\n",
        "$$\\dfrac{X_1}{\\sqrt{\\frac{1}{n}\\chi_{n}^2}} \\sim t_n$$\n",
        "\n",
        "Para generar esta variable aleatoria se hará uso de la función ``normalvariate`` de la libreria ``random``."
      ],
      "metadata": {
        "id": "QrgUwNkikBSn"
      }
    },
    {
      "cell_type": "code",
      "source": [
        "from random import normalvariate\n",
        "from math import sqrt\n",
        "\n",
        "def student(n):\n",
        "  s = np.array([normalvariate(0,1)**2 for i in range(n)]).sum()\n",
        "  return normalvariate(0,1)/sqrt(s/n)\n",
        "\n",
        "for i in range(10):\n",
        "  print(student(4))"
      ],
      "metadata": {
        "id": "yoORTYHJlbZ0",
        "outputId": "2113d34d-e387-45b8-fd26-22178bfcfa68",
        "colab": {
          "base_uri": "https://localhost:8080/"
        }
      },
      "execution_count": 40,
      "outputs": [
        {
          "output_type": "stream",
          "name": "stdout",
          "text": [
            "-0.019901881904407157\n",
            "-1.2121287840024217\n",
            "-0.7094495261722535\n",
            "-0.20373298355999783\n",
            "0.5869309909963051\n",
            "0.5658689613975372\n",
            "0.678656268884034\n",
            "-2.771781215114367\n",
            "0.16898563116537926\n",
            "-3.5530605199909013\n"
          ]
        }
      ]
    },
    {
      "cell_type": "markdown",
      "source": [
        "# Fisher\n",
        "\n",
        "Generar variable aleatoria Fisher de Snedecor. $X \\sim F_{n,m}$\n",
        "\n",
        "Sea $X_1, X_2,...,X_m$ y $Y_1, Y_2,...,Y_n$ variables aleatorias independientes e identicamente distribuidas segun $X_i,Y_j\\sim N(0,1)$ con $i=1,2,...,m$ $j = 1,2,...,n$ se define la variable aleatoria F de Fisher.\n",
        "\n",
        "$$\\dfrac{\\frac{1}{m}\\sum_{i=1}^mX_i^2}{\\frac{1}{n}\\sum_{j=1}^nY_i^2} \\sim F_{n,m}$$\n",
        "\n",
        "$$\\dfrac{\\chi_m^2/m}{\\chi_n^2/n} \\sim F_{n,m}$$\n",
        "\n",
        "Para generar esta variable aleatoria se hará uso de la función ``normalvariate`` de la libreria ``random``."
      ],
      "metadata": {
        "id": "oiHgps-umPIp"
      }
    },
    {
      "cell_type": "code",
      "source": [
        "from random import normalvariate\n",
        "\n",
        "def fisher(m,n):\n",
        "  x = np.array([normalvariate(0,1)**2 for i in range(m)]).sum()\n",
        "  y = np.array([normalvariate(0,1)**2 for j in range(n)]).sum()\n",
        "  return (x/m) / (y/n)\n",
        "\n",
        "for i in range(20):\n",
        "  print(fisher(4,3))"
      ],
      "metadata": {
        "id": "FV7JYoAVkDVS",
        "outputId": "ef450a85-b322-41b6-e996-c658b2ad9eff",
        "colab": {
          "base_uri": "https://localhost:8080/"
        }
      },
      "execution_count": 44,
      "outputs": [
        {
          "output_type": "stream",
          "name": "stdout",
          "text": [
            "4.275901037963513\n",
            "2.248000978409652\n",
            "0.7336412876883733\n",
            "2.1291181522532034\n",
            "0.13452975229151903\n",
            "3.1820889388032163\n",
            "2.9886711310300784\n",
            "1.296638818951857\n",
            "0.3079359639033703\n",
            "0.905554672923603\n",
            "0.6123237393227211\n",
            "2.7876640770489565\n",
            "0.5423311381974972\n",
            "1.462990781871581\n",
            "0.16119577181221698\n",
            "9.62585308047661\n",
            "8.370189096442191\n",
            "2.757275069673701\n",
            "1.1682350680401334\n",
            "1.6558447834535595\n"
          ]
        }
      ]
    },
    {
      "cell_type": "markdown",
      "source": [
        "# Rayleigh\n",
        "\n",
        "Generar variable aleatoria Rayleigh. $X \\sim rayleigh(\\beta)$\n",
        "\n",
        "1. Generar $U \\sim U(0,1)$\n",
        "2. Regresar $X=\\sqrt{-\\beta ln(U)}$"
      ],
      "metadata": {
        "id": "pC_AH3x3kDnc"
      }
    },
    {
      "cell_type": "code",
      "source": [
        "from random import random\n",
        "from math import sqrt,log\n",
        "\n",
        "rayleigh = lambda beta: sqrt(-beta*log(random()))\n",
        "\n",
        "for i in range(10):\n",
        "  print(rayleigh(9))"
      ],
      "metadata": {
        "id": "HD6fowmBkG7O",
        "outputId": "cc2299d6-dcda-4cc1-93c5-0d3bd5511f26",
        "colab": {
          "base_uri": "https://localhost:8080/"
        }
      },
      "execution_count": 45,
      "outputs": [
        {
          "output_type": "stream",
          "name": "stdout",
          "text": [
            "4.800805599592636\n",
            "2.616533174891984\n",
            "2.039949683965694\n",
            "4.219336959585275\n",
            "1.7082663283646962\n",
            "2.0379439327372446\n",
            "0.8028558707558959\n",
            "2.09951011349179\n",
            "2.918219956062299\n",
            "4.61060960343586\n"
          ]
        }
      ]
    },
    {
      "cell_type": "markdown",
      "source": [
        "# Simpson\n",
        "\n",
        "Generar variable aleatoria Simpson. $X \\sim simpson(a)$\n",
        "\n",
        "1. Generar $U \\sim U(0,1)$\n",
        "2. Regresar si $0<U<0.5$ regresar $-a+a\\sqrt{2U}$ si $0.5<U<1$ regresar $a-a\\sqrt{2(1-U)}$"
      ],
      "metadata": {
        "id": "i51hznnDkHhG"
      }
    },
    {
      "cell_type": "code",
      "source": [
        "from math import sqrt\n",
        "from random import random\n",
        "\n",
        "def simpson(a):\n",
        "  u = random()\n",
        "  if u>0 and u<0.5:\n",
        "    return -a+a*sqrt(2*u)\n",
        "  else:\n",
        "    return a-a*sqrt(2*(1-u))\n",
        "\n",
        "for i in range(10):\n",
        "  print(simpson(6))"
      ],
      "metadata": {
        "id": "kKvPxhBAkKaf",
        "outputId": "b78325b9-21e7-42b7-ae5d-d78bde466dd3",
        "colab": {
          "base_uri": "https://localhost:8080/"
        }
      },
      "execution_count": 46,
      "outputs": [
        {
          "output_type": "stream",
          "name": "stdout",
          "text": [
            "2.047294792982828\n",
            "-0.11089293310505255\n",
            "-4.308778745065766\n",
            "1.9806091715460719\n",
            "-1.7423073744094335\n",
            "2.979053630078761\n",
            "-2.6413099881714004\n",
            "-1.5945982407862092\n",
            "-1.0021106781136515\n",
            "-0.4307304876412106\n"
          ]
        }
      ]
    },
    {
      "cell_type": "markdown",
      "source": [
        "# Variables aleatorias discretas\n",
        "\n",
        "# Bernoulli\n",
        "\n",
        "Generar variable aleatoria Bernoulli. $X \\sim bernoulli(p)$\n",
        "\n",
        "1. Generar $U \\sim U(0,1)$\n",
        "2. Regresar $1$ si $U\\leq p$ sino regresar $0$"
      ],
      "metadata": {
        "id": "KOvDExHcU4wk"
      }
    },
    {
      "cell_type": "code",
      "source": [
        "from random import random\n",
        "\n",
        "def bernoulli(p):\n",
        "  u = random()\n",
        "  if u<=p:\n",
        "    return 1\n",
        "  else:\n",
        "    return 0\n",
        "\n",
        "moneda = [bernoulli(0.5) for i in range(30)]\n",
        "print(moneda)"
      ],
      "metadata": {
        "id": "2AOTyvHmVWBy",
        "outputId": "64032ec6-3cb6-473e-b3dc-e9dcd2f7bc1c",
        "colab": {
          "base_uri": "https://localhost:8080/"
        }
      },
      "execution_count": 22,
      "outputs": [
        {
          "output_type": "stream",
          "name": "stdout",
          "text": [
            "[1, 0, 0, 1, 1, 1, 1, 1, 1, 1, 0, 0, 0, 1, 0, 0, 0, 1, 1, 0, 0, 0, 1, 1, 1, 0, 1, 0, 1, 1]\n"
          ]
        }
      ]
    },
    {
      "cell_type": "markdown",
      "source": [
        "# Binomial\n",
        "\n",
        "Generar variable aleatoria Binomial. $X \\sim binomial(n,p)$\n",
        "\n",
        "Sea $X_1,X_2,...,X_n$ variables aleatorias independientes e identicamente distribuidas segun $X_i \\sim bernoulli(p)$ con $i = 1,2,...,n$ se define a la variable binomial como:\n",
        "\n",
        "$$X_1+X_2+...+X_n \\sim binomial(n,p)$$"
      ],
      "metadata": {
        "id": "iPiIe3NHV016"
      }
    },
    {
      "cell_type": "code",
      "source": [
        "from random import random\n",
        "\n",
        "def bernoulli(p):\n",
        "  if random() <= p:\n",
        "    return 1\n",
        "  else:\n",
        "    return 0\n",
        "\n",
        "def binomial(n,p):\n",
        "  if n==1:\n",
        "    return bernoulli(p)\n",
        "  else:\n",
        "    return np.array([bernoulli(p) for i in range(n)]).sum()\n",
        "\n",
        "for i in range(15):\n",
        "  print(binomial(5,0.5))"
      ],
      "metadata": {
        "id": "PDrN0IG2WjBK",
        "outputId": "53798d84-0806-4010-8934-dceb1b72f53a",
        "colab": {
          "base_uri": "https://localhost:8080/"
        }
      },
      "execution_count": 54,
      "outputs": [
        {
          "output_type": "stream",
          "name": "stdout",
          "text": [
            "2\n",
            "1\n",
            "0\n",
            "0\n",
            "2\n",
            "3\n",
            "2\n",
            "4\n",
            "2\n",
            "3\n",
            "0\n",
            "1\n",
            "2\n",
            "3\n",
            "3\n"
          ]
        }
      ]
    },
    {
      "cell_type": "markdown",
      "source": [
        "# Geometrica\n",
        "\n",
        "Generar variable aleatoria Geometrica. $X \\sim geometrica(p)$\n",
        "\n",
        "1. Generar $U \\sim U(0,1)$\n",
        "2. Regresar $X=\\lceil ln(U)/ln(1-p)\\rceil$"
      ],
      "metadata": {
        "id": "Ey9CdiqGXMT9"
      }
    },
    {
      "cell_type": "code",
      "source": [
        "from random import random\n",
        "from math import log, ceil\n",
        "\n",
        "geometrica = lambda p:ceil(log(random())/log(1-p))\n",
        "\n",
        "for i in range(10):\n",
        "  print(geometrica(0.3))"
      ],
      "metadata": {
        "id": "6sPxct2OXLUz",
        "outputId": "8e1de55a-cd62-4cb4-e816-c2bd3eac5861",
        "colab": {
          "base_uri": "https://localhost:8080/"
        }
      },
      "execution_count": 68,
      "outputs": [
        {
          "output_type": "stream",
          "name": "stdout",
          "text": [
            "3\n",
            "7\n",
            "2\n",
            "17\n",
            "4\n",
            "3\n",
            "4\n",
            "3\n",
            "2\n",
            "2\n"
          ]
        }
      ]
    },
    {
      "cell_type": "markdown",
      "source": [
        "# Poisson\n",
        "\n",
        "Generar variable aleatoria Poisson. $X \\sim poisson(\\lambda)$\n",
        "\n",
        "1. $x=-1$, $b=1$ generar $U_i \\sim U(0,1)$\n",
        "2. Regresar $X=\\sum_{x=-1}^nx \\hspace{0.5cm}$ si $\\hspace{0.5cm} \\prod_{i=1}^n U_i \\leq e^{-b}$"
      ],
      "metadata": {
        "id": "7iQb_4KhYXWj"
      }
    },
    {
      "cell_type": "code",
      "source": [
        "from random import random\n",
        "from math import exp\n",
        "\n",
        "def poisson(l):\n",
        "  x = -1\n",
        "  b = 1\n",
        "  while b > exp(-l):\n",
        "    b *= random()\n",
        "    x += 1\n",
        "  return x\n",
        "\n",
        "for i in range(10):\n",
        "  print(poisson(2))"
      ],
      "metadata": {
        "id": "B7y3818PYWGk",
        "outputId": "da4442f9-9dfa-4308-d740-fe1d56d630c5",
        "colab": {
          "base_uri": "https://localhost:8080/"
        }
      },
      "execution_count": 88,
      "outputs": [
        {
          "output_type": "stream",
          "name": "stdout",
          "text": [
            "2\n",
            "2\n",
            "1\n",
            "3\n",
            "1\n",
            "1\n",
            "0\n",
            "1\n",
            "2\n",
            "1\n"
          ]
        }
      ]
    }
  ]
}