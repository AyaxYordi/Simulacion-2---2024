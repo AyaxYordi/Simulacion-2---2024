{
  "cells": [
    {
      "cell_type": "markdown",
      "id": "a5cc0a87",
      "metadata": {
        "id": "a5cc0a87"
      },
      "source": [
        "# Metodo de Monte Carlo acierto y error\n",
        "\n",
        "En este caso se utilizará el método de Monte Carlo para estimar integrales definidas."
      ]
    },
    {
      "cell_type": "markdown",
      "id": "fbbc8571",
      "metadata": {
        "id": "fbbc8571"
      },
      "source": [
        "**PASO 1**. Genere una secuencia $\\{U_j\\}_{j=1}^{2N}$ de $2N$ números aleatorios."
      ]
    },
    {
      "cell_type": "code",
      "execution_count": 8,
      "id": "37c5f31c",
      "metadata": {
        "id": "37c5f31c",
        "colab": {
          "base_uri": "https://localhost:8080/"
        },
        "outputId": "434d9aa2-6672-4bd8-99c0-427020e08e2f"
      },
      "outputs": [
        {
          "output_type": "stream",
          "name": "stdout",
          "text": [
            "(0.198298950512259, 0.5619358567652047)\n",
            "(0.23987200188072078, 0.4652823351374399)\n",
            "(0.6511036181298631, 0.8833053890956982)\n",
            "(0.470350828942078, 0.21151767910598873)\n",
            "(0.2761974989795515, 0.27591154202696044)\n",
            "(0.6465810762376483, 0.23685605733971438)\n",
            "(0.596308752365549, 0.8427854471825202)\n",
            "(0.9728658385424254, 0.2710089050440653)\n",
            "(0.10855766666672606, 0.6498654774026241)\n",
            "(0.870087197870722, 0.8417263279121663)\n"
          ]
        }
      ],
      "source": [
        "from random import random\n",
        "\n",
        "\"\"\"\n",
        "  Esta funcion genera un par de numeros aleatorios con distribucion uniforme\n",
        "  con a=0 y b=1\n",
        "\"\"\"\n",
        "def uniforme():\n",
        "  return (random(),random())\n",
        "\n",
        "# Pequeña prueba del codigo\n",
        "\n",
        "for i in range(10):\n",
        "  print(uniforme())\n"
      ]
    },
    {
      "cell_type": "markdown",
      "id": "4d3899f3",
      "metadata": {
        "id": "4d3899f3"
      },
      "source": [
        "**PASO 2**. Organice los números aleatorios en $N$ pares $(U_1,U_1^´),(U_2,U_2^´),...,(U_N,U_N^´)$ de cualquier forma tal que cada número aleatorio $U_j$ se use exactamente una vez."
      ]
    },
    {
      "cell_type": "code",
      "source": [
        "N = 5 #por ejemplo\n",
        "\n",
        "def lista(n):\n",
        "  l = []\n",
        "  for n in range(n):\n",
        "    l.append(uniforme())\n",
        "  return l\n",
        "\n",
        "print(lista(N))"
      ],
      "metadata": {
        "colab": {
          "base_uri": "https://localhost:8080/"
        },
        "id": "qTz9vvztulyM",
        "outputId": "bb77442e-82eb-4882-9133-34bc1367dbb4"
      },
      "id": "qTz9vvztulyM",
      "execution_count": 9,
      "outputs": [
        {
          "output_type": "stream",
          "name": "stdout",
          "text": [
            "[(0.03229396177370758, 0.6159661864984769), (0.07502807883035334, 0.15966375888028594), (0.4764136163302014, 0.8904559087302765), (0.8202304655965117, 0.2652627256884761), (0.3612071457517312, 0.9620985495682173)]\n"
          ]
        }
      ]
    },
    {
      "cell_type": "markdown",
      "id": "fd02116a",
      "metadata": {
        "id": "fd02116a"
      },
      "source": [
        "**PASO 3**. Calcule $X_i=a+U_i(b-a)\\hspace{0.5cm}$ y $\\hspace{0.5cm}g(X_i) , \\hspace{0.5cm}i=1,2,...,N$"
      ]
    },
    {
      "cell_type": "code",
      "source": [
        "X = lambda a,b,u: a+u[0]*(b-a)\n",
        "\n",
        "a = 0\n",
        "b = 1\n",
        "\n",
        "v = lista(N)\n",
        "\n",
        "# pequeña prueba del codigo\n",
        "for j in v:\n",
        "  print(X(a,b,j))\n"
      ],
      "metadata": {
        "colab": {
          "base_uri": "https://localhost:8080/"
        },
        "id": "57XxjBTwx3NS",
        "outputId": "2d930250-46ce-470c-be6b-5f51b5e12c26"
      },
      "id": "57XxjBTwx3NS",
      "execution_count": 24,
      "outputs": [
        {
          "output_type": "stream",
          "name": "stdout",
          "text": [
            "0.9285375263732516\n",
            "0.6608202799356101\n",
            "0.3614115371324276\n",
            "0.6992328547232693\n",
            "0.05884265549904211\n"
          ]
        }
      ]
    },
    {
      "cell_type": "markdown",
      "source": [
        "A modo de ejemplo se va a utilizar la función $g(x)=-x^2+x$"
      ],
      "metadata": {
        "id": "o9WFuM_o1_Ge"
      },
      "id": "o9WFuM_o1_Ge"
    },
    {
      "cell_type": "code",
      "source": [
        "import numpy as np\n",
        "\n",
        "g = np.poly1d([-1,1,0])\n",
        "\n",
        "for j in lista(N):\n",
        "  print(X(a,b,j),g(X(a,b,j)))\n"
      ],
      "metadata": {
        "colab": {
          "base_uri": "https://localhost:8080/"
        },
        "id": "JzkNfgFU0ErV",
        "outputId": "f312becf-8078-4e6f-8186-a9d403f69b27"
      },
      "id": "JzkNfgFU0ErV",
      "execution_count": 26,
      "outputs": [
        {
          "output_type": "stream",
          "name": "stdout",
          "text": [
            "0.1409062197351051 0.12105165697506737\n",
            "0.5859771894029313 0.24260792290237249\n",
            "0.3967840936692264 0.23934647668031697\n",
            "0.9645485401059317 0.03419465388544755\n",
            "0.5303593346203724 0.24907831080140824\n"
          ]
        }
      ]
    },
    {
      "cell_type": "markdown",
      "source": [
        "Grafica de la función"
      ],
      "metadata": {
        "id": "4qge3X7O4nie"
      },
      "id": "4qge3X7O4nie"
    },
    {
      "cell_type": "code",
      "source": [
        "import matplotlib.pyplot as plt\n",
        "\n",
        "fig,ax=plt.subplots()\n",
        "\n",
        "x = []\n",
        "for i in lista(N):\n",
        "  x.append(i[0])\n",
        "\n",
        "y = list(map(g ,x))\n",
        "\n",
        "x1 = np.arange(a,b,0.001)\n",
        "\n",
        "plt.title('Grafica')\n",
        "plt.xlabel('x')\n",
        "plt.ylabel('y')\n",
        "plt.plot(x1,g(x1),color=\"purple\",label=\"$g(x)$\")\n",
        "plt.plot(x,y,\"o\")\n",
        "plt.legend(loc='upper right')\n",
        "plt.axis('equal')\n",
        "plt.grid()\n",
        "plt.show()"
      ],
      "metadata": {
        "colab": {
          "base_uri": "https://localhost:8080/",
          "height": 472
        },
        "id": "763cmUNu4sWw",
        "outputId": "ee16291f-f4d4-43cd-edfd-954197864c6c"
      },
      "id": "763cmUNu4sWw",
      "execution_count": 12,
      "outputs": [
        {
          "output_type": "display_data",
          "data": {
            "text/plain": [
              "<Figure size 640x480 with 1 Axes>"
            ],
            "image/png": "[encoded data removed]"
          },
          "metadata": {}
        }
      ]
    },
    {
      "cell_type": "markdown",
      "id": "4852dcac",
      "metadata": {
        "id": "4852dcac"
      },
      "source": [
        "**PASO 4**. Cuente el número de casos $N_H$ para los cuales $g(X_i)>cU_i^{'}$"
      ]
    },
    {
      "cell_type": "code",
      "source": [
        "c = 1\n",
        "\n",
        "def NH(a,b,c,f,l):\n",
        "  n = 0\n",
        "  for i in l:\n",
        "    if f(X(a,b,i))>c*i[1]:\n",
        "      n+=1\n",
        "  return n\n",
        "\n",
        "print(NH(a,b,c,g,lista(100)))"
      ],
      "metadata": {
        "colab": {
          "base_uri": "https://localhost:8080/"
        },
        "id": "jQ3bBKDnDJ6g",
        "outputId": "8e9c0580-8e8d-428b-af44-84f7ab404f88"
      },
      "id": "jQ3bBKDnDJ6g",
      "execution_count": 60,
      "outputs": [
        {
          "output_type": "stream",
          "name": "stdout",
          "text": [
            "16\n"
          ]
        }
      ]
    },
    {
      "cell_type": "markdown",
      "id": "edb6b074",
      "metadata": {
        "id": "edb6b074"
      },
      "source": [
        "**PASO 5**. Estime la integral $I$ por $\\theta_1=c(b-a)\\dfrac{N_H}{N}$"
      ]
    },
    {
      "cell_type": "code",
      "execution_count": 70,
      "id": "7d56c432",
      "metadata": {
        "id": "7d56c432",
        "colab": {
          "base_uri": "https://localhost:8080/"
        },
        "outputId": "c7655c24-42d0-40dc-b8a6-c8100cca75d0"
      },
      "outputs": [
        {
          "output_type": "stream",
          "name": "stdout",
          "text": [
            "0.158\n"
          ]
        }
      ],
      "source": [
        "def I(a,b,c,n,f):\n",
        "  n2=0\n",
        "  for i in lista(n):\n",
        "    if f(X(a,b,i))>c*i[1]:\n",
        "      n2+=1\n",
        "  return c*(b-a)*(n2/n)\n",
        "\n",
        "print(I(0,1,0.5,1000,g))"
      ]
    },
    {
      "cell_type": "markdown",
      "id": "f38f3396",
      "metadata": {
        "id": "f38f3396"
      },
      "source": [
        "Use el método de Acierto y Error para estimar las integrales:\n",
        "\n",
        "$(a) \\int_{0}^{1}e^{e^x}dx$\n",
        "\n",
        "$(b) \\int_0^1\\sqrt{(1-x^2)^3}dx$"
      ]
    },
    {
      "cell_type": "markdown",
      "source": [
        "## Solución\n",
        "\n",
        "$$(a) \\int_{0}^{1}e^{e^x}dx$$"
      ],
      "metadata": {
        "id": "MWsLoctzNAOc"
      },
      "id": "MWsLoctzNAOc"
    },
    {
      "cell_type": "markdown",
      "source": [
        "**Paso 1.** Intervalo de integracion.\n",
        "\n",
        "El intervalo de integración va de $0\\leqslant x \\leqslant 1$ por lo tanto $a=0,b=1$ y se propone una cota de $c=100$ y $N=500000$ corremos el codigo para ver el resultado que arroja."
      ],
      "metadata": {
        "id": "ojYcw0XEwtFi"
      },
      "id": "ojYcw0XEwtFi"
    },
    {
      "cell_type": "code",
      "source": [
        "from math import exp\n",
        "\n",
        "def I(a,b,c,n,f):\n",
        "  s = 0\n",
        "  for i in lista(n):\n",
        "    if f(X(a,b,i))>c*i[1]:\n",
        "      s+=1\n",
        "  return c*(b-a)*(s/n)\n",
        "\n",
        "g1 = lambda x: exp(exp(x)) # funcion del inciso (a)\n",
        "\n",
        "print(\"I = {0}\".format(I(0,1,100,500000,g1)))"
      ],
      "metadata": {
        "colab": {
          "base_uri": "https://localhost:8080/"
        },
        "id": "cPmM4wmrLhtI",
        "outputId": "e0549d63-01ed-4560-a0b9-50c9cd1b98f2"
      },
      "id": "cPmM4wmrLhtI",
      "execution_count": 92,
      "outputs": [
        {
          "output_type": "stream",
          "name": "stdout",
          "text": [
            "I = 6.3154\n"
          ]
        }
      ]
    },
    {
      "cell_type": "code",
      "source": [
        "import matplotlib.pyplot as plt\n",
        "import numpy as np\n",
        "\n",
        "fig,ax=plt.subplots()\n",
        "\n",
        "N1 = np.arange(1,600,10) # con saltos de 10 en 10\n",
        "y = []\n",
        "for i in range(len(N1)):\n",
        "  y.append(I(0,1,100,N1[i],g1))\n",
        "\n",
        "plt.title('Grafica')\n",
        "plt.xlabel('$N$')\n",
        "plt.ylabel('$I(N)$')\n",
        "plt.plot(N1,y)\n",
        "plt.axis('equal')\n",
        "plt.show()"
      ],
      "metadata": {
        "colab": {
          "base_uri": "https://localhost:8080/",
          "height": 472
        },
        "id": "Ew1vhPcZsjK9",
        "outputId": "edb5e7c3-1ed1-43bf-f750-295df35afd49"
      },
      "id": "Ew1vhPcZsjK9",
      "execution_count": 98,
      "outputs": [
        {
          "output_type": "display_data",
          "data": {
            "text/plain": [
              "<Figure size 640x480 with 1 Axes>"
            ],
            "image/png": "[encoded data removed]"
          },
          "metadata": {}
        }
      ]
    },
    {
      "cell_type": "markdown",
      "source": [
        "Para la segunda integral se tiene el siguinete resultado si $a=0,b=1,c=100$ y $N=500000$"
      ],
      "metadata": {
        "id": "_9hb--5Pwq06"
      },
      "id": "_9hb--5Pwq06"
    },
    {
      "cell_type": "code",
      "source": [
        "from math import sqrt\n",
        "\n",
        "def I(a,b,c,n,f):\n",
        "  s = 0\n",
        "  for i in lista(n):\n",
        "    if f(X(a,b,i))>c*i[1]:\n",
        "      s+=1\n",
        "  return c*(b-a)*(s/n)\n",
        "\n",
        "g2 = lambda x: sqrt((1-x**2)**3) # funcion del inciso (b)\n",
        "\n",
        "print(\"I = {0}\".format(I(0,1,100,500000,g2)))"
      ],
      "metadata": {
        "id": "Vfk45cYSxWIN",
        "outputId": "7e72679a-2d7d-4932-8dac-436c63f4ca66",
        "colab": {
          "base_uri": "https://localhost:8080/"
        }
      },
      "id": "Vfk45cYSxWIN",
      "execution_count": 99,
      "outputs": [
        {
          "output_type": "stream",
          "name": "stdout",
          "text": [
            "I = 0.5928\n"
          ]
        }
      ]
    }
  ],
  "metadata": {
    "kernelspec": {
      "display_name": "Python 3 (ipykernel)",
      "language": "python",
      "name": "python3"
    },
    "language_info": {
      "codemirror_mode": {
        "name": "ipython",
        "version": 3
      },
      "file_extension": ".py",
      "mimetype": "text/x-python",
      "name": "python",
      "nbconvert_exporter": "python",
      "pygments_lexer": "ipython3",
      "version": "3.7.3"
    },
    "colab": {
      "provenance": []
    }
  },
  "nbformat": 4,
  "nbformat_minor": 5
}