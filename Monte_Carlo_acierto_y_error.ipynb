{
  "cells": [
    {
      "cell_type": "markdown",
      "id": "a5cc0a87",
      "metadata": {
        "id": "a5cc0a87"
      },
      "source": [
        "# Metodo de Monte Carlo acierto y error\n",
        "\n",
        "En este caso se utilizará el método de Monte Carlo para estimar integrales definidas."
      ]
    },
    {
      "cell_type": "markdown",
      "id": "fbbc8571",
      "metadata": {
        "id": "fbbc8571"
      },
      "source": [
        "**PASO 1**. Genere una secuencia $\\{U_j\\}_{j=1}^{2N}$ de $2N$ números aleatorios."
      ]
    },
    {
      "cell_type": "code",
      "execution_count": 5,
      "id": "37c5f31c",
      "metadata": {
        "id": "37c5f31c",
        "colab": {
          "base_uri": "https://localhost:8080/"
        },
        "outputId": "056ca4cc-1e0a-43e9-8bb2-99b1896637b1"
      },
      "outputs": [
        {
          "output_type": "stream",
          "name": "stdout",
          "text": [
            "(0.37102090930765985, 0.6792554976799093)\n",
            "(0.1475945405844339, 0.05391651455411772)\n",
            "(0.8728611021641494, 0.22057089435679345)\n",
            "(0.971628614086597, 0.8260268896884992)\n",
            "(0.21342843138085565, 0.5375162296764966)\n",
            "(0.5637899225453183, 0.6442774031099419)\n",
            "(0.13447695265587756, 0.1629553291491912)\n",
            "(0.6939070897825773, 0.6308989438393382)\n",
            "(0.22287032901523207, 0.6064839501992879)\n",
            "(0.08619185143644181, 0.5578215285951461)\n"
          ]
        }
      ],
      "source": [
        "from random import random\n",
        "\n",
        "\"\"\"\n",
        "  Esta funcion genera un par de numeros aleatorios con distribucion uniforme\n",
        "  con a=0 y b=1\n",
        "\"\"\"\n",
        "def uniforme():\n",
        "  return (random(),random())\n",
        "\n",
        "# Pequeña prueba del codigo\n",
        "\n",
        "for i in range(10):\n",
        "  print(uniforme())\n"
      ]
    },
    {
      "cell_type": "markdown",
      "id": "4d3899f3",
      "metadata": {
        "id": "4d3899f3"
      },
      "source": [
        "**PASO 2**. Organice los números aleatorios en $N$ pares $(U_1,U_1^´),(U_2,U_2^´),...,(U_N,U_N^´)$ de cualquier forma tal que cada número aleatorio $U_j$ se use exactamente una vez."
      ]
    },
    {
      "cell_type": "code",
      "source": [
        "N = 5 #por ejemplo\n",
        "\n",
        "def lista(n):\n",
        "  l = []\n",
        "  for n in range(n):\n",
        "    l.append(uniforme())\n",
        "  return l\n",
        "\n",
        "print(lista(N))"
      ],
      "metadata": {
        "colab": {
          "base_uri": "https://localhost:8080/"
        },
        "id": "qTz9vvztulyM",
        "outputId": "40836b91-8eed-4c1d-c1a3-210f587c3f2c"
      },
      "id": "qTz9vvztulyM",
      "execution_count": 6,
      "outputs": [
        {
          "output_type": "stream",
          "name": "stdout",
          "text": [
            "[(0.29196862763248155, 0.08767262902416317), (0.12634468991819925, 0.24460541229165422), (0.1930150291011543, 0.28755630849668057), (0.23039290293712988, 0.3926244445511272), (0.15666539595203066, 0.9849436183012548)]\n"
          ]
        }
      ]
    },
    {
      "cell_type": "markdown",
      "id": "fd02116a",
      "metadata": {
        "id": "fd02116a"
      },
      "source": [
        "**PASO 3**. Calcule $X_i=a+U_i(b-a)\\hspace{0.5cm}$ y $\\hspace{0.5cm}g(X_i) , \\hspace{0.5cm}i=1,2,...,N$"
      ]
    },
    {
      "cell_type": "code",
      "source": [
        "X = lambda a,b,u: a+u[0]*(b-a)\n",
        "\n",
        "a = 0\n",
        "b = 1\n",
        "\n",
        "v = lista(N)\n",
        "\n",
        "# pequeña prueba del codigo\n",
        "for j in v:\n",
        "  print(X(a,b,j))\n"
      ],
      "metadata": {
        "colab": {
          "base_uri": "https://localhost:8080/"
        },
        "id": "57XxjBTwx3NS",
        "outputId": "24cd22af-2229-4136-c39a-537aa81546fc"
      },
      "id": "57XxjBTwx3NS",
      "execution_count": 7,
      "outputs": [
        {
          "output_type": "stream",
          "name": "stdout",
          "text": [
            "0.9495311651812512\n",
            "0.9847932716348462\n",
            "0.667552991434356\n",
            "0.8467004336695925\n",
            "0.14372987438913887\n"
          ]
        }
      ]
    },
    {
      "cell_type": "markdown",
      "source": [
        "A modo de ejemplo se va a utilizar la función $g(x)=-x^2+x$"
      ],
      "metadata": {
        "id": "o9WFuM_o1_Ge"
      },
      "id": "o9WFuM_o1_Ge"
    },
    {
      "cell_type": "code",
      "source": [
        "import numpy as np\n",
        "\n",
        "g = np.poly1d([-1,1,0])\n",
        "\n",
        "for j in lista(N):\n",
        "  print(X(a,b,j),g(X(a,b,j)))\n"
      ],
      "metadata": {
        "colab": {
          "base_uri": "https://localhost:8080/"
        },
        "id": "JzkNfgFU0ErV",
        "outputId": "5a13bd6a-f5f8-4898-8d6a-9e1ea932ff94"
      },
      "id": "JzkNfgFU0ErV",
      "execution_count": 8,
      "outputs": [
        {
          "output_type": "stream",
          "name": "stdout",
          "text": [
            "0.8419669275992715 0.1330586204283146\n",
            "0.5215338065533629 0.24953629517532233\n",
            "0.4223958447367653 0.24397759508587977\n",
            "0.9812867602088301 0.018363054447688074\n",
            "0.5924956929174406 0.24144454679172253\n"
          ]
        }
      ]
    },
    {
      "cell_type": "markdown",
      "source": [
        "Grafica de la función"
      ],
      "metadata": {
        "id": "4qge3X7O4nie"
      },
      "id": "4qge3X7O4nie"
    },
    {
      "cell_type": "code",
      "source": [
        "import matplotlib.pyplot as plt\n",
        "\n",
        "fig,ax=plt.subplots()\n",
        "\n",
        "x = []\n",
        "for i in lista(10):\n",
        "  x.append(i[0])\n",
        "\n",
        "y = ( g(i) for i in x )\n",
        "x1 = np.arange(a,b,0.001)\n",
        "\n",
        "plt.title('Grafica')\n",
        "plt.xlabel('x')\n",
        "plt.ylabel('y')\n",
        "plt.plot(x1,g(x1),color=\"purple\",label=\"$g(x)$\")\n",
        "plt.plot(x,list(y),\"o\")\n",
        "plt.legend(loc='upper right')\n",
        "plt.axis('equal')\n",
        "plt.grid()\n",
        "plt.show()"
      ],
      "metadata": {
        "colab": {
          "base_uri": "https://localhost:8080/",
          "height": 472
        },
        "id": "763cmUNu4sWw",
        "outputId": "07bc9c6a-4f72-4d42-9b11-20b83da7d87b"
      },
      "id": "763cmUNu4sWw",
      "execution_count": 12,
      "outputs": [
        {
          "output_type": "display_data",
          "data": {
            "text/plain": [
              "<Figure size 640x480 with 1 Axes>"
            ],
            "image/png": "[encoded data removed]"
          },
          "metadata": {}
        }
      ]
    },
    {
      "cell_type": "markdown",
      "id": "4852dcac",
      "metadata": {
        "id": "4852dcac"
      },
      "source": [
        "**PASO 4**. Cuente el número de casos $N_H$ para los cuales $g(X_i)>cU_i^{'}$"
      ]
    },
    {
      "cell_type": "code",
      "source": [
        "c = 1\n",
        "\n",
        "def NH(a,b,c,f,l):\n",
        "  n = 0\n",
        "  for i in l:\n",
        "    if f(X(a,b,i))>c*i[1]:\n",
        "      n+=1\n",
        "  return n\n",
        "\n",
        "print(\"N_H = {0}\".format(NH(a,b,c,g,lista(100))))"
      ],
      "metadata": {
        "colab": {
          "base_uri": "https://localhost:8080/"
        },
        "id": "jQ3bBKDnDJ6g",
        "outputId": "5077d14d-28f3-4cc6-e836-e66ba61b6ba9"
      },
      "id": "jQ3bBKDnDJ6g",
      "execution_count": 15,
      "outputs": [
        {
          "output_type": "stream",
          "name": "stdout",
          "text": [
            "N_H = 12\n"
          ]
        }
      ]
    },
    {
      "cell_type": "markdown",
      "id": "edb6b074",
      "metadata": {
        "id": "edb6b074"
      },
      "source": [
        "**PASO 5**. Estime la integral $I$ por $\\theta_1=c(b-a)\\dfrac{N_H}{N}$"
      ]
    },
    {
      "cell_type": "code",
      "execution_count": 17,
      "id": "7d56c432",
      "metadata": {
        "id": "7d56c432",
        "colab": {
          "base_uri": "https://localhost:8080/"
        },
        "outputId": "fb23650e-0f0d-4845-d4f6-f09cc8e5cea2"
      },
      "outputs": [
        {
          "output_type": "stream",
          "name": "stdout",
          "text": [
            "0.1785\n"
          ]
        }
      ],
      "source": [
        "def I(a,b,c,n,f):\n",
        "  n2=0\n",
        "  for i in lista(n):\n",
        "    if f(X(a,b,i))>c*i[1]:\n",
        "      n2+=1\n",
        "  return c*(b-a)*(n2/n)\n",
        "\n",
        "print(I(0,1,0.5,1000,g))"
      ]
    },
    {
      "cell_type": "markdown",
      "id": "f38f3396",
      "metadata": {
        "id": "f38f3396"
      },
      "source": [
        "Use el método de Acierto y Error para estimar las integrales:\n",
        "\n",
        "$(a) \\int_{0}^{1}e^{e^x}dx$\n",
        "\n",
        "$(b) \\int_0^1\\sqrt{(1-x^2)^3}dx$"
      ]
    },
    {
      "cell_type": "markdown",
      "source": [
        "## Solución\n",
        "\n",
        "$$(a) \\int_{0}^{1}e^{e^x}dx$$"
      ],
      "metadata": {
        "id": "MWsLoctzNAOc"
      },
      "id": "MWsLoctzNAOc"
    },
    {
      "cell_type": "markdown",
      "source": [
        "**Paso 1.** Intervalo de integracion.\n",
        "\n",
        "El intervalo de integración va de $0\\leqslant x \\leqslant 1$ por lo tanto $a=0,b=1$ y se propone una cota de $c=100$ y $N=500000$ corremos el codigo para ver el resultado que arroja."
      ],
      "metadata": {
        "id": "ojYcw0XEwtFi"
      },
      "id": "ojYcw0XEwtFi"
    },
    {
      "cell_type": "code",
      "source": [
        "from math import exp\n",
        "\n",
        "def I(a,b,c,n,f):\n",
        "  s = 0\n",
        "  for i in lista(n):\n",
        "    if f(X(a,b,i))>c*i[1]:\n",
        "      s+=1\n",
        "  return c*(b-a)*(s/n)\n",
        "\n",
        "g1 = lambda x: exp(exp(x)) # funcion del inciso (a)\n",
        "\n",
        "print(\"I = {0}\".format(I(0,1,100,500000,g1)))"
      ],
      "metadata": {
        "colab": {
          "base_uri": "https://localhost:8080/"
        },
        "id": "cPmM4wmrLhtI",
        "outputId": "2afd98da-34af-4cfc-c4f6-86a07e26b932"
      },
      "id": "cPmM4wmrLhtI",
      "execution_count": 19,
      "outputs": [
        {
          "output_type": "stream",
          "name": "stdout",
          "text": [
            "I = 6.3206\n"
          ]
        }
      ]
    },
    {
      "cell_type": "code",
      "source": [
        "import matplotlib.pyplot as plt\n",
        "import numpy as np\n",
        "\n",
        "fig,ax=plt.subplots()\n",
        "\n",
        "N1 = np.arange(1,200000,1000) # con saltos de 10 en 10\n",
        "\n",
        "y = (I(0,1,100,N1[i],g1) for i in range(len(N1)))\n",
        "\n",
        "plt.title('Grafica')\n",
        "plt.xlabel('$N$')\n",
        "plt.ylabel('$I(N)$')\n",
        "plt.plot(N1,list(y))\n",
        "plt.show()"
      ],
      "metadata": {
        "colab": {
          "base_uri": "https://localhost:8080/",
          "height": 472
        },
        "id": "Ew1vhPcZsjK9",
        "outputId": "c55488a8-1b8f-4c98-e088-bf9c07830be8"
      },
      "id": "Ew1vhPcZsjK9",
      "execution_count": 36,
      "outputs": [
        {
          "output_type": "display_data",
          "data": {
            "text/plain": [
              "<Figure size 640x480 with 1 Axes>"
            ],
            "image/png": "[encoded data removed]"
          },
          "metadata": {}
        }
      ]
    },
    {
      "cell_type": "markdown",
      "source": [
        "Para la segunda integral se tiene el siguinete resultado si $a=0,b=1,c=100$ y $N=500000$"
      ],
      "metadata": {
        "id": "_9hb--5Pwq06"
      },
      "id": "_9hb--5Pwq06"
    },
    {
      "cell_type": "code",
      "source": [
        "from math import sqrt\n",
        "\n",
        "def I(a,b,c,n,f):\n",
        "  s = 0\n",
        "  for i in lista(n):\n",
        "    if f(X(a,b,i))>c*i[1]:\n",
        "      s+=1\n",
        "  return c*(b-a)*(s/n)\n",
        "\n",
        "g2 = lambda x: sqrt((1-x**2)**3) # funcion del inciso (b)\n",
        "\n",
        "print(\"I = {0}\".format(I(0,1,100,500000,g2)))"
      ],
      "metadata": {
        "id": "Vfk45cYSxWIN",
        "outputId": "7e72679a-2d7d-4932-8dac-436c63f4ca66",
        "colab": {
          "base_uri": "https://localhost:8080/"
        }
      },
      "id": "Vfk45cYSxWIN",
      "execution_count": null,
      "outputs": [
        {
          "output_type": "stream",
          "name": "stdout",
          "text": [
            "I = 0.5928\n"
          ]
        }
      ]
    }
  ],
  "metadata": {
    "kernelspec": {
      "display_name": "Python 3 (ipykernel)",
      "language": "python",
      "name": "python3"
    },
    "language_info": {
      "codemirror_mode": {
        "name": "ipython",
        "version": 3
      },
      "file_extension": ".py",
      "mimetype": "text/x-python",
      "name": "python",
      "nbconvert_exporter": "python",
      "pygments_lexer": "ipython3",
      "version": "3.7.3"
    },
    "colab": {
      "provenance": []
    }
  },
  "nbformat": 4,
  "nbformat_minor": 5
}