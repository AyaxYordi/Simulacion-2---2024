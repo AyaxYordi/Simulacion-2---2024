{
  "cells": [
    {
      "cell_type": "markdown",
      "id": "a5cc0a87",
      "metadata": {
        "id": "a5cc0a87"
      },
      "source": [
        "# Metodo de Monte Carlo acierto y error\n"
      ]
    },
    {
      "cell_type": "markdown",
      "id": "fbbc8571",
      "metadata": {
        "id": "fbbc8571"
      },
      "source": [
        "**PASO 1**. Genere una secuencia $\\{U_j\\}_{j=1}^{2N}$ de $2N$ números aleatorios."
      ]
    },
    {
      "cell_type": "code",
      "execution_count": 157,
      "id": "37c5f31c",
      "metadata": {
        "id": "37c5f31c",
        "colab": {
          "base_uri": "https://localhost:8080/"
        },
        "outputId": "59c4df23-c093-4cbb-fedc-cfa374a52854"
      },
      "outputs": [
        {
          "output_type": "stream",
          "name": "stdout",
          "text": [
            "(0.32073346314847595, 0.6614892791338923)\n",
            "(0.4335112246971, 0.30759152293618075)\n",
            "(0.9097845261692644, 0.5338354647376665)\n",
            "(0.8518730044819627, 0.9048573172969525)\n",
            "(0.18641378624676852, 0.3574878191009959)\n",
            "(0.43397503777816837, 0.7367146039646224)\n",
            "(0.7787059021700228, 0.4848532391094571)\n",
            "(0.717622087951484, 0.6710048386952917)\n",
            "(0.5341209759948844, 0.4627583386679719)\n",
            "(0.9191677041386811, 0.87033441062342)\n"
          ]
        }
      ],
      "source": [
        "from random import random\n",
        "\n",
        "\"\"\"\n",
        "  Esta funcion genera un par de numeros aleatorios con distribucion uniforme\n",
        "  con a=0 y b=1\n",
        "\"\"\"\n",
        "def uniforme():\n",
        "  return (random(),random())\n",
        "\n",
        "# Pequeña prueba del codigo\n",
        "\n",
        "for i in range(10):\n",
        "  print(uniforme())\n",
        ""
      ]
    },
    {
      "cell_type": "markdown",
      "id": "4d3899f3",
      "metadata": {
        "id": "4d3899f3"
      },
      "source": [
        "**PASO 2**. Organice los números aleatorios en $N$ pares $(U_1,U_1^´),(U_2,U_2^´),...,(U_N,U_N^´)$ de cualquier forma tal que cada número aleatorio $U_j$ se use exactamente una vez."
      ]
    },
    {
      "cell_type": "code",
      "source": [
        "N = 5 #por ejemplo\n",
        "\n",
        "def lista(n):\n",
        "  l = []\n",
        "  for n in range(n):\n",
        "    l.append(uniforme())\n",
        "  return l\n",
        "\n",
        "print(lista(N))"
      ],
      "metadata": {
        "colab": {
          "base_uri": "https://localhost:8080/"
        },
        "id": "qTz9vvztulyM",
        "outputId": "93931f51-852a-4519-faa6-ed8d373ca1d7"
      },
      "id": "qTz9vvztulyM",
      "execution_count": 177,
      "outputs": [
        {
          "output_type": "stream",
          "name": "stdout",
          "text": [
            "[(0.5402938697962761, 0.8283926356969222), (0.9627531064419885, 0.5562950662688374), (0.6756784335727458, 0.6196620656556265), (0.8986822376578869, 0.605265741343713), (0.3382495053372927, 0.7173523549472228)]\n"
          ]
        }
      ]
    },
    {
      "cell_type": "markdown",
      "id": "fd02116a",
      "metadata": {
        "id": "fd02116a"
      },
      "source": [
        "**PASO 3**. Calcule $X_i=a+U_i(b-a)\\hspace{0.5cm}$ y $\\hspace{0.5cm}g(X_i) , \\hspace{0.5cm}i=1,2,...,N$"
      ]
    },
    {
      "cell_type": "code",
      "source": [
        "X = lambda a,b,u: a+u[0]*(b-a)\n",
        "\n",
        "a = 0\n",
        "b = 1\n",
        "\n",
        "v = lista(N)\n",
        "\n",
        "# pequeña prueba del codigo\n",
        "for j in v:\n",
        "  print(X(a,b,j))\n"
      ],
      "metadata": {
        "colab": {
          "base_uri": "https://localhost:8080/"
        },
        "id": "57XxjBTwx3NS",
        "outputId": "1ec9d317-d94c-48e2-dc33-edd9f961a448"
      },
      "id": "57XxjBTwx3NS",
      "execution_count": 198,
      "outputs": [
        {
          "output_type": "stream",
          "name": "stdout",
          "text": [
            "0.702526062645113\n",
            "0.4471337908601609\n",
            "0.26486070759262625\n",
            "0.5982196312359258\n",
            "0.0950028316144439\n"
          ]
        }
      ]
    },
    {
      "cell_type": "markdown",
      "source": [
        "A modo de ejemplo se va a utilizar la función $g(x)=-x^2+x$"
      ],
      "metadata": {
        "id": "o9WFuM_o1_Ge"
      },
      "id": "o9WFuM_o1_Ge"
    },
    {
      "cell_type": "code",
      "source": [
        "import numpy as np\n",
        "\n",
        "g = np.poly1d([-1,1,0])\n",
        "\n",
        "for j in lista(N):\n",
        "  print(X(a,b,j),g(X(a,b,j)))\n"
      ],
      "metadata": {
        "colab": {
          "base_uri": "https://localhost:8080/"
        },
        "id": "JzkNfgFU0ErV",
        "outputId": "5493ec2d-16c8-415f-ff25-f8d2932008e9"
      },
      "id": "JzkNfgFU0ErV",
      "execution_count": 102,
      "outputs": [
        {
          "output_type": "stream",
          "name": "stdout",
          "text": [
            "0.6565037675557918 0.2255065707408427\n",
            "0.9099106222201916 0.08197328179105537\n",
            "0.1470804504720824 0.1254477915610117\n",
            "0.8721852504922929 0.1114781393159892\n",
            "0.12804955009707153 0.1116528628170091\n"
          ]
        }
      ]
    },
    {
      "cell_type": "markdown",
      "source": [
        "Grafica de la función"
      ],
      "metadata": {
        "id": "4qge3X7O4nie"
      },
      "id": "4qge3X7O4nie"
    },
    {
      "cell_type": "code",
      "source": [
        "import matplotlib.pyplot as plt\n",
        "\n",
        "fig,ax=plt.subplots()\n",
        "\n",
        "x = []\n",
        "for i in lista(N):\n",
        "  x.append(i[0])\n",
        "\n",
        "y = list(map(g ,x))\n",
        "\n",
        "x1 = np.arange(a,b,0.001)\n",
        "\n",
        "plt.title('Grafica')\n",
        "plt.xlabel('x')\n",
        "plt.ylabel('y')\n",
        "plt.plot(x1,g(x1),color=\"purple\",label=\"$g(x)$\")\n",
        "plt.plot(x,y,\"o\")\n",
        "plt.legend(loc='upper right')\n",
        "plt.axis('equal')\n",
        "plt.grid()\n",
        "plt.show()"
      ],
      "metadata": {
        "colab": {
          "base_uri": "https://localhost:8080/",
          "height": 472
        },
        "id": "763cmUNu4sWw",
        "outputId": "d9690f67-153c-42a4-ea01-e258d48d1ff8"
      },
      "id": "763cmUNu4sWw",
      "execution_count": 200,
      "outputs": [
        {
          "output_type": "display_data",
          "data": {
            "text/plain": [
              "<Figure size 640x480 with 1 Axes>"
            ],
            "image/png": "[encoded data removed]"
          },
          "metadata": {}
        }
      ]
    },
    {
      "cell_type": "markdown",
      "id": "4852dcac",
      "metadata": {
        "id": "4852dcac"
      },
      "source": [
        "**PASO 4**. Cuente el número de casos $N_H$ para los cuales $g(X_i)>cU_i^{'}$"
      ]
    },
    {
      "cell_type": "code",
      "source": [
        "c = 5\n",
        "\n",
        "def NH(a,b,f,l):\n",
        "  n = 0\n",
        "  for i in l:\n",
        "    if f(X(a,b,i))>c*i[1]:\n",
        "      n+=1\n",
        "  return n\n",
        "print(NH(a,b,g,lista(N)))"
      ],
      "metadata": {
        "colab": {
          "base_uri": "https://localhost:8080/"
        },
        "id": "jQ3bBKDnDJ6g",
        "outputId": "e0e0f0ba-f9a2-4310-92ef-6c24db9ceb20"
      },
      "id": "jQ3bBKDnDJ6g",
      "execution_count": 352,
      "outputs": [
        {
          "output_type": "stream",
          "name": "stdout",
          "text": [
            "35\n"
          ]
        }
      ]
    },
    {
      "cell_type": "markdown",
      "id": "edb6b074",
      "metadata": {
        "id": "edb6b074"
      },
      "source": [
        "**PASO 5**. Estime la integral $I$ por $\\theta_1=c(b-a)\\dfrac{N_H}{N}$"
      ]
    },
    {
      "cell_type": "code",
      "execution_count": 362,
      "id": "7d56c432",
      "metadata": {
        "id": "7d56c432",
        "colab": {
          "base_uri": "https://localhost:8080/"
        },
        "outputId": "20ad994f-58a4-44ae-e2c2-5428b1e45e51"
      },
      "outputs": [
        {
          "output_type": "stream",
          "name": "stdout",
          "text": [
            "0.185\n"
          ]
        }
      ],
      "source": [
        "def I(a,b,c,n,f):\n",
        "  n2=0\n",
        "  for i in lista(n):\n",
        "    if f(X(a,b,i))>c*i[1]:\n",
        "      n2+=1\n",
        "  return c*(b-a)*(n2/n)\n",
        "\n",
        "print(I(a,b,c,N,g))"
      ]
    },
    {
      "cell_type": "markdown",
      "id": "f38f3396",
      "metadata": {
        "id": "f38f3396"
      },
      "source": [
        "Use el método de Acierto y Error para estimar las integrales:\n",
        "\n",
        "$$(a) \\int_{0}^{1}e^{e^x}dx$$\n",
        "$$(b) \\int_0^1\\sqrt{(1-x^2)^3}dx$$"
      ]
    },
    {
      "cell_type": "markdown",
      "source": [
        "Para la primer integral se tiene el siguiente resultado si $a=0,b=1,c=100$ y $N=500000$"
      ],
      "metadata": {
        "id": "ojYcw0XEwtFi"
      },
      "id": "ojYcw0XEwtFi"
    },
    {
      "cell_type": "code",
      "source": [
        "from math import exp\n",
        "\n",
        "def I(a,b,c,n,f):\n",
        "  n2=0\n",
        "  for i in lista(n):\n",
        "    if f(X(a,b,i))>c*i[1]:\n",
        "      n2+=1\n",
        "  return c*(b-a)*(n2/n)\n",
        "\n",
        "g1 = lambda x: exp(exp(x)) # funcion del inciso (a)\n",
        "\n",
        "print(\"I = {0}\".format(I(0,1,100,500000,g1)))"
      ],
      "metadata": {
        "colab": {
          "base_uri": "https://localhost:8080/"
        },
        "id": "cPmM4wmrLhtI",
        "outputId": "de0db510-0e05-4131-a3d0-1225a562d303"
      },
      "id": "cPmM4wmrLhtI",
      "execution_count": 393,
      "outputs": [
        {
          "output_type": "stream",
          "name": "stdout",
          "text": [
            "I = 6.3928\n"
          ]
        }
      ]
    },
    {
      "cell_type": "code",
      "source": [
        "import matplotlib.pyplot as plt\n",
        "import numpy as np\n",
        "\n",
        "fig,ax=plt.subplots()\n",
        "\n",
        "x = np.arange(1,300,1)\n",
        "y = []\n",
        "for i in range(len(x)):\n",
        "  y.append(I(0,1,100,x[i],g1))\n",
        "\n",
        "plt.title('Grafica')\n",
        "plt.xlabel('$N$')\n",
        "plt.ylabel('$I(N)$')\n",
        "plt.plot(x,y)\n",
        "plt.axis('equal')\n",
        "plt.show()"
      ],
      "metadata": {
        "colab": {
          "base_uri": "https://localhost:8080/",
          "height": 472
        },
        "id": "Ew1vhPcZsjK9",
        "outputId": "eea8a37a-5563-49c1-f280-904fd9abb7ba"
      },
      "id": "Ew1vhPcZsjK9",
      "execution_count": 395,
      "outputs": [
        {
          "output_type": "display_data",
          "data": {
            "text/plain": [
              "<Figure size 640x480 with 1 Axes>"
            ],
            "image/png": "[encoded data removed]"
          },
          "metadata": {}
        }
      ]
    },
    {
      "cell_type": "markdown",
      "source": [
        "Para la segunda integral se tiene el siguinete resultado si $a=0,b=1,c=100$ y $N=500000$"
      ],
      "metadata": {
        "id": "_9hb--5Pwq06"
      },
      "id": "_9hb--5Pwq06"
    },
    {
      "cell_type": "code",
      "source": [
        "from math import sqrt\n",
        "\n",
        "def I(a,b,c,n,f):\n",
        "  n2=0\n",
        "  for i in lista(n):\n",
        "    if f(X(a,b,i))>c*i[1]:\n",
        "      n2+=1\n",
        "  return c*(b-a)*(n2/n)\n",
        "\n",
        "g2 = lambda x: sqrt((1-x**2)**3) # funcion del inciso (b)\n",
        "\n",
        "print(\"I = {0}\".format(I(0,1,100,500000,g2)))"
      ],
      "metadata": {
        "id": "Vfk45cYSxWIN",
        "outputId": "3551ee4f-e4f9-467a-8f57-5d0fc31f5aa7",
        "colab": {
          "base_uri": "https://localhost:8080/"
        }
      },
      "id": "Vfk45cYSxWIN",
      "execution_count": 404,
      "outputs": [
        {
          "output_type": "stream",
          "name": "stdout",
          "text": [
            "I = 0.5842\n"
          ]
        }
      ]
    }
  ],
  "metadata": {
    "kernelspec": {
      "display_name": "Python 3 (ipykernel)",
      "language": "python",
      "name": "python3"
    },
    "language_info": {
      "codemirror_mode": {
        "name": "ipython",
        "version": 3
      },
      "file_extension": ".py",
      "mimetype": "text/x-python",
      "name": "python",
      "nbconvert_exporter": "python",
      "pygments_lexer": "ipython3",
      "version": "3.7.3"
    },
    "colab": {
      "provenance": []
    }
  },
  "nbformat": 4,
  "nbformat_minor": 5
}