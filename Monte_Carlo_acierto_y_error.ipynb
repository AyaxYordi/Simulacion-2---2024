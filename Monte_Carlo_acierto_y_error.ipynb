{
  "cells": [
    {
      "cell_type": "markdown",
      "id": "a5cc0a87",
      "metadata": {
        "id": "a5cc0a87"
      },
      "source": [
        "# Metodo de Monte Carlo acierto y error\n"
      ]
    },
    {
      "cell_type": "markdown",
      "id": "fbbc8571",
      "metadata": {
        "id": "fbbc8571"
      },
      "source": [
        "**PASO 1**. Genere una secuencia $\\{U_j\\}_{j=1}^{2N}$ de $2N$ números aleatorios."
      ]
    },
    {
      "cell_type": "code",
      "execution_count": 3,
      "id": "37c5f31c",
      "metadata": {
        "id": "37c5f31c",
        "colab": {
          "base_uri": "https://localhost:8080/"
        },
        "outputId": "b5707d18-bde5-4e8a-bc5d-a2e93d49bdb6"
      },
      "outputs": [
        {
          "output_type": "stream",
          "name": "stdout",
          "text": [
            "(0.10973225398815589, 0.47845759089149364)\n",
            "(0.6571463229742093, 0.20739813768166093)\n",
            "(0.8310582542370273, 0.9732525768717)\n",
            "(0.9846560772817833, 0.39051905982169355)\n",
            "(0.29017455455108987, 0.3401001409256298)\n",
            "(0.052665056120875464, 0.7436898284496664)\n",
            "(0.42785275448809545, 0.03525250528067969)\n",
            "(0.2540759767999765, 0.17149889717746747)\n",
            "(0.25977379660839284, 0.1061975866559366)\n",
            "(0.6068135472285722, 0.5157906740242943)\n"
          ]
        }
      ],
      "source": [
        "from random import random\n",
        "\n",
        "\"\"\"\n",
        "  Esta funcion genera un par de numeros aleatorios con distribucion uniforme\n",
        "  con a=0 y b=1\n",
        "\"\"\"\n",
        "def uniforme():\n",
        "  return (random(),random())\n",
        "\n",
        "# Pequeña prueba del codigo\n",
        "\n",
        "for i in range(10):\n",
        "  print(uniforme())\n",
        ""
      ]
    },
    {
      "cell_type": "markdown",
      "id": "4d3899f3",
      "metadata": {
        "id": "4d3899f3"
      },
      "source": [
        "**PASO 2**. Organice los números aleatorios en $N$ pares $(U_1,U_1^´),(U_2,U_2^´),...,(U_N,U_N^´)$ de cualquier forma tal que cada número aleatorio $U_j$ se use exactamente una vez."
      ]
    },
    {
      "cell_type": "code",
      "source": [
        "lista = []\n",
        "N = 5 #por ejemplo\n",
        "for n in range(N):\n",
        "  lista.append(uniforme())\n",
        "\n",
        "print(lista)"
      ],
      "metadata": {
        "colab": {
          "base_uri": "https://localhost:8080/"
        },
        "id": "qTz9vvztulyM",
        "outputId": "23da2491-909c-43a5-9c09-355b0eb91a96"
      },
      "id": "qTz9vvztulyM",
      "execution_count": 42,
      "outputs": [
        {
          "output_type": "stream",
          "name": "stdout",
          "text": [
            "[(0.942571766217972, 0.16329932756909915), (0.41928148231975826, 0.30353017867877796), (0.7801614902516041, 0.0005480241893994764), (0.23085338539998368, 0.994763766671869), (0.5992789253592679, 0.1912576792208146)]\n"
          ]
        }
      ]
    },
    {
      "cell_type": "markdown",
      "id": "fd02116a",
      "metadata": {
        "id": "fd02116a"
      },
      "source": [
        "**PASO 3**. Calcule $X_i=a+U_i(b-a)\\hspace{0.5cm}$ y $\\hspace{0.5cm}g(X_i) , \\hspace{0.5cm}i=1,2,...,N$"
      ]
    },
    {
      "cell_type": "code",
      "source": [
        "X = lambda a,b,u: a+u[0]*(b-a)\n",
        "\n",
        "a = 0\n",
        "b = 1\n",
        "\n",
        "# pequeña prueba del codigo\n",
        "for j in lista:\n",
        "  print(X(a,b,j))"
      ],
      "metadata": {
        "colab": {
          "base_uri": "https://localhost:8080/"
        },
        "id": "57XxjBTwx3NS",
        "outputId": "ec65e6df-d347-4214-fa07-418e47b3a050"
      },
      "id": "57XxjBTwx3NS",
      "execution_count": 49,
      "outputs": [
        {
          "output_type": "stream",
          "name": "stdout",
          "text": [
            "0.942571766217972\n",
            "0.41928148231975826\n",
            "0.7801614902516041\n",
            "0.23085338539998368\n",
            "0.5992789253592679\n"
          ]
        }
      ]
    },
    {
      "cell_type": "markdown",
      "source": [
        "A modo de ejemplo se va a utilizar la función $g(x)=-x^2+x$"
      ],
      "metadata": {
        "id": "o9WFuM_o1_Ge"
      },
      "id": "o9WFuM_o1_Ge"
    },
    {
      "cell_type": "code",
      "source": [
        "import numpy as np\n",
        "\n",
        "g = np.poly1d([-1,1,0])\n",
        "\n",
        "for j in lista:\n",
        "  print(X(a,b,j),g(X(a,b,j)))\n"
      ],
      "metadata": {
        "colab": {
          "base_uri": "https://localhost:8080/"
        },
        "id": "JzkNfgFU0ErV",
        "outputId": "8180384f-38c9-4a69-b391-a418f7b8a3f8"
      },
      "id": "JzkNfgFU0ErV",
      "execution_count": 50,
      "outputs": [
        {
          "output_type": "stream",
          "name": "stdout",
          "text": [
            "0.942571766217972 0.054130231746704734\n",
            "0.41928148231975826 0.2434845209035045\n",
            "0.7801614902516041 0.17150953938000035\n",
            "0.23085338539998368 0.17756009984935028\n",
            "0.5992789253592679 0.2401436949795089\n"
          ]
        }
      ]
    },
    {
      "cell_type": "markdown",
      "source": [
        "Grafica de la función"
      ],
      "metadata": {
        "id": "4qge3X7O4nie"
      },
      "id": "4qge3X7O4nie"
    },
    {
      "cell_type": "code",
      "source": [
        "import matplotlib.pyplot as plt\n",
        "\n",
        "fig,ax=plt.subplots()\n",
        "\n",
        "x = []\n",
        "for i in lista:\n",
        "  x.append(i[0])\n",
        "\n",
        "y = list(map(g ,x))\n",
        "\n",
        "x1 = np.arange(a,b,0.001)\n",
        "\n",
        "plt.title('Grafica')\n",
        "plt.xlabel('x')\n",
        "plt.ylabel('y')\n",
        "plt.plot(x1,g(x1),color=\"purple\",label=\"$g(x)$\")\n",
        "plt.plot(x,y,\"o\")\n",
        "plt.legend(loc='upper right')\n",
        "plt.axis('equal')\n",
        "plt.grid()\n",
        "plt.show()"
      ],
      "metadata": {
        "id": "763cmUNu4sWw",
        "outputId": "6cda35eb-320f-475c-b5cc-9a2289f33554",
        "colab": {
          "base_uri": "https://localhost:8080/",
          "height": 472
        }
      },
      "id": "763cmUNu4sWw",
      "execution_count": 51,
      "outputs": [
        {
          "output_type": "display_data",
          "data": {
            "text/plain": [
              "<Figure size 640x480 with 1 Axes>"
            ],
            "image/png": "[encoded data removed]"
          },
          "metadata": {}
        }
      ]
    },
    {
      "cell_type": "markdown",
      "id": "4852dcac",
      "metadata": {
        "id": "4852dcac"
      },
      "source": [
        "**PASO 4**. Cuente el número de casos $N_H$ para los cuales $g(X_i)>cU_i^{'}$"
      ]
    },
    {
      "cell_type": "code",
      "source": [
        "NH = 0\n",
        "c = 1\n",
        "for i in lista:\n",
        "  if g(i[0])>i[1]:\n",
        "    NH+=1\n",
        "print(NH)"
      ],
      "metadata": {
        "id": "jQ3bBKDnDJ6g",
        "outputId": "19d3d4a7-f1dd-42cd-ca47-5f8ff4a45994",
        "colab": {
          "base_uri": "https://localhost:8080/"
        }
      },
      "id": "jQ3bBKDnDJ6g",
      "execution_count": 54,
      "outputs": [
        {
          "output_type": "stream",
          "name": "stdout",
          "text": [
            "2\n"
          ]
        }
      ]
    },
    {
      "cell_type": "markdown",
      "id": "edb6b074",
      "metadata": {
        "id": "edb6b074"
      },
      "source": [
        "**PASO 5**. Estime la integral $I$ por $\\theta_1=c(b-a)\\dfrac{N_H}{N}$"
      ]
    },
    {
      "cell_type": "code",
      "execution_count": 53,
      "id": "7d56c432",
      "metadata": {
        "id": "7d56c432",
        "colab": {
          "base_uri": "https://localhost:8080/"
        },
        "outputId": "1c73f021-f2ba-495a-91db-984c28335b66"
      },
      "outputs": [
        {
          "output_type": "stream",
          "name": "stdout",
          "text": [
            "0.4\n"
          ]
        }
      ],
      "source": [
        "I=c*(b-a)*(NH/N)\n",
        "print(I)"
      ]
    },
    {
      "cell_type": "markdown",
      "id": "f38f3396",
      "metadata": {
        "id": "f38f3396"
      },
      "source": [
        "Use el método de Acierto y Error para estimar las integrales:\n",
        "\n",
        "$$(a) \\int_{0}^{1}e^{e^x}dx$$\n",
        "$$(b) \\int_0^1\\sqrt{(1-x^2)^3}dx$$"
      ]
    },
    {
      "cell_type": "markdown",
      "id": "d270399e",
      "metadata": {
        "id": "d270399e"
      },
      "source": [
        "**PASO 7**. Obtenga la gráfica de estabilización que indica que el tamaño de muestra utilizado es suficiente para\n",
        "garantizar la convergencia del resultado."
      ]
    },
    {
      "cell_type": "markdown",
      "id": "db8776d2",
      "metadata": {
        "id": "db8776d2"
      },
      "source": [
        "**PASO 10**. Halle el intervalo de confianza de la probabilidad de queaparezcan dos caras lanzando tres veces una moneda\n",
        "al aire con un nivel de confianza del $95 \\%$."
      ]
    },
    {
      "cell_type": "code",
      "execution_count": null,
      "id": "e5132329",
      "metadata": {
        "id": "e5132329"
      },
      "outputs": [],
      "source": []
    }
  ],
  "metadata": {
    "kernelspec": {
      "display_name": "Python 3 (ipykernel)",
      "language": "python",
      "name": "python3"
    },
    "language_info": {
      "codemirror_mode": {
        "name": "ipython",
        "version": 3
      },
      "file_extension": ".py",
      "mimetype": "text/x-python",
      "name": "python",
      "nbconvert_exporter": "python",
      "pygments_lexer": "ipython3",
      "version": "3.7.3"
    },
    "colab": {
      "provenance": []
    }
  },
  "nbformat": 4,
  "nbformat_minor": 5
}