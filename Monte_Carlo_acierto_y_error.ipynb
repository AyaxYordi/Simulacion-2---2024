{
  "cells": [
    {
      "cell_type": "markdown",
      "id": "a5cc0a87",
      "metadata": {
        "id": "a5cc0a87"
      },
      "source": [
        "# Metodo de Monte Carlo acierto y error\n"
      ]
    },
    {
      "cell_type": "markdown",
      "id": "fbbc8571",
      "metadata": {
        "id": "fbbc8571"
      },
      "source": [
        "**PASO 1**. Genere una secuencia $\\{U_j\\}_{j=1}^{2N}$ de $2N$ números aleatorios."
      ]
    },
    {
      "cell_type": "code",
      "execution_count": 3,
      "id": "37c5f31c",
      "metadata": {
        "id": "37c5f31c",
        "colab": {
          "base_uri": "https://localhost:8080/"
        },
        "outputId": "b5707d18-bde5-4e8a-bc5d-a2e93d49bdb6"
      },
      "outputs": [
        {
          "output_type": "stream",
          "name": "stdout",
          "text": [
            "(0.10973225398815589, 0.47845759089149364)\n",
            "(0.6571463229742093, 0.20739813768166093)\n",
            "(0.8310582542370273, 0.9732525768717)\n",
            "(0.9846560772817833, 0.39051905982169355)\n",
            "(0.29017455455108987, 0.3401001409256298)\n",
            "(0.052665056120875464, 0.7436898284496664)\n",
            "(0.42785275448809545, 0.03525250528067969)\n",
            "(0.2540759767999765, 0.17149889717746747)\n",
            "(0.25977379660839284, 0.1061975866559366)\n",
            "(0.6068135472285722, 0.5157906740242943)\n"
          ]
        }
      ],
      "source": [
        "from random import random\n",
        "\n",
        "\"\"\"\n",
        "  Esta funcion genera un par de numeros aleatorios con distribucion uniforme\n",
        "  con a=0 y b=1\n",
        "\"\"\"\n",
        "def uniforme():\n",
        "  return (random(),random())\n",
        "\n",
        "# Pequeña prueba del codigo\n",
        "\n",
        "for i in range(10):\n",
        "  print(uniforme())\n",
        ""
      ]
    },
    {
      "cell_type": "markdown",
      "id": "4d3899f3",
      "metadata": {
        "id": "4d3899f3"
      },
      "source": [
        "**PASO 2**. Organice los números aleatorios en $N$ pares $(U_1,U_1^´),(U_2,U_2^´),...,(U_N,U_N^´)$ de cualquier forma tal que cada número aleatorio $U_j$ se use exactamente una vez."
      ]
    },
    {
      "cell_type": "code",
      "source": [
        "lista = []\n",
        "N = 5 #por ejemplo\n",
        "for n in range(N):\n",
        "  lista.append(uniforme())\n",
        "\n",
        "print(lista)"
      ],
      "metadata": {
        "id": "qTz9vvztulyM",
        "outputId": "e6282b8c-e32c-4d93-e373-4ba097daafa1",
        "colab": {
          "base_uri": "https://localhost:8080/"
        }
      },
      "id": "qTz9vvztulyM",
      "execution_count": 5,
      "outputs": [
        {
          "output_type": "stream",
          "name": "stdout",
          "text": [
            "[(0.27874791179016767, 0.2305853901377274), (0.03633874439973395, 0.8149038665421369), (0.791572017724998, 0.9391816010386881), (0.732188677170292, 0.5493413054061415), (0.6569815019653251, 0.5450507317534352)]\n"
          ]
        }
      ]
    },
    {
      "cell_type": "markdown",
      "id": "fd02116a",
      "metadata": {
        "id": "fd02116a"
      },
      "source": [
        "**PASO 3**. Calcule $X_i=a+U_i(b-a)\\hspace{0.5cm}$ y $\\hspace{0.5cm}g(X_i) , \\hspace{0.5cm}i=1,2,...,N$"
      ]
    },
    {
      "cell_type": "code",
      "source": [
        "X = lambda a,b,u: a+u*(b-a)\n",
        "\n",
        "# pequeña prueba del codigo\n",
        "for j in lista:\n",
        "  print(X(0,1,j[0]))"
      ],
      "metadata": {
        "id": "57XxjBTwx3NS",
        "outputId": "437bae1c-6df7-4e35-f5eb-b181b9a876c9",
        "colab": {
          "base_uri": "https://localhost:8080/"
        }
      },
      "id": "57XxjBTwx3NS",
      "execution_count": 7,
      "outputs": [
        {
          "output_type": "stream",
          "name": "stdout",
          "text": [
            "0.27874791179016767\n",
            "0.03633874439973395\n",
            "0.791572017724998\n",
            "0.732188677170292\n",
            "0.6569815019653251\n"
          ]
        }
      ]
    },
    {
      "cell_type": "code",
      "source": [],
      "metadata": {
        "id": "JzkNfgFU0ErV"
      },
      "id": "JzkNfgFU0ErV",
      "execution_count": null,
      "outputs": []
    },
    {
      "cell_type": "markdown",
      "id": "4852dcac",
      "metadata": {
        "id": "4852dcac"
      },
      "source": [
        "**PASO 4**. Establezca el intervalo de números aleatorios correspondiente a cada valor de cada una de las variables."
      ]
    },
    {
      "cell_type": "markdown",
      "id": "edb6b074",
      "metadata": {
        "id": "edb6b074"
      },
      "source": [
        "**PASO 5**. Genere números aleatorios."
      ]
    },
    {
      "cell_type": "code",
      "execution_count": null,
      "id": "7d56c432",
      "metadata": {
        "id": "7d56c432"
      },
      "outputs": [],
      "source": []
    },
    {
      "cell_type": "markdown",
      "id": "f38f3396",
      "metadata": {
        "id": "f38f3396"
      },
      "source": [
        "**PASO 6**. Simule un lanzamiento."
      ]
    },
    {
      "cell_type": "markdown",
      "id": "d270399e",
      "metadata": {
        "id": "d270399e"
      },
      "source": [
        "**PASO 7**. Obtenga la gráfica de estabilización que indica que el tamaño de muestra utilizado es suficiente para\n",
        "garantizar la convergencia del resultado."
      ]
    },
    {
      "cell_type": "markdown",
      "id": "f596fcd1",
      "metadata": {
        "id": "f596fcd1"
      },
      "source": [
        "**PASO 8**. Replique el modelo."
      ]
    },
    {
      "cell_type": "markdown",
      "id": "6e9bd469",
      "metadata": {
        "id": "6e9bd469"
      },
      "source": [
        "**PASO 9**. Calcule la probabilidad de que aparezcan dos caras lanzando tres veces una moneda al aire y su desviación\n",
        "estándar."
      ]
    },
    {
      "cell_type": "markdown",
      "id": "db8776d2",
      "metadata": {
        "id": "db8776d2"
      },
      "source": [
        "**PASO 10**. Halle el intervalo de confianza de la probabilidad de queaparezcan dos caras lanzando tres veces una moneda\n",
        "al aire con un nivel de confianza del $95 \\%$."
      ]
    },
    {
      "cell_type": "code",
      "execution_count": null,
      "id": "e5132329",
      "metadata": {
        "id": "e5132329"
      },
      "outputs": [],
      "source": []
    }
  ],
  "metadata": {
    "kernelspec": {
      "display_name": "Python 3 (ipykernel)",
      "language": "python",
      "name": "python3"
    },
    "language_info": {
      "codemirror_mode": {
        "name": "ipython",
        "version": 3
      },
      "file_extension": ".py",
      "mimetype": "text/x-python",
      "name": "python",
      "nbconvert_exporter": "python",
      "pygments_lexer": "ipython3",
      "version": "3.7.3"
    },
    "colab": {
      "provenance": []
    }
  },
  "nbformat": 4,
  "nbformat_minor": 5
}