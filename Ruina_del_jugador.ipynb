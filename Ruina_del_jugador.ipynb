{
  "nbformat": 4,
  "nbformat_minor": 0,
  "metadata": {
    "colab": {
      "provenance": [],
      "authorship_tag": "ABX9TyMFf8rPtJdmd2x+pf9LQbfB"
    },
    "kernelspec": {
      "name": "python3",
      "display_name": "Python 3"
    },
    "language_info": {
      "name": "python"
    }
  },
  "cells": [
    {
      "cell_type": "markdown",
      "source": [
        "# Ruina del jugador\n",
        "\n",
        "Se reúnen dos personas para un juego, cada jugador empieza con una determinada cantidad de dinero, si el primer jugador pierde le tiene que dar un peso al otro, pero si el primer jugador gana el otro jugador le tiene que dar un peso a él, la partida termina cuando el primer jugador tenga todo el dinero del otro o cuando llegue a la quiebra.\n",
        "\n",
        "Para el siguiente código se definen las siguientes funciones.\n",
        "\n",
        "``jugada(p)`` tiene como parámetro ``p`` donde $0<p<1$ y es la probabilidad de que el primer jugador gane un peso y su probabilidad de perder un peso es $1-p$.\n",
        "\n",
        "Expresado de forma simbólica la variable aleatoria que sigue la función ``jugada(p)`` es:\n",
        "\n",
        "$$P(X=x)= \\left\\{ \\begin{array}{lcc}\n",
        "p & \\text{si} & x=1 \\\\ \\\\\n",
        "1-p & \\text{si} & x=-1\n",
        "\\end{array} \\right.$$\n",
        "\n",
        "``partida(p1,p2)`` tiene como parametros:\n",
        "\n",
        "\n",
        "*   ``p1``: Cantidad de dinero del jugador uno.\n",
        "*   ``p2``: Cantidad de dinero del jugador dos.\n",
        "\n",
        "Lo que regresa la función es una lista de la cantidad de dinero que tiene el primer jugador durante toda una partida completa entre ambos jugadores. La función termina cuando el primer jugador gana todo el dinero o llega a la quiebra.\n",
        "\n",
        "Lo anterior sería una representación matemática de la función, pero respecto a este juego nos podemos hacer la pregunta: ¿Cuál es la probabilidad de que el primer jugador gane todo el dinero del otro jugador?\n",
        "\n",
        "Para ello, se escribe el código de las funciones y se realizan unas cuantas simulaciones.  A continuación, se va a simular una partida donde ambos jugadores tienen la misma cantidad de dinero, que en este caso sería $\\$2$ pesos, pero el primer jugador tiene una probabilidad $1/3$ de ganar un peso."
      ],
      "metadata": {
        "id": "QJr37w7KbtHl"
      }
    },
    {
      "cell_type": "code",
      "execution_count": 6,
      "metadata": {
        "colab": {
          "base_uri": "https://localhost:8080/"
        },
        "id": "uMLRzsmVa5Qi",
        "outputId": "d5e8ef61-6319-4525-841f-15fd20f5b651"
      },
      "outputs": [
        {
          "output_type": "stream",
          "name": "stdout",
          "text": [
            "[2, 3, 2, 3, 2, 1, 2, 1, 2, 1, 0]\n"
          ]
        }
      ],
      "source": [
        "from random import random\n",
        "import numpy as np\n",
        "\n",
        "def jugada(p):\n",
        "\tx = random()\n",
        "\tif x<=p:\n",
        "\t\treturn 1     # Gano un peso\n",
        "\telse:\n",
        "\t\treturn -1    # Perdio un peso\n",
        "\n",
        "def partida(p1,p2):\n",
        "\tv = p1+p2\n",
        "\tl = []\n",
        "\tfor i in range(1000000):\n",
        "\t\tl.append(p1)\n",
        "\t\tp1+=jugada(1/3)   #  p = 1/3\n",
        "\t\tif p1==0:\n",
        "\t\t\tl.append(p1)\n",
        "\t\t\tbreak\n",
        "\t\telif p1==v:\n",
        "\t\t\tl.append(p1)\n",
        "\t\t\tbreak\n",
        "\treturn l\n",
        "\n",
        "print(partida(2,2))"
      ]
    },
    {
      "cell_type": "markdown",
      "source": [
        "Ahora vamos a simular 5 partidas."
      ],
      "metadata": {
        "id": "Rd5mcirikyhX"
      }
    },
    {
      "cell_type": "code",
      "source": [
        "for i in range(5):\n",
        "  print(partida(2,2))"
      ],
      "metadata": {
        "colab": {
          "base_uri": "https://localhost:8080/"
        },
        "id": "2QI1zVfAlBUW",
        "outputId": "a88ec5db-bcac-4939-f161-0fbcde26127a"
      },
      "execution_count": 15,
      "outputs": [
        {
          "output_type": "stream",
          "name": "stdout",
          "text": [
            "[2, 1, 2, 1, 0]\n",
            "[2, 1, 0]\n",
            "[2, 3, 2, 3, 2, 1, 2, 1, 2, 1, 0]\n",
            "[2, 1, 0]\n",
            "[2, 3, 4]\n"
          ]
        }
      ]
    },
    {
      "cell_type": "markdown",
      "source": [
        "Para resolver la pregunta de cuál es la probabilidad de que el primer jugador gane todo el dinero lo que se hará es realizar muchas simulaciones y contar el número de victorias que tuvo, en este caso el primer jugador gana la partida si tiene un total de $\\$4$ los $\\$2$ más los $\\$2$ del otro jugador.\n",
        "\n",
        "A continuación se realizan, 100000 simulaciones y el número de victorias se va a dividir entre el número de simulaciones que se hicieron y el resultado será la probabilidad de éxito del primer jugador."
      ],
      "metadata": {
        "id": "Tw6w0L2bmVZ9"
      }
    },
    {
      "cell_type": "code",
      "source": [
        "victorias = 0\n",
        "n = 100000      # numero de partidas\n",
        "for i in range(n):\n",
        "\tv = partida(2,2)\n",
        "\tif 4 in v:\n",
        "\t\tvictorias += 1\n",
        "\n",
        "print(\"Probabilidad de ganar:\",victorias/n)"
      ],
      "metadata": {
        "colab": {
          "base_uri": "https://localhost:8080/"
        },
        "id": "mjFE8hHshEPX",
        "outputId": "193c3ee6-3212-4d0f-c938-209ade45cf02"
      },
      "execution_count": 21,
      "outputs": [
        {
          "output_type": "stream",
          "name": "stdout",
          "text": [
            "Probabilidad de ganar: 0.20076\n"
          ]
        }
      ]
    },
    {
      "cell_type": "markdown",
      "source": [
        "Esta solución a la pregunta se realizó mediante simulación, pero ahora se resolverá este problema de manera analítica.\n",
        "\n",
        "La matriz de transicion queda de la siguiente manera:\n",
        "\n",
        "$$\\begin{pmatrix}\n",
        "1 & 0 & 0 & 0 & 0 \\\\\n",
        "\\frac{2}{3} & 0 & \\frac{1}{3} & 0 & 0\\\\\n",
        "0 & \\frac{2}{3} & 0 & \\frac{1}{3} & 0\\\\\n",
        "0 & 0 & \\frac{2}{3} & 0 & \\frac{1}{3}\\\\\n",
        "0 & 0 & 0 & 0 & 1 \\\\\n",
        "\\end{pmatrix}$$\n",
        "\n",
        "Para el primer reglón que vendría siendo el estado donde el primer jugador llega a la ruina su probabilidad de llegar a la ruina es 1 y su probabilidad de ganar un peso o de ganar 2 o más es cero, puesto que el jugador se ha quedado sin dinero y el juego acaba cuando uno de los dos jugadores se queda sin dinero y por ende se escriben ceros en las demás entradas.\n",
        "\n",
        "Cuando el primer jugador tiene solo un peso, la probabilidad son las siguientes: probabilidad de $1/3$ de tener $\\$2$ y $2/3$ para que pierda un peso.\n",
        "\n",
        "Cuando el primer jugador tiene dos pesos, las probabilidades son las siguientes: probabilidad de $1/3$ para tener $\\$3$ y $2/3$ para que pierda un peso.\n",
        "\n",
        "Cuando el primer jugador tiene tres pesos, las probabilidades son las siguientes: probabilidad de $1/3$ para tener $\\$4$ y $2/3$ para que pierda un peso.\n",
        "\n",
        "Por último, cuando el jugador gana, su probabilidad es de 1, puesto que ya tiene todo el dinero del otro jugador y termina el juego.\n",
        "\n",
        "Para hallar la probabilidad de ganar se resuelve el siguiente sistema de ecuaciones.\n",
        "\n",
        "$$\n",
        "\\left. \\begin{array}{l}\n",
        "\\pi_{04}=0 \\\\\n",
        "\\pi_{14}=\\frac{2}{3}\\pi_{04}+\\frac{1}{3}\\pi_{24} \\\\\n",
        "\\pi_{24}=\\frac{2}{3}\\pi_{14}+\\frac{1}{3}\\pi_{34} \\\\\n",
        "\\pi_{34}=\\frac{2}{3}\\pi_{24}+\\frac{1}{3}\\pi_{44} \\\\\n",
        "\\pi_{44}=1 \\\\\n",
        "\\end{array} \\right.$$\n",
        "\n",
        "Resolvemos el sistema para $\\pi_{24}$, puesto que en nuestro caso el primer jugador inicia con $\\$2$ y se desea la probabilidad de que obtenga $\\$4$.\n",
        "\n",
        "$\\pi_{24}=\\frac{2}{3}(\\frac{2}{3}\\pi_{04}+\\frac{1}{3}\\pi_{24})+\\frac{1}{3}(\\frac{2}{3}\\pi_{24}+\\frac{1}{3}\\pi_{44})$\n",
        "\n",
        "\n",
        "$\\pi_{24}=\\frac{2}{9}\\pi_{24}+\\frac{2}{9}\\pi_{24}+\\frac{1}{9}$\n",
        "\n",
        "$\\frac{5}{9}\\pi_{24}=\\frac{1}{9}$\n",
        "\n",
        "$\\pi_{24}=\\frac{1}{5}=0.2$\n",
        "\n",
        "Esta es solo una manera de resolver el problema. Otra manera de resolver el problema es la siguiente:\n",
        "\n",
        "\n",
        "Se dice que se llega a un estado de probabilidades estable cuando:\n",
        "\n",
        "$$\\lim_{n \\to \\infty}A^n=p$$\n"
      ],
      "metadata": {
        "id": "eoPLrkBGnzz3"
      }
    },
    {
      "cell_type": "code",
      "source": [
        "import numpy as np\n",
        "\n",
        "A = np.array([[1,0,0,0,0],\n",
        "              [2/3,0,1/3,0,0],\n",
        "              [0,2/3,0,1/3,0],\n",
        "              [0,0,2/3,0,1/3],\n",
        "              [0,0,0,0,1]])\n",
        "\n",
        "print(A)\n",
        "print(np.round(np.linalg.matrix_power(A,30),2))"
      ],
      "metadata": {
        "colab": {
          "base_uri": "https://localhost:8080/"
        },
        "id": "H54Hf5KzySRa",
        "outputId": "97eae76b-0423-431b-d6b6-6eda9c570972"
      },
      "execution_count": 27,
      "outputs": [
        {
          "output_type": "stream",
          "name": "stdout",
          "text": [
            "[[1.         0.         0.         0.         0.        ]\n",
            " [0.66666667 0.         0.33333333 0.         0.        ]\n",
            " [0.         0.66666667 0.         0.33333333 0.        ]\n",
            " [0.         0.         0.66666667 0.         0.33333333]\n",
            " [0.         0.         0.         0.         1.        ]]\n",
            "[[1.   0.   0.   0.   0.  ]\n",
            " [0.93 0.   0.   0.   0.07]\n",
            " [0.8  0.   0.   0.   0.2 ]\n",
            " [0.53 0.   0.   0.   0.47]\n",
            " [0.   0.   0.   0.   1.  ]]\n"
          ]
        }
      ]
    }
  ]
}