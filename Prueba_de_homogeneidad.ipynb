{
  "nbformat": 4,
  "nbformat_minor": 0,
  "metadata": {
    "colab": {
      "provenance": []
    },
    "kernelspec": {
      "name": "python3",
      "display_name": "Python 3"
    },
    "language_info": {
      "name": "python"
    }
  },
  "cells": [
    {
      "cell_type": "markdown",
      "source": [
        "# Prueba de homogeneidad\n",
        "\n",
        "Es una prueba aplicando la distribución Chi-cuadrada para verificar si una muestra de números son aleatorios o no.\n"
      ],
      "metadata": {
        "id": "q5Ns82N3ZU87"
      }
    },
    {
      "cell_type": "code",
      "execution_count": 69,
      "metadata": {
        "colab": {
          "base_uri": "https://localhost:8080/"
        },
        "id": "M_VZRxHlQn3V",
        "outputId": "c28a68a7-228a-4b08-8536-da029587d5b8"
      },
      "outputs": [
        {
          "output_type": "stream",
          "name": "stdout",
          "text": [
            "[[15 10 15]\n",
            " [21 20  9]]\n",
            "90\n",
            "[[15. 10. 15. 40.]\n",
            " [21. 20.  9. 50.]\n",
            " [36. 30. 24.  0.]]\n",
            "0\n",
            "Estadistico de prueba: 4.78125\n",
            "Grados de libertad 2\n",
            "Nivel de significación 0.05\n",
            "Punto critico: 5.991464547107983\n",
            "Se acepta la hipotesis de homogenidad\n"
          ]
        }
      ],
      "source": [
        "from math import *\n",
        "from scipy.stats import *\n",
        "import numpy as np\n",
        "\n",
        "tabla = np.array([[15,10,15],[21,20,9]])  # tabla de datos\n",
        "\n",
        "print(tabla)\n",
        "\n",
        "# Codigo complementario para la tabla de contingecia\n",
        "def suma_columna(A,columna):\n",
        "  s = 0\n",
        "  for i in range(A.shape[1]):\n",
        "    for j in range(A.shape[0]):\n",
        "      if columna==i:\n",
        "        s+=tabla[j][i]\n",
        "  return s\n",
        "\n",
        "\n",
        "# Codigo la tabla de contingencia para la prueba\n",
        "class Tabla_de_contingencia:\n",
        "  def t(A):\n",
        "    t1 = np.zeros((A.shape[0]+1,1+A.shape[1]))\n",
        "\n",
        "    for i in range(A.shape[0]):       # Ingresar elemento en la nueva matriz\n",
        "      for j in range(A.shape[1]):\n",
        "        t1[i][j]=A[i][j]\n",
        "\n",
        "    for k in range(A.shape[0]):           #suma de los renglones\n",
        "      t1[k][A.shape[1]]=sum(A[k])\n",
        "\n",
        "    for m in range(A.shape[1]):           #suma de las columnas\n",
        "      t1[A.shape[0]][m]=suma_columna(A,m)\n",
        "    return t1\n",
        "\n",
        "  def n(A):\n",
        "    s=0\n",
        "    for k in A:\n",
        "      s+=sum(k)\n",
        "    return s\n",
        "\n",
        "print(Tabla_de_contingencia.n(tabla))\n",
        "print(Tabla_de_contingencia.t(tabla))\n",
        "\n",
        "# Codigo del estadistico de prueba \\/\n",
        "def estaditico_de_prueba(A,B):\n",
        "  x_0=0\n",
        "  for i in range(A.shape[0]):\n",
        "    for j in range(A.shape[1]):\n",
        "      x_0+=(A[i][j]-(B[A.shape[0]][j]*B[i][A.shape[1]])/Tabla_de_contingencia.n(A))**2/((B[A.shape[0]][j]*B[i][A.shape[1]])/Tabla_de_contingencia.n(A))\n",
        "  return x_0\n",
        "\n",
        "\n",
        "print(0)\n",
        "\n",
        "\n",
        "print('Estadistico de prueba:',estaditico_de_prueba(tabla,Tabla_de_contingencia.t(tabla)))\n",
        "\n",
        "\n",
        "# Codigo del punto critico  \\/\n",
        "class Punto_critico:\n",
        "  x = 0\n",
        "  n = 0\n",
        "  def r(v,alfa):\n",
        "    if Punto_critico.n==0:\n",
        "      Punto_critico.x=v\n",
        "      Punto_critico.n+=1\n",
        "      return Punto_critico.x\n",
        "    if Punto_critico.n>0:\n",
        "      Punto_critico.n+=1\n",
        "      Punto_critico.x-=(chi2.cdf(Punto_critico.x,v)-1+alfa)/chi2.pdf(Punto_critico.x,v)\n",
        "      return Punto_critico.x\n",
        "\n",
        "v = (tabla.shape[0]-1)*(tabla.shape[1]-1) # v grados de libertad\n",
        "print(\"Grados de libertad\",v)\n",
        "\n",
        "\n",
        "alpha = 0.05  # nivel de significancia\n",
        "print(\"Nivel de significación\",alpha)\n",
        "\n",
        "for i in range(10):\n",
        "\tPunto_critico.r(v,alpha)\n",
        "\n",
        "print('Punto critico:',Punto_critico.r(v,alpha)) # resultado del punto critico\n",
        "\n",
        "\n",
        "if estaditico_de_prueba(tabla,Tabla_de_contingencia.t(tabla)) > Punto_critico.r(v,0.05):\n",
        "  print(\"Se rechaza la hipotesis de homogeneidad\")\n",
        "else:\n",
        "  print(\"Se acepta la hipotesis de homogenidad\")\n"
      ]
    },
    {
      "cell_type": "markdown",
      "source": [],
      "metadata": {
        "id": "xvxZhx3eZSAj"
      }
    }
  ]
}