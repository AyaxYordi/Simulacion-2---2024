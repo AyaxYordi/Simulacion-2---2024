{
  "nbformat": 4,
  "nbformat_minor": 0,
  "metadata": {
    "colab": {
      "provenance": [],
      "authorship_tag": "ABX9TyMIHQ0nIU4ShXEnKnA1VKnF"
    },
    "kernelspec": {
      "name": "python3",
      "display_name": "Python 3"
    },
    "language_info": {
      "name": "python"
    }
  },
  "cells": [
    {
      "cell_type": "markdown",
      "source": [
        "# Prueba de homogeneidad\n",
        "\n",
        "Es una prueba aplicando la distribución Chi-cuadrada para verificar si una muestra de números son aleatorios o no.\n"
      ],
      "metadata": {
        "id": "q5Ns82N3ZU87"
      }
    },
    {
      "cell_type": "code",
      "execution_count": 7,
      "metadata": {
        "colab": {
          "base_uri": "https://localhost:8080/"
        },
        "id": "M_VZRxHlQn3V",
        "outputId": "413e7430-79de-4dee-808e-d643af390f53"
      },
      "outputs": [
        {
          "output_type": "stream",
          "name": "stdout",
          "text": [
            "Datos del problema\n",
            "\n",
            "[[15 10 15]\n",
            " [21 20  9]]\n",
            "Tabla con los totales de renglones y columnas\n",
            " [[15. 10. 15. 40.]\n",
            " [21. 20.  9. 50.]\n",
            " [36. 30. 24.  0.]]\n",
            "Tamaño de la muestra:  90 \n",
            "\n",
            "================== Calculos del problema =================== \n",
            "\n",
            "Estadistico de prueba: 4.78125\n",
            "Grados de libertad 2\n",
            "Nivel de significación 0.05\n",
            "Punto critico: 5.991464547107983\n",
            "Se acepta la hipotesis de homogenidad\n"
          ]
        }
      ],
      "source": [
        "from math import *\n",
        "from scipy.stats import *   # Para usar funcion de densidad de chi cuadrada y función de distribucion acumulada chi cuadrada\n",
        "import numpy as np\n",
        "\n",
        "'''\n",
        "  Aqui es donde se ponen los datos de la tabla\n",
        "    |\n",
        "    |\n",
        "    v\n",
        "'''\n",
        "\n",
        "tabla = np.array([[15,10,15],[21,20,9]]) # Datos que da el problema\n",
        "\n",
        "print(\"Datos del problema\\n\")\n",
        "print(tabla)\n",
        "\n",
        "\n",
        "# Codigo complementario para la tabla de contingecia\n",
        "def suma_columna(A,columna):\n",
        "  s = 0\n",
        "  for i in range(A.shape[1]):\n",
        "    for j in range(A.shape[0]):\n",
        "      if columna==i:\n",
        "        s+=tabla[j][i]\n",
        "  return s\n",
        "\n",
        "\n",
        "# Codigo de la tabla de contingencia para la prueba\n",
        "class Tabla_de_contingencia:\n",
        "  def t(A):\n",
        "    t1 = np.zeros((A.shape[0]+1,1+A.shape[1]))  # Matriz vacia para luego ingresar los datos\n",
        "\n",
        "    for i in range(A.shape[0]):       # Ingresar elementos en la nueva matriz\n",
        "      for j in range(A.shape[1]):\n",
        "        t1[i][j]=A[i][j]\n",
        "\n",
        "    for k in range(A.shape[0]):           #suma de los renglones\n",
        "      t1[k][A.shape[1]]=sum(A[k])\n",
        "\n",
        "    for m in range(A.shape[1]):           #suma de las columnas\n",
        "      t1[A.shape[0]][m]=suma_columna(A,m)\n",
        "    return t1\n",
        "\n",
        "  def n(A):     # tamaño de la muestra\n",
        "    s=0\n",
        "    for k in A:\n",
        "      s+=sum(k)\n",
        "    return s\n",
        "\n",
        "print(\"Tabla con los totales de renglones y columnas\\n\",Tabla_de_contingencia.t(tabla))\n",
        "print(\"Tamaño de la muestra: \",Tabla_de_contingencia.n(tabla),\"\\n\")\n",
        "\n",
        "\n",
        "\n",
        "# Codigo del estadistico de prueba \\/\n",
        "def estaditico_de_prueba(A,B):\n",
        "  x_0=0\n",
        "  for i in range(A.shape[0]):\n",
        "    for j in range(A.shape[1]):\n",
        "      x_0+=(A[i][j]-(B[A.shape[0]][j]*B[i][A.shape[1]])/Tabla_de_contingencia.n(A))**2/((B[A.shape[0]][j]*B[i][A.shape[1]])/Tabla_de_contingencia.n(A))\n",
        "  return x_0\n",
        "\n",
        "\n",
        "titulo=\" Calculos del problema \"\n",
        "print(titulo.center(60,\"=\"),\"\\n\")\n",
        "\n",
        "\n",
        "print('Estadistico de prueba:',estaditico_de_prueba(tabla,Tabla_de_contingencia.t(tabla)))\n",
        "\n",
        "\n",
        "'''\n",
        "  Codigo del punto critico\n",
        "  Para obtener el punto critico se utilizan la funcion de densidad y de distribucion acumulada de la distribución chi cuadrada que estan\n",
        "  en la libreria\n",
        "'''\n",
        "class Punto_critico:\n",
        "  x = 0\n",
        "  n = 0\n",
        "  def r(v,alfa):\n",
        "    if Punto_critico.n==0:\n",
        "      Punto_critico.x=v\n",
        "      Punto_critico.n+=1\n",
        "      return Punto_critico.x\n",
        "    if Punto_critico.n>0:\n",
        "      Punto_critico.n+=1\n",
        "      Punto_critico.x-=(chi2.cdf(Punto_critico.x,v)-1+alfa)/chi2.pdf(Punto_critico.x,v)\n",
        "      return Punto_critico.x\n",
        "\n",
        "v = (tabla.shape[0]-1)*(tabla.shape[1]-1) # v grados de libertad\n",
        "print(\"Grados de libertad\",v)\n",
        "\n",
        "\n",
        "alpha = 0.05  # nivel de significancia\n",
        "print(\"Nivel de significación\",alpha)\n",
        "\n",
        "for i in range(10):\n",
        "\tPunto_critico.r(v,alpha)\n",
        "\n",
        "print('Punto critico:',Punto_critico.r(v,alpha)) # resultado del punto critico\n",
        "\n",
        "\n",
        "if estaditico_de_prueba(tabla,Tabla_de_contingencia.t(tabla)) > Punto_critico.r(v,0.05):\n",
        "  print(\"Se rechaza la hipotesis de homogeneidad\")\n",
        "else:\n",
        "  print(\"Se acepta la hipotesis de homogenidad\")\n"
      ]
    },
    {
      "cell_type": "markdown",
      "source": [],
      "metadata": {
        "id": "xvxZhx3eZSAj"
      }
    }
  ]
}