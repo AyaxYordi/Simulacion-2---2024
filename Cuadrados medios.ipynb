{
 "cells": [
  {
   "cell_type": "markdown",
   "id": "9f539a8a",
   "metadata": {},
   "source": [
    "# Generador de numeros pseudo aleatorios por el metodo de cuadrdos medios"
   ]
  },
  {
   "cell_type": "code",
   "execution_count": 1,
   "id": "7fad580c",
   "metadata": {},
   "outputs": [
    {
     "name": "stdout",
     "output_type": "stream",
     "text": [
      "1000\n",
      "1005\n",
      "1500\n",
      "2000\n",
      "2400\n",
      "2600\n",
      "3000\n",
      "3500\n",
      "3743\n",
      "4000\n",
      "4500\n",
      "4717\n",
      "4900\n",
      "5000\n",
      "5001\n",
      "5100\n",
      "5500\n",
      "6000\n",
      "6245\n",
      "6500\n",
      "7000\n",
      "7400\n",
      "7500\n",
      "8000\n",
      "8500\n",
      "9000\n",
      "9500\n",
      "9900\n"
     ]
    }
   ],
   "source": [
    "from math import *\n",
    "\n",
    "def mid(n,s):\n",
    "\tif n==0:\n",
    "\t\treturn s\n",
    "\tif n>0:\n",
    "\t\treturn ((mid(n-1,s)**2)//100)%10000\n",
    "\n",
    "def periodo(seed):\n",
    "\tl = []\n",
    "\n",
    "\tfor i in range(10):\n",
    "\t\tl.append(mid(i,seed))\n",
    "\t\t\n",
    "\treturn len(set(l))\n",
    "\n",
    "#for i in range(1000,9999):\n",
    "#\tprint(i,periodo(i))\n",
    "\n",
    "\n",
    "#for j in range(60):\n",
    "#\tprint(mid(j,9990))\n",
    "\n",
    "\n",
    "for j in range(1000,9999):\n",
    "\tif periodo(j)==2:\n",
    "\t\tprint(j)\n",
    "\t\t\n",
    "\t\t"
   ]
  }
 ],
 "metadata": {
  "kernelspec": {
   "display_name": "Python 3 (ipykernel)",
   "language": "python",
   "name": "python3"
  },
  "language_info": {
   "codemirror_mode": {
    "name": "ipython",
    "version": 3
   },
   "file_extension": ".py",
   "mimetype": "text/x-python",
   "name": "python",
   "nbconvert_exporter": "python",
   "pygments_lexer": "ipython3",
   "version": "3.11.1"
  }
 },
 "nbformat": 4,
 "nbformat_minor": 5
}
