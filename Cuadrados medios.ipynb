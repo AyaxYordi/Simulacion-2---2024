{
  "cells": [
    {
      "cell_type": "markdown",
      "id": "9f539a8a",
      "metadata": {
        "id": "9f539a8a"
      },
      "source": [
        "# Generador de numeros pseudo aleatorios por el metodo de cuadrdos medios"
      ]
    },
    {
      "cell_type": "markdown",
      "source": [
        "Primero se define la función del método de cuadrados medios, donde de un número de ocho dígitos se toman los cuatro números de en medio, se eleva al cuadrado, se realiza el cociente entre cien y al resultado se le aplica la operación módulo con el número diez mil.\n",
        "\n",
        "$a_{n}=\\lfloor{a_{n-1}^2} /100\\rfloor \\text{mod} \\hspace{0.1cm} 10000$\n",
        "\n",
        "La función será definida de manera recursiva y los parámetros que va a tomar será un \"n\" entero que es el número de pasos en la sucesión de números pseudoaleatorios y un \"s\" que es la semilla, un número entero de cuatro dígitos.\n"
      ],
      "metadata": {
        "id": "TttQwE2HCUMq"
      },
      "id": "TttQwE2HCUMq"
    },
    {
      "cell_type": "code",
      "execution_count": 3,
      "id": "7fad580c",
      "metadata": {
        "id": "7fad580c"
      },
      "outputs": [],
      "source": [
        "from math import *\n",
        "\n",
        "def mid(n,seed):\n",
        "\tif n==0:\n",
        "\t\treturn seed\n",
        "\tif n>0:\n",
        "\t\treturn ((mid(n-1,seed)**2)//100)%10000\n"
      ]
    },
    {
      "cell_type": "markdown",
      "source": [],
      "metadata": {
        "id": "cXLvZmURETSz"
      },
      "id": "cXLvZmURETSz"
    }
  ],
  "metadata": {
    "kernelspec": {
      "display_name": "Python 3 (ipykernel)",
      "language": "python",
      "name": "python3"
    },
    "language_info": {
      "codemirror_mode": {
        "name": "ipython",
        "version": 3
      },
      "file_extension": ".py",
      "mimetype": "text/x-python",
      "name": "python",
      "nbconvert_exporter": "python",
      "pygments_lexer": "ipython3",
      "version": "3.11.1"
    },
    "colab": {
      "provenance": []
    }
  },
  "nbformat": 4,
  "nbformat_minor": 5
}