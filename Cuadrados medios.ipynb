{
  "cells": [
    {
      "cell_type": "markdown",
      "id": "9f539a8a",
      "metadata": {
        "id": "9f539a8a"
      },
      "source": [
        "# Generador de números pseudoaleatorios por el método de cuadrados medios"
      ]
    },
    {
      "cell_type": "markdown",
      "source": [
        "Primero se define la función del método de cuadrados medios, donde de un número de ocho dígitos se toman los cuatro números de en medio, se eleva al cuadrado, se realiza el cociente entre cien y al resultado se le aplica la operación módulo con el número diez mil.\n",
        "$$a_{n}=\\lfloor{a_{n-1}^2} /100\\rfloor \\text{mod} \\hspace{0.1cm} 10000$$\n",
        "\n",
        "La función será definida de manera recursiva y los parámetros que va a tomar será un \"n\" entero que es el número de pasos en la sucesión de números pseudoaleatorios y un \"s\" que es la semilla, un número entero de cuatro dígitos.\n"
      ],
      "metadata": {
        "id": "TttQwE2HCUMq"
      },
      "id": "TttQwE2HCUMq"
    },
    {
      "cell_type": "code",
      "execution_count": 3,
      "id": "7fad580c",
      "metadata": {
        "id": "7fad580c"
      },
      "outputs": [],
      "source": [
        "from math import *\n",
        "\n",
        "def mid(n,seed):\n",
        "\tif n==0:\n",
        "\t\treturn seed\n",
        "\tif n>0:\n",
        "\t\treturn ((mid(n-1,seed)**2)//100)%10000\n"
      ]
    },
    {
      "cell_type": "markdown",
      "source": [
        "Para probar que el código funciona se tomará como ejemplo la semilla $a_0=2332$ y que el programa nos imprima en pantalla 50 números."
      ],
      "metadata": {
        "id": "cXLvZmURETSz"
      },
      "id": "cXLvZmURETSz"
    },
    {
      "cell_type": "code",
      "source": [
        "for i in range(50):\n",
        "  print(mid(i,2332))"
      ],
      "metadata": {
        "id": "chqbBQYSOmi8",
        "outputId": "c7d9d1a5-faac-4095-ea67-6141d193752f",
        "colab": {
          "base_uri": "https://localhost:8080/"
        }
      },
      "id": "chqbBQYSOmi8",
      "execution_count": 5,
      "outputs": [
        {
          "output_type": "stream",
          "name": "stdout",
          "text": [
            "2332\n",
            "4382\n",
            "2019\n",
            "763\n",
            "5821\n",
            "8840\n",
            "1456\n",
            "1199\n",
            "4376\n",
            "1493\n",
            "2290\n",
            "2441\n",
            "9584\n",
            "8530\n",
            "7609\n",
            "8968\n",
            "4250\n",
            "625\n",
            "3906\n",
            "2568\n",
            "5946\n",
            "3549\n",
            "5954\n",
            "4501\n",
            "2590\n",
            "7081\n",
            "1405\n",
            "9740\n",
            "8676\n",
            "2729\n",
            "4474\n",
            "166\n",
            "275\n",
            "756\n",
            "5715\n",
            "6612\n",
            "7185\n",
            "6242\n",
            "9625\n",
            "6406\n",
            "368\n",
            "1354\n",
            "8333\n",
            "4388\n",
            "2545\n",
            "4770\n",
            "7529\n",
            "6858\n",
            "321\n",
            "1030\n"
          ]
        }
      ]
    }
  ],
  "metadata": {
    "kernelspec": {
      "display_name": "Python 3 (ipykernel)",
      "language": "python",
      "name": "python3"
    },
    "language_info": {
      "codemirror_mode": {
        "name": "ipython",
        "version": 3
      },
      "file_extension": ".py",
      "mimetype": "text/x-python",
      "name": "python",
      "nbconvert_exporter": "python",
      "pygments_lexer": "ipython3",
      "version": "3.11.1"
    },
    "colab": {
      "provenance": []
    }
  },
  "nbformat": 4,
  "nbformat_minor": 5
}