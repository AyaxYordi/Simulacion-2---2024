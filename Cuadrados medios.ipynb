{
  "cells": [
    {
      "cell_type": "markdown",
      "id": "9f539a8a",
      "metadata": {
        "id": "9f539a8a"
      },
      "source": [
        "# Generador de números pseudoaleatorios por el método de cuadrados medios"
      ]
    },
    {
      "cell_type": "markdown",
      "source": [
        "Primero se define la función del método de cuadrados medios, donde de un número de ocho dígitos se toman los cuatro números de en medio, se eleva al cuadrado, se realiza el cociente entre cien y al resultado se le aplica la operación módulo con el número diez mil.\n",
        "$$a_{n}=\\lfloor{a_{n-1}^2} /100\\rfloor \\text{mod} \\hspace{0.1cm} 10000$$\n",
        "\n",
        "La función será definida de manera recursiva y los parámetros que va a tomar será un \"n\" entero que es el número de pasos en la sucesión de números pseudoaleatorios y un \"s\" que es la semilla, un número entero de cuatro dígitos.\n"
      ],
      "metadata": {
        "id": "TttQwE2HCUMq"
      },
      "id": "TttQwE2HCUMq"
    },
    {
      "cell_type": "code",
      "execution_count": null,
      "id": "7fad580c",
      "metadata": {
        "id": "7fad580c"
      },
      "outputs": [],
      "source": [
        "from math import *\n",
        "\n",
        "def mid(n,seed):\n",
        "\tif n==0:\n",
        "\t\treturn seed\n",
        "\tif n>0:\n",
        "\t\treturn ((mid(n-1,seed)**2)//100)%10000\n"
      ]
    },
    {
      "cell_type": "markdown",
      "source": [
        "Para probar que el código funciona se tomará como ejemplo la semilla $a_0=2332$ y que el programa nos imprima en pantalla 50 números."
      ],
      "metadata": {
        "id": "cXLvZmURETSz"
      },
      "id": "cXLvZmURETSz"
    },
    {
      "cell_type": "code",
      "source": [
        "for i in range(50):\n",
        "  print(mid(i,2332))"
      ],
      "metadata": {
        "id": "chqbBQYSOmi8",
        "outputId": "11f447a3-72f2-403e-a98c-8e4153872732",
        "colab": {
          "base_uri": "https://localhost:8080/"
        }
      },
      "id": "chqbBQYSOmi8",
      "execution_count": null,
      "outputs": [
        {
          "output_type": "stream",
          "name": "stdout",
          "text": [
            "2332\n",
            "4382\n",
            "2019\n",
            "763\n",
            "5821\n",
            "8840\n",
            "1456\n",
            "1199\n",
            "4376\n",
            "1493\n",
            "2290\n",
            "2441\n",
            "9584\n",
            "8530\n",
            "7609\n",
            "8968\n",
            "4250\n",
            "625\n",
            "3906\n",
            "2568\n",
            "5946\n",
            "3549\n",
            "5954\n",
            "4501\n",
            "2590\n",
            "7081\n",
            "1405\n",
            "9740\n",
            "8676\n",
            "2729\n",
            "4474\n",
            "166\n",
            "275\n",
            "756\n",
            "5715\n",
            "6612\n",
            "7185\n",
            "6242\n",
            "9625\n",
            "6406\n",
            "368\n",
            "1354\n",
            "8333\n",
            "4388\n",
            "2545\n",
            "4770\n",
            "7529\n",
            "6858\n",
            "321\n",
            "1030\n"
          ]
        }
      ]
    },
    {
      "cell_type": "markdown",
      "source": [
        "También podemos imprimir en pantalla la posición y el número.\n",
        "Se va a ejecutar de nuevo el código, pero ahora va a imprimir 100 números.\n"
      ],
      "metadata": {
        "id": "YSB43-WqmxfF"
      },
      "id": "YSB43-WqmxfF"
    },
    {
      "cell_type": "code",
      "source": [
        "for j in range(100):\n",
        "\tprint(j,mid(j,2332))\n"
      ],
      "metadata": {
        "id": "TZPOrAGXnOpu",
        "outputId": "3549e5cf-d699-4286-8c78-45b3ee3d148c",
        "colab": {
          "base_uri": "https://localhost:8080/"
        }
      },
      "id": "TZPOrAGXnOpu",
      "execution_count": null,
      "outputs": [
        {
          "output_type": "stream",
          "name": "stdout",
          "text": [
            "0 2332\n",
            "1 4382\n",
            "2 2019\n",
            "3 763\n",
            "4 5821\n",
            "5 8840\n",
            "6 1456\n",
            "7 1199\n",
            "8 4376\n",
            "9 1493\n",
            "10 2290\n",
            "11 2441\n",
            "12 9584\n",
            "13 8530\n",
            "14 7609\n",
            "15 8968\n",
            "16 4250\n",
            "17 625\n",
            "18 3906\n",
            "19 2568\n",
            "20 5946\n",
            "21 3549\n",
            "22 5954\n",
            "23 4501\n",
            "24 2590\n",
            "25 7081\n",
            "26 1405\n",
            "27 9740\n",
            "28 8676\n",
            "29 2729\n",
            "30 4474\n",
            "31 166\n",
            "32 275\n",
            "33 756\n",
            "34 5715\n",
            "35 6612\n",
            "36 7185\n",
            "37 6242\n",
            "38 9625\n",
            "39 6406\n",
            "40 368\n",
            "41 1354\n",
            "42 8333\n",
            "43 4388\n",
            "44 2545\n",
            "45 4770\n",
            "46 7529\n",
            "47 6858\n",
            "48 321\n",
            "49 1030\n",
            "50 609\n",
            "51 3708\n",
            "52 7492\n",
            "53 1300\n",
            "54 6900\n",
            "55 6100\n",
            "56 2100\n",
            "57 4100\n",
            "58 8100\n",
            "59 6100\n",
            "60 2100\n",
            "61 4100\n",
            "62 8100\n",
            "63 6100\n",
            "64 2100\n",
            "65 4100\n",
            "66 8100\n",
            "67 6100\n",
            "68 2100\n",
            "69 4100\n",
            "70 8100\n",
            "71 6100\n",
            "72 2100\n",
            "73 4100\n",
            "74 8100\n",
            "75 6100\n",
            "76 2100\n",
            "77 4100\n",
            "78 8100\n",
            "79 6100\n",
            "80 2100\n",
            "81 4100\n",
            "82 8100\n",
            "83 6100\n",
            "84 2100\n",
            "85 4100\n",
            "86 8100\n",
            "87 6100\n",
            "88 2100\n",
            "89 4100\n",
            "90 8100\n",
            "91 6100\n",
            "92 2100\n",
            "93 4100\n",
            "94 8100\n",
            "95 6100\n",
            "96 2100\n",
            "97 4100\n",
            "98 8100\n",
            "99 6100\n"
          ]
        }
      ]
    },
    {
      "cell_type": "markdown",
      "source": [
        "A partir de la posición 59 los números se repiten.\n",
        "Ahora se va a crear una función que agregue los números que va generando la semilla en una lista y la función va a tener como parámetro un número entero de cuatro dígitos que en este caso va a ser la semilla, la función tendrá el nombre de periodo y solo va a regresar la lista con los números ya generados."
      ],
      "metadata": {
        "id": "jK57YzRInlAe"
      },
      "id": "jK57YzRInlAe"
    },
    {
      "cell_type": "code",
      "source": [
        "def periodo(seed):\n",
        "\n",
        "\tlista = []\n",
        "\n",
        "\tfor i in range(10): # agrega 10 numeros a la lista\n",
        "\n",
        "\t\tlista.append(mid(i,seed))\n",
        "\n",
        "\treturn lista\n"
      ],
      "metadata": {
        "id": "B8G_o8Sgn173"
      },
      "id": "B8G_o8Sgn173",
      "execution_count": null,
      "outputs": []
    },
    {
      "cell_type": "markdown",
      "source": [
        "Ejecutamos el código."
      ],
      "metadata": {
        "id": "qseJ6sy-n9mf"
      },
      "id": "qseJ6sy-n9mf"
    },
    {
      "cell_type": "code",
      "source": [
        "print(periodo(2332))"
      ],
      "metadata": {
        "id": "pCJoYOjVoHXE",
        "outputId": "ff9a0619-09ec-4e10-fc4b-31fab67693f7",
        "colab": {
          "base_uri": "https://localhost:8080/"
        }
      },
      "id": "pCJoYOjVoHXE",
      "execution_count": null,
      "outputs": [
        {
          "output_type": "stream",
          "name": "stdout",
          "text": [
            "[2332, 4382, 2019, 763, 5821, 8840, 1456, 1199, 4376, 1493]\n"
          ]
        }
      ]
    },
    {
      "cell_type": "markdown",
      "source": [
        "Podemos reescribir la función para que en vez de agregar 10 números agregue más, por ejemplo que agregue 100 números, se reescribe el código y se ejecuta."
      ],
      "metadata": {
        "id": "GNAJWNaYoiIm"
      },
      "id": "GNAJWNaYoiIm"
    },
    {
      "cell_type": "code",
      "source": [
        "def periodo(seed):\n",
        "\n",
        "\tlista = []\n",
        "\n",
        "\tfor i in range(100): # agrega 100 numeros a la lista\n",
        "\n",
        "\t\tlista.append(mid(i,seed))\n",
        "\n",
        "\treturn lista\n",
        "\n",
        "print(periodo(2332))"
      ],
      "metadata": {
        "id": "F8oRe6V_ojMV",
        "colab": {
          "base_uri": "https://localhost:8080/"
        },
        "outputId": "fd76abe1-c5d0-498d-df51-129835f2a519"
      },
      "id": "F8oRe6V_ojMV",
      "execution_count": null,
      "outputs": [
        {
          "output_type": "stream",
          "name": "stdout",
          "text": [
            "[2332, 4382, 2019, 763, 5821, 8840, 1456, 1199, 4376, 1493, 2290, 2441, 9584, 8530, 7609, 8968, 4250, 625, 3906, 2568, 5946, 3549, 5954, 4501, 2590, 7081, 1405, 9740, 8676, 2729, 4474, 166, 275, 756, 5715, 6612, 7185, 6242, 9625, 6406, 368, 1354, 8333, 4388, 2545, 4770, 7529, 6858, 321, 1030, 609, 3708, 7492, 1300, 6900, 6100, 2100, 4100, 8100, 6100, 2100, 4100, 8100, 6100, 2100, 4100, 8100, 6100, 2100, 4100, 8100, 6100, 2100, 4100, 8100, 6100, 2100, 4100, 8100, 6100, 2100, 4100, 8100, 6100, 2100, 4100, 8100, 6100, 2100, 4100, 8100, 6100, 2100, 4100, 8100, 6100, 2100, 4100, 8100, 6100]\n"
          ]
        }
      ]
    },
    {
      "cell_type": "markdown",
      "source": [
        "Pero ahora queremos que solamente la función regrese una lista con los números que aparecen una única vez, sin tener números repetidos.\n",
        "Se sabe que la función set() convierte una lista en un conjunto y este conjunto guarda elementos sin repeticiones, o sea, el conjunto no tendrá elementos repetidos.\n",
        "Se reescribe la función y se ejecuta el código."
      ],
      "metadata": {
        "id": "IwQVyEn1opAl"
      },
      "id": "IwQVyEn1opAl"
    },
    {
      "cell_type": "code",
      "source": [
        "def periodo(seed):\n",
        "\n",
        "\tlista = []\n",
        "\n",
        "\tfor i in range(100): #Genera 100 numeros\n",
        "\n",
        "\t\tlista.append(mid(i,seed))\n",
        "\n",
        "\treturn set(lista)\n",
        "\n",
        "print(periodo(2332))"
      ],
      "metadata": {
        "id": "mV5xEq9Co1Fe",
        "colab": {
          "base_uri": "https://localhost:8080/"
        },
        "outputId": "c60170a3-d4bc-4610-ba4f-cfc55ed6d6b9"
      },
      "id": "mV5xEq9Co1Fe",
      "execution_count": null,
      "outputs": [
        {
          "output_type": "stream",
          "name": "stdout",
          "text": [
            "{4100, 6406, 1030, 8840, 2441, 8968, 2568, 9740, 8333, 7185, 275, 1300, 4501, 4376, 9625, 4250, 2332, 4382, 2590, 4770, 4388, 8100, 166, 7081, 2729, 1199, 1456, 2100, 7609, 5946, 5821, 321, 3906, 5954, 7492, 1354, 6858, 8530, 5715, 6612, 1493, 6100, 3549, 609, 6242, 2019, 8676, 7529, 9584, 625, 2290, 368, 756, 2545, 6900, 4474, 763, 3708, 1405}\n"
          ]
        }
      ]
    },
    {
      "cell_type": "markdown",
      "source": [
        "Teniendo este conjunto se puede saber el número de elementos que contiene usando la función len(), reescribiendo la función, ahora, va a regresar el número de elementos del conjunto. Se ejecuta el código."
      ],
      "metadata": {
        "id": "N7Em6qV8pCcR"
      },
      "id": "N7Em6qV8pCcR"
    },
    {
      "cell_type": "code",
      "source": [
        "from math import *\n",
        "\n",
        "def periodo(seed):\n",
        "\n",
        "\tlista = []\n",
        "\n",
        "\tfor i in range(100):\n",
        "\n",
        "\t\tlista.append(mid(i,seed))\n",
        "\n",
        "\treturn len(set(lista))\n",
        "\n",
        "\n",
        "print(periodo(2332))"
      ],
      "metadata": {
        "id": "j4crOM2XpDby",
        "outputId": "abe94d6f-25a9-4805-cf84-dfaa21a20374",
        "colab": {
          "base_uri": "https://localhost:8080/"
        }
      },
      "id": "j4crOM2XpDby",
      "execution_count": null,
      "outputs": [
        {
          "output_type": "stream",
          "name": "stdout",
          "text": [
            "59\n"
          ]
        }
      ]
    },
    {
      "cell_type": "markdown",
      "source": [
        "Ya teniendo la función escrita así se puede crear un for donde solamente imprima las semillas que tienen conjuntos de 2 elementos, en este caso lo que se va a iterar son todas las semillas de cuatro dígitos o sea desde la semilla 1000 hasta la 9999."
      ],
      "metadata": {
        "id": "723o13XQqRw5"
      },
      "id": "723o13XQqRw5"
    },
    {
      "cell_type": "code",
      "source": [
        "from math import *\n",
        "\n",
        "def periodo(seed):\n",
        "\n",
        "\tlista = []\n",
        "\n",
        "\tfor i in range(10):\n",
        "\n",
        "\t\tlista.append(mid(i,seed))\n",
        "\n",
        "\treturn len(set(lista))\n",
        "\n",
        "print('Semilla Periodo')\n",
        "for j in range(1000,10000):\n",
        "\tif periodo(j)==2:\n",
        "\t\tprint(j,periodo(j))\n"
      ],
      "metadata": {
        "id": "EDXU7kKWqTJ5",
        "outputId": "2b15c85b-bc99-4eee-b717-cb2b62d73ab1",
        "colab": {
          "base_uri": "https://localhost:8080/"
        }
      },
      "id": "EDXU7kKWqTJ5",
      "execution_count": null,
      "outputs": [
        {
          "output_type": "stream",
          "name": "stdout",
          "text": [
            "Semilla Periodo\n",
            "1000 2\n",
            "1005 2\n",
            "1500 2\n",
            "2000 2\n",
            "2400 2\n",
            "2600 2\n",
            "3000 2\n",
            "3500 2\n",
            "3743 2\n",
            "4000 2\n",
            "4500 2\n",
            "4717 2\n",
            "4900 2\n",
            "5000 2\n",
            "5001 2\n",
            "5100 2\n",
            "5500 2\n",
            "6000 2\n",
            "6245 2\n",
            "6500 2\n",
            "7000 2\n",
            "7400 2\n",
            "7500 2\n",
            "8000 2\n",
            "8500 2\n",
            "9000 2\n",
            "9500 2\n",
            "9900 2\n"
          ]
        }
      ]
    },
    {
      "cell_type": "markdown",
      "source": [
        "Con este código se puede saber las semillas que tienen un conjunto de 2 elementos o un periodo inmediato con respecto al método cuadrados medios. Para ello también se va a incluir en el código que imprima las semillas que tienen un periodo de longitud igual a 1."
      ],
      "metadata": {
        "id": "yvt1iX0_qyB4"
      },
      "id": "yvt1iX0_qyB4"
    },
    {
      "cell_type": "code",
      "source": [
        "from math import *\n",
        "\n",
        "def periodo(seed):\n",
        "\n",
        "\tlista = []\n",
        "\n",
        "\tfor i in range(10):\n",
        "\n",
        "\t\tlista.append(mid(i,seed))\n",
        "\n",
        "\treturn len(set(lista))\n",
        "\n",
        "print('Semilla Periodo')\n",
        "for j in range(1000,10000):\n",
        "\tif periodo(j)==2 or periodo(j)==1:\n",
        "\t\tprint(j,periodo(j))"
      ],
      "metadata": {
        "colab": {
          "base_uri": "https://localhost:8080/"
        },
        "id": "l4_ia1olsaTD",
        "outputId": "6187d9a0-b49b-49ba-ec9a-4cb61274f32e"
      },
      "id": "l4_ia1olsaTD",
      "execution_count": null,
      "outputs": [
        {
          "output_type": "stream",
          "name": "stdout",
          "text": [
            "Semilla Periodo\n",
            "1000 2\n",
            "1005 2\n",
            "1500 2\n",
            "2000 2\n",
            "2400 2\n",
            "2500 1\n",
            "2600 2\n",
            "3000 2\n",
            "3500 2\n",
            "3743 2\n",
            "3792 1\n",
            "4000 2\n",
            "4500 2\n",
            "4717 2\n",
            "4900 2\n",
            "5000 2\n",
            "5001 2\n",
            "5100 2\n",
            "5500 2\n",
            "6000 2\n",
            "6245 2\n",
            "6500 2\n",
            "7000 2\n",
            "7400 2\n",
            "7500 2\n",
            "7600 1\n",
            "8000 2\n",
            "8500 2\n",
            "9000 2\n",
            "9500 2\n",
            "9900 2\n"
          ]
        }
      ]
    }
  ],
  "metadata": {
    "kernelspec": {
      "display_name": "Python 3 (ipykernel)",
      "language": "python",
      "name": "python3"
    },
    "language_info": {
      "codemirror_mode": {
        "name": "ipython",
        "version": 3
      },
      "file_extension": ".py",
      "mimetype": "text/x-python",
      "name": "python",
      "nbconvert_exporter": "python",
      "pygments_lexer": "ipython3",
      "version": "3.11.1"
    },
    "colab": {
      "provenance": []
    }
  },
  "nbformat": 4,
  "nbformat_minor": 5
}