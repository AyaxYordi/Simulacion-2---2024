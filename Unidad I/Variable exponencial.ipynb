{
  "cells": [
    {
      "cell_type": "code",
      "execution_count": 21,
      "id": "526a8a72",
      "metadata": {
        "id": "526a8a72"
      },
      "outputs": [],
      "source": [
        "import random as rnd\n",
        "import numpy as np\n",
        "import matplotlib.pyplot as plt"
      ]
    },
    {
      "cell_type": "code",
      "execution_count": null,
      "id": "3cc7a018",
      "metadata": {
        "id": "3cc7a018"
      },
      "outputs": [],
      "source": [
        "n=10\n",
        "lamda=0.5\n",
        "L=-1/lamda"
      ]
    },
    {
      "cell_type": "code",
      "execution_count": null,
      "id": "f9d7220f",
      "metadata": {
        "id": "f9d7220f",
        "outputId": "f17b802f-10c9-479f-aa2a-378bc23812d1"
      },
      "outputs": [
        {
          "name": "stdout",
          "output_type": "stream",
          "text": [
            "3.6773849062314543\n",
            "0.6643657799279208\n",
            "0.806896264000304\n",
            "2.3698165288857433\n",
            "3.1872184657226557\n",
            "5.834406429015726\n",
            "1.4584446685987718\n",
            "5.1903722316891745\n",
            "0.24488931766976177\n",
            "0.05972596525271573\n"
          ]
        }
      ],
      "source": [
        "for i in range(n):\n",
        "    u=rnd.random()\n",
        "    x=L*np.log(u)\n",
        "    print(x)"
      ]
    },
    {
      "cell_type": "code",
      "execution_count": null,
      "id": "952aaa63",
      "metadata": {
        "id": "952aaa63"
      },
      "outputs": [],
      "source": [
        "def expo(lamda=1,n=10):\n",
        "    L=-1/lamda\n",
        "    lista=[]\n",
        "    for i in range(n):\n",
        "        u=rnd.random()\n",
        "        x=L*np.log(u)\n",
        "        lista.append(x)\n",
        "    return lista"
      ]
    },
    {
      "cell_type": "markdown",
      "source": [
        "La función ```expo(lambda, n)``` tiene como parámetros ```lambda``` es el parámetro de la distribución exponencial y ```n``` el tamaño de la lista o muestra que regresa la función.\n",
        "\n",
        "Esta es una forma de definir una variable aleatoria exponencial, pero también se puede definir de otra manera."
      ],
      "metadata": {
        "id": "rhX1ROVOlp9o"
      },
      "id": "rhX1ROVOlp9o"
    },
    {
      "cell_type": "code",
      "source": [
        "from math import log\n",
        "from random import random\n",
        "import numpy as np\n",
        "\n",
        "def expo_copy(l,n):\n",
        "  lista = (-l*log(random()) for i in range(n))\n",
        "  return np.array(list(lista))\n",
        "\n",
        "muestra2 = expo_copy(2,2000000) # Lamda = 2 , tamaño de muestra n=2,000,000\n",
        "print(muestra2)\n",
        "print(\"Media muestral: {0}\".format(np.mean(muestra2)))"
      ],
      "metadata": {
        "id": "fNkr0r87mvoo",
        "outputId": "88d53247-4521-4bc1-c59d-58828a62bac7",
        "colab": {
          "base_uri": "https://localhost:8080/"
        }
      },
      "id": "fNkr0r87mvoo",
      "execution_count": 18,
      "outputs": [
        {
          "output_type": "stream",
          "name": "stdout",
          "text": [
            "[0.61228625 0.77527196 0.98107433 ... 1.88388149 4.40302891 1.65166092]\n",
            "Media muestral: 2.0009646509069183\n"
          ]
        }
      ]
    },
    {
      "cell_type": "markdown",
      "source": [
        "En este caso, la función se llama ```expo_copy(l,n)``` y se le pasan los mismos parámetros que con la función ```expo()```.\n",
        "\n",
        "Claro, siempre se va a utilizar la versión del código que sea más rápida y para comparar eso se puede utilizar la librería ```time```, pero creo que la comparación será para la próxima ocasión."
      ],
      "metadata": {
        "id": "CThpSH-SpHx3"
      },
      "id": "CThpSH-SpHx3"
    },
    {
      "cell_type": "code",
      "execution_count": null,
      "id": "6c3273ea",
      "metadata": {
        "id": "6c3273ea"
      },
      "outputs": [],
      "source": [
        "muestra=expo(0.5,50)"
      ]
    },
    {
      "cell_type": "code",
      "execution_count": null,
      "id": "04963b3a",
      "metadata": {
        "id": "04963b3a"
      },
      "outputs": [],
      "source": [
        "media=np.mean(muestra)"
      ]
    },
    {
      "cell_type": "code",
      "execution_count": null,
      "id": "c3af2714",
      "metadata": {
        "id": "c3af2714",
        "outputId": "02cba56d-96ea-44c0-fb80-ace76bfe446b"
      },
      "outputs": [
        {
          "data": {
            "text/plain": [
              "5.207041115490178"
            ]
          },
          "execution_count": 7,
          "metadata": {},
          "output_type": "execute_result"
        }
      ],
      "source": [
        "np.var(muestra)"
      ]
    },
    {
      "cell_type": "code",
      "execution_count": 22,
      "id": "659af062",
      "metadata": {
        "id": "659af062",
        "outputId": "a816a614-c6f0-450e-b8bc-34a2227d0591",
        "colab": {
          "base_uri": "https://localhost:8080/",
          "height": 567
        }
      },
      "outputs": [
        {
          "output_type": "execute_result",
          "data": {
            "text/plain": [
              "(array([1.572996e+06, 3.363050e+05, 7.132300e+04, 1.529000e+04,\n",
              "        3.205000e+03, 6.770000e+02, 1.620000e+02, 3.100000e+01,\n",
              "        9.000000e+00, 2.000000e+00]),\n",
              " array([2.72197123e-06, 3.09090618e+00, 6.18180964e+00, 9.27271310e+00,\n",
              "        1.23636166e+01, 1.54545200e+01, 1.85454235e+01, 2.16363269e+01,\n",
              "        2.47272304e+01, 2.78181338e+01, 3.09090373e+01]),\n",
              " <BarContainer object of 10 artists>)"
            ]
          },
          "metadata": {},
          "execution_count": 22
        },
        {
          "output_type": "display_data",
          "data": {
            "text/plain": [
              "<Figure size 640x480 with 1 Axes>"
            ],
            "image/png": "[encoded data removed]"
          },
          "metadata": {}
        }
      ],
      "source": [
        "plt.hist(muestra)"
      ]
    },
    {
      "cell_type": "markdown",
      "source": [
        "De hecho, para que el histograma se parezca mucho más a la función de densidad exponencial, se agrega la siguiente línea de código."
      ],
      "metadata": {
        "id": "j8_HcaV3qD8-"
      },
      "id": "j8_HcaV3qD8-"
    },
    {
      "cell_type": "code",
      "source": [
        "plt.hist(muestra2,density=True,edgecolor=\"black\")\n",
        "plt.show()"
      ],
      "metadata": {
        "id": "yZ5qY6w9qDrk",
        "outputId": "2f836809-6eb0-48fc-aedf-22b2327d7a36",
        "colab": {
          "base_uri": "https://localhost:8080/",
          "height": 430
        }
      },
      "id": "yZ5qY6w9qDrk",
      "execution_count": 26,
      "outputs": [
        {
          "output_type": "display_data",
          "data": {
            "text/plain": [
              "<Figure size 640x480 with 1 Axes>"
            ],
            "image/png": "[encoded data removed]"
          },
          "metadata": {}
        }
      ]
    },
    {
      "cell_type": "markdown",
      "source": [
        "Otra comparación con la función de densidad."
      ],
      "metadata": {
        "id": "KbWZRha7rrSr"
      },
      "id": "KbWZRha7rrSr"
    },
    {
      "cell_type": "code",
      "source": [
        "x = np.arange(0,20,0.02)\n",
        "plt.plot(x,0.5*np.exp(-0.5*x),color=\"purple\")\n",
        "plt.hist(muestra2,density=True,edgecolor=\"black\")\n",
        "plt.show()"
      ],
      "metadata": {
        "id": "ZO9Moihsr6GR",
        "outputId": "dfebb73d-5004-4cae-fbdb-56bd9bd3836a",
        "colab": {
          "base_uri": "https://localhost:8080/",
          "height": 430
        }
      },
      "id": "ZO9Moihsr6GR",
      "execution_count": 28,
      "outputs": [
        {
          "output_type": "display_data",
          "data": {
            "text/plain": [
              "<Figure size 640x480 with 1 Axes>"
            ],
            "image/png": "[encoded data removed]"
          },
          "metadata": {}
        }
      ]
    },
    {
      "cell_type": "code",
      "execution_count": null,
      "id": "1bf4eb64",
      "metadata": {
        "id": "1bf4eb64"
      },
      "outputs": [],
      "source": [
        "#Para hacer la distribución acumulativa\n",
        "M=np.sort(muestra)"
      ]
    },
    {
      "cell_type": "code",
      "execution_count": null,
      "id": "acc98ccb",
      "metadata": {
        "id": "acc98ccb"
      },
      "outputs": [],
      "source": [
        "def cdf(muestra):\n",
        "    n=len(muestra)\n",
        "    x=np.sort(muestra)\n",
        "    y=np.arange(0,n)/n\n",
        "    return x,y"
      ]
    },
    {
      "cell_type": "code",
      "execution_count": null,
      "id": "b2f831af",
      "metadata": {
        "id": "b2f831af"
      },
      "outputs": [],
      "source": [
        "#print(cdf(muestra))"
      ]
    },
    {
      "cell_type": "code",
      "execution_count": null,
      "id": "faa272c5",
      "metadata": {
        "id": "faa272c5"
      },
      "outputs": [],
      "source": [
        "x_math,y_math=cdf(muestra)"
      ]
    },
    {
      "cell_type": "code",
      "execution_count": null,
      "id": "d83a6404",
      "metadata": {
        "id": "d83a6404",
        "outputId": "6a95e33f-6edb-4649-c8b9-3e19e7135507"
      },
      "outputs": [
        {
          "data": {
            "text/plain": [
              "<matplotlib.lines.Line2D at 0x2b19f5b1ac8>"
            ]
          },
          "execution_count": 18,
          "metadata": {},
          "output_type": "execute_result"
        },
        {
          "data": {
            "image/png": "[encoded data removed]",
            "text/plain": [
              "<Figure size 640x480 with 1 Axes>"
            ]
          },
          "metadata": {},
          "output_type": "display_data"
        }
      ],
      "source": [
        "plt.step(x_math,y_math)\n",
        "plt.axhline(y=0.5, color='red') #La mediana\n",
        "plt.axvline(x=media,color='green') #La media"
      ]
    },
    {
      "cell_type": "markdown",
      "source": [
        "Esta fue la única parte que no pude entender bien.\n"
      ],
      "metadata": {
        "id": "7o-fMSlYsd0Y"
      },
      "id": "7o-fMSlYsd0Y"
    }
  ],
  "metadata": {
    "kernelspec": {
      "display_name": "Python 3 (ipykernel)",
      "language": "python",
      "name": "python3"
    },
    "language_info": {
      "codemirror_mode": {
        "name": "ipython",
        "version": 3
      },
      "file_extension": ".py",
      "mimetype": "text/x-python",
      "name": "python",
      "nbconvert_exporter": "python",
      "pygments_lexer": "ipython3",
      "version": "3.7.3"
    },
    "colab": {
      "provenance": []
    }
  },
  "nbformat": 4,
  "nbformat_minor": 5
}