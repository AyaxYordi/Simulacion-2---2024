{
  "cells": [
    {
      "cell_type": "markdown",
      "source": [
        "# Retorno simple\n",
        "\n",
        "Importamos las librerias."
      ],
      "metadata": {
        "id": "5bj5hTpg5lt4"
      },
      "id": "5bj5hTpg5lt4"
    },
    {
      "cell_type": "code",
      "execution_count": 17,
      "id": "16137154",
      "metadata": {
        "id": "16137154"
      },
      "outputs": [],
      "source": [
        "import numpy as np\n",
        "import matplotlib.pyplot as plt\n",
        "import pandas as pd\n",
        "import yfinance as yf           # descarga datos de Yahoo Finance\n",
        "#import datetime"
      ]
    },
    {
      "cell_type": "markdown",
      "source": [
        "# Descarga de datos"
      ],
      "metadata": {
        "id": "zAG51UZc_-5r"
      },
      "id": "zAG51UZc_-5r"
    },
    {
      "cell_type": "code",
      "source": [
        "televisa = yf.Ticker(\"TLEVISACPO.MX\")\n",
        "televisa.history(period=\"max\")"
      ],
      "metadata": {
        "id": "m3wY0h9a7g94",
        "outputId": "9a0972e3-9ac9-4cff-d89f-eea7b359d34d",
        "colab": {
          "base_uri": "https://localhost:8080/",
          "height": 455
        }
      },
      "id": "m3wY0h9a7g94",
      "execution_count": 8,
      "outputs": [
        {
          "output_type": "execute_result",
          "data": {
            "text/plain": [
              "                                Open       High        Low      Close  \\\n",
              "Date                                                                    \n",
              "2000-03-21 00:00:00-06:00  24.608997  24.608997  24.608997  24.608997   \n",
              "2000-03-22 00:00:00-06:00  24.608997  24.608997  24.608997  24.608997   \n",
              "2000-03-23 00:00:00-06:00  24.608997  24.608997  24.608997  24.608997   \n",
              "2000-03-24 00:00:00-06:00  24.608997  24.608997  24.608997  24.608997   \n",
              "2000-03-27 00:00:00-06:00  24.608997  24.608997  24.608997  24.608997   \n",
              "...                              ...        ...        ...        ...   \n",
              "2024-05-20 00:00:00-06:00  11.050000  11.340000  11.000000  11.290000   \n",
              "2024-05-21 00:00:00-06:00  11.290000  11.290000  10.880000  10.910000   \n",
              "2024-05-22 00:00:00-06:00  10.910000  11.030000  10.700000  10.710000   \n",
              "2024-05-23 00:00:00-06:00  10.890000  10.890000  10.500000  10.580000   \n",
              "2024-05-24 00:00:00-06:00  10.600000  10.650000  10.550000  10.600000   \n",
              "\n",
              "                            Volume  Dividends  Stock Splits  \n",
              "Date                                                         \n",
              "2000-03-21 00:00:00-06:00        0        0.0           0.0  \n",
              "2000-03-22 00:00:00-06:00        0        0.0           0.0  \n",
              "2000-03-23 00:00:00-06:00        0        0.0           0.0  \n",
              "2000-03-24 00:00:00-06:00        0        0.0           0.0  \n",
              "2000-03-27 00:00:00-06:00        0        0.0           0.0  \n",
              "...                            ...        ...           ...  \n",
              "2024-05-20 00:00:00-06:00   850823        0.0           0.0  \n",
              "2024-05-21 00:00:00-06:00  1310154        0.0           0.0  \n",
              "2024-05-22 00:00:00-06:00  2094003        0.0           0.0  \n",
              "2024-05-23 00:00:00-06:00  1253229        0.0           0.0  \n",
              "2024-05-24 00:00:00-06:00    11820        0.0           0.0  \n",
              "\n",
              "[6139 rows x 7 columns]"
            ],
            "text/html": [
              "\n",
              "  <div id=\"df-5f5750b4-b73e-48bf-8fef-ac9003e90ba2\" class=\"colab-df-container\">\n",
              "    <div>\n",
              "<style scoped>\n",
              "    .dataframe tbody tr th:only-of-type {\n",
              "        vertical-align: middle;\n",
              "    }\n",
              "\n",
              "    .dataframe tbody tr th {\n",
              "        vertical-align: top;\n",
              "    }\n",
              "\n",
              "    .dataframe thead th {\n",
              "        text-align: right;\n",
              "    }\n",
              "</style>\n",
              "<table border=\"1\" class=\"dataframe\">\n",
              "  <thead>\n",
              "    <tr style=\"text-align: right;\">\n",
              "      <th></th>\n",
              "      <th>Open</th>\n",
              "      <th>High</th>\n",
              "      <th>Low</th>\n",
              "      <th>Close</th>\n",
              "      <th>Volume</th>\n",
              "      <th>Dividends</th>\n",
              "      <th>Stock Splits</th>\n",
              "    </tr>\n",
              "    <tr>\n",
              "      <th>Date</th>\n",
              "      <th></th>\n",
              "      <th></th>\n",
              "      <th></th>\n",
              "      <th></th>\n",
              "      <th></th>\n",
              "      <th></th>\n",
              "      <th></th>\n",
              "    </tr>\n",
              "  </thead>\n",
              "  <tbody>\n",
              "    <tr>\n",
              "      <th>2000-03-21 00:00:00-06:00</th>\n",
              "      <td>24.608997</td>\n",
              "      <td>24.608997</td>\n",
              "      <td>24.608997</td>\n",
              "      <td>24.608997</td>\n",
              "      <td>0</td>\n",
              "      <td>0.0</td>\n",
              "      <td>0.0</td>\n",
              "    </tr>\n",
              "    <tr>\n",
              "      <th>2000-03-22 00:00:00-06:00</th>\n",
              "      <td>24.608997</td>\n",
              "      <td>24.608997</td>\n",
              "      <td>24.608997</td>\n",
              "      <td>24.608997</td>\n",
              "      <td>0</td>\n",
              "      <td>0.0</td>\n",
              "      <td>0.0</td>\n",
              "    </tr>\n",
              "    <tr>\n",
              "      <th>2000-03-23 00:00:00-06:00</th>\n",
              "      <td>24.608997</td>\n",
              "      <td>24.608997</td>\n",
              "      <td>24.608997</td>\n",
              "      <td>24.608997</td>\n",
              "      <td>0</td>\n",
              "      <td>0.0</td>\n",
              "      <td>0.0</td>\n",
              "    </tr>\n",
              "    <tr>\n",
              "      <th>2000-03-24 00:00:00-06:00</th>\n",
              "      <td>24.608997</td>\n",
              "      <td>24.608997</td>\n",
              "      <td>24.608997</td>\n",
              "      <td>24.608997</td>\n",
              "      <td>0</td>\n",
              "      <td>0.0</td>\n",
              "      <td>0.0</td>\n",
              "    </tr>\n",
              "    <tr>\n",
              "      <th>2000-03-27 00:00:00-06:00</th>\n",
              "      <td>24.608997</td>\n",
              "      <td>24.608997</td>\n",
              "      <td>24.608997</td>\n",
              "      <td>24.608997</td>\n",
              "      <td>0</td>\n",
              "      <td>0.0</td>\n",
              "      <td>0.0</td>\n",
              "    </tr>\n",
              "    <tr>\n",
              "      <th>...</th>\n",
              "      <td>...</td>\n",
              "      <td>...</td>\n",
              "      <td>...</td>\n",
              "      <td>...</td>\n",
              "      <td>...</td>\n",
              "      <td>...</td>\n",
              "      <td>...</td>\n",
              "    </tr>\n",
              "    <tr>\n",
              "      <th>2024-05-20 00:00:00-06:00</th>\n",
              "      <td>11.050000</td>\n",
              "      <td>11.340000</td>\n",
              "      <td>11.000000</td>\n",
              "      <td>11.290000</td>\n",
              "      <td>850823</td>\n",
              "      <td>0.0</td>\n",
              "      <td>0.0</td>\n",
              "    </tr>\n",
              "    <tr>\n",
              "      <th>2024-05-21 00:00:00-06:00</th>\n",
              "      <td>11.290000</td>\n",
              "      <td>11.290000</td>\n",
              "      <td>10.880000</td>\n",
              "      <td>10.910000</td>\n",
              "      <td>1310154</td>\n",
              "      <td>0.0</td>\n",
              "      <td>0.0</td>\n",
              "    </tr>\n",
              "    <tr>\n",
              "      <th>2024-05-22 00:00:00-06:00</th>\n",
              "      <td>10.910000</td>\n",
              "      <td>11.030000</td>\n",
              "      <td>10.700000</td>\n",
              "      <td>10.710000</td>\n",
              "      <td>2094003</td>\n",
              "      <td>0.0</td>\n",
              "      <td>0.0</td>\n",
              "    </tr>\n",
              "    <tr>\n",
              "      <th>2024-05-23 00:00:00-06:00</th>\n",
              "      <td>10.890000</td>\n",
              "      <td>10.890000</td>\n",
              "      <td>10.500000</td>\n",
              "      <td>10.580000</td>\n",
              "      <td>1253229</td>\n",
              "      <td>0.0</td>\n",
              "      <td>0.0</td>\n",
              "    </tr>\n",
              "    <tr>\n",
              "      <th>2024-05-24 00:00:00-06:00</th>\n",
              "      <td>10.600000</td>\n",
              "      <td>10.650000</td>\n",
              "      <td>10.550000</td>\n",
              "      <td>10.600000</td>\n",
              "      <td>11820</td>\n",
              "      <td>0.0</td>\n",
              "      <td>0.0</td>\n",
              "    </tr>\n",
              "  </tbody>\n",
              "</table>\n",
              "<p>6139 rows × 7 columns</p>\n",
              "</div>\n",
              "    <div class=\"colab-df-buttons\">\n",
              "\n",
              "  <div class=\"colab-df-container\">\n",
              "    <button class=\"colab-df-convert\" onclick=\"convertToInteractive('df-5f5750b4-b73e-48bf-8fef-ac9003e90ba2')\"\n",
              "            title=\"Convert this dataframe to an interactive table.\"\n",
              "            style=\"display:none;\">\n",
              "\n",
              "  <svg xmlns=\"http://www.w3.org/2000/svg\" height=\"24px\" viewBox=\"0 -960 960 960\">\n",
              "    <path d=\"M120-120v-720h720v720H120Zm60-500h600v-160H180v160Zm220 220h160v-160H400v160Zm0 220h160v-160H400v160ZM180-400h160v-160H180v160Zm440 0h160v-160H620v160ZM180-180h160v-160H180v160Zm440 0h160v-160H620v160Z\"/>\n",
              "  </svg>\n",
              "    </button>\n",
              "\n",
              "  <style>\n",
              "    .colab-df-container {\n",
              "      display:flex;\n",
              "      gap: 12px;\n",
              "    }\n",
              "\n",
              "    .colab-df-convert {\n",
              "      background-color: #E8F0FE;\n",
              "      border: none;\n",
              "      border-radius: 50%;\n",
              "      cursor: pointer;\n",
              "      display: none;\n",
              "      fill: #1967D2;\n",
              "      height: 32px;\n",
              "      padding: 0 0 0 0;\n",
              "      width: 32px;\n",
              "    }\n",
              "\n",
              "    .colab-df-convert:hover {\n",
              "      background-color: #E2EBFA;\n",
              "      box-shadow: 0px 1px 2px rgba(60, 64, 67, 0.3), 0px 1px 3px 1px rgba(60, 64, 67, 0.15);\n",
              "      fill: #174EA6;\n",
              "    }\n",
              "\n",
              "    .colab-df-buttons div {\n",
              "      margin-bottom: 4px;\n",
              "    }\n",
              "\n",
              "    [theme=dark] .colab-df-convert {\n",
              "      background-color: #3B4455;\n",
              "      fill: #D2E3FC;\n",
              "    }\n",
              "\n",
              "    [theme=dark] .colab-df-convert:hover {\n",
              "      background-color: #434B5C;\n",
              "      box-shadow: 0px 1px 3px 1px rgba(0, 0, 0, 0.15);\n",
              "      filter: drop-shadow(0px 1px 2px rgba(0, 0, 0, 0.3));\n",
              "      fill: #FFFFFF;\n",
              "    }\n",
              "  </style>\n",
              "\n",
              "    <script>\n",
              "      const buttonEl =\n",
              "        document.querySelector('#df-5f5750b4-b73e-48bf-8fef-ac9003e90ba2 button.colab-df-convert');\n",
              "      buttonEl.style.display =\n",
              "        google.colab.kernel.accessAllowed ? 'block' : 'none';\n",
              "\n",
              "      async function convertToInteractive(key) {\n",
              "        const element = document.querySelector('#df-5f5750b4-b73e-48bf-8fef-ac9003e90ba2');\n",
              "        const dataTable =\n",
              "          await google.colab.kernel.invokeFunction('convertToInteractive',\n",
              "                                                    [key], {});\n",
              "        if (!dataTable) return;\n",
              "\n",
              "        const docLinkHtml = 'Like what you see? Visit the ' +\n",
              "          '<a target=\"_blank\" href=https://colab.research.google.com/notebooks/data_table.ipynb>data table notebook</a>'\n",
              "          + ' to learn more about interactive tables.';\n",
              "        element.innerHTML = '';\n",
              "        dataTable['output_type'] = 'display_data';\n",
              "        await google.colab.output.renderOutput(dataTable, element);\n",
              "        const docLink = document.createElement('div');\n",
              "        docLink.innerHTML = docLinkHtml;\n",
              "        element.appendChild(docLink);\n",
              "      }\n",
              "    </script>\n",
              "  </div>\n",
              "\n",
              "\n",
              "<div id=\"df-ae35e678-d0c8-4316-b3d4-c522e43ca730\">\n",
              "  <button class=\"colab-df-quickchart\" onclick=\"quickchart('df-ae35e678-d0c8-4316-b3d4-c522e43ca730')\"\n",
              "            title=\"Suggest charts\"\n",
              "            style=\"display:none;\">\n",
              "\n",
              "<svg xmlns=\"http://www.w3.org/2000/svg\" height=\"24px\"viewBox=\"0 0 24 24\"\n",
              "     width=\"24px\">\n",
              "    <g>\n",
              "        <path d=\"M19 3H5c-1.1 0-2 .9-2 2v14c0 1.1.9 2 2 2h14c1.1 0 2-.9 2-2V5c0-1.1-.9-2-2-2zM9 17H7v-7h2v7zm4 0h-2V7h2v10zm4 0h-2v-4h2v4z\"/>\n",
              "    </g>\n",
              "</svg>\n",
              "  </button>\n",
              "\n",
              "<style>\n",
              "  .colab-df-quickchart {\n",
              "      --bg-color: #E8F0FE;\n",
              "      --fill-color: #1967D2;\n",
              "      --hover-bg-color: #E2EBFA;\n",
              "      --hover-fill-color: #174EA6;\n",
              "      --disabled-fill-color: #AAA;\n",
              "      --disabled-bg-color: #DDD;\n",
              "  }\n",
              "\n",
              "  [theme=dark] .colab-df-quickchart {\n",
              "      --bg-color: #3B4455;\n",
              "      --fill-color: #D2E3FC;\n",
              "      --hover-bg-color: #434B5C;\n",
              "      --hover-fill-color: #FFFFFF;\n",
              "      --disabled-bg-color: #3B4455;\n",
              "      --disabled-fill-color: #666;\n",
              "  }\n",
              "\n",
              "  .colab-df-quickchart {\n",
              "    background-color: var(--bg-color);\n",
              "    border: none;\n",
              "    border-radius: 50%;\n",
              "    cursor: pointer;\n",
              "    display: none;\n",
              "    fill: var(--fill-color);\n",
              "    height: 32px;\n",
              "    padding: 0;\n",
              "    width: 32px;\n",
              "  }\n",
              "\n",
              "  .colab-df-quickchart:hover {\n",
              "    background-color: var(--hover-bg-color);\n",
              "    box-shadow: 0 1px 2px rgba(60, 64, 67, 0.3), 0 1px 3px 1px rgba(60, 64, 67, 0.15);\n",
              "    fill: var(--button-hover-fill-color);\n",
              "  }\n",
              "\n",
              "  .colab-df-quickchart-complete:disabled,\n",
              "  .colab-df-quickchart-complete:disabled:hover {\n",
              "    background-color: var(--disabled-bg-color);\n",
              "    fill: var(--disabled-fill-color);\n",
              "    box-shadow: none;\n",
              "  }\n",
              "\n",
              "  .colab-df-spinner {\n",
              "    border: 2px solid var(--fill-color);\n",
              "    border-color: transparent;\n",
              "    border-bottom-color: var(--fill-color);\n",
              "    animation:\n",
              "      spin 1s steps(1) infinite;\n",
              "  }\n",
              "\n",
              "  @keyframes spin {\n",
              "    0% {\n",
              "      border-color: transparent;\n",
              "      border-bottom-color: var(--fill-color);\n",
              "      border-left-color: var(--fill-color);\n",
              "    }\n",
              "    20% {\n",
              "      border-color: transparent;\n",
              "      border-left-color: var(--fill-color);\n",
              "      border-top-color: var(--fill-color);\n",
              "    }\n",
              "    30% {\n",
              "      border-color: transparent;\n",
              "      border-left-color: var(--fill-color);\n",
              "      border-top-color: var(--fill-color);\n",
              "      border-right-color: var(--fill-color);\n",
              "    }\n",
              "    40% {\n",
              "      border-color: transparent;\n",
              "      border-right-color: var(--fill-color);\n",
              "      border-top-color: var(--fill-color);\n",
              "    }\n",
              "    60% {\n",
              "      border-color: transparent;\n",
              "      border-right-color: var(--fill-color);\n",
              "    }\n",
              "    80% {\n",
              "      border-color: transparent;\n",
              "      border-right-color: var(--fill-color);\n",
              "      border-bottom-color: var(--fill-color);\n",
              "    }\n",
              "    90% {\n",
              "      border-color: transparent;\n",
              "      border-bottom-color: var(--fill-color);\n",
              "    }\n",
              "  }\n",
              "</style>\n",
              "\n",
              "  <script>\n",
              "    async function quickchart(key) {\n",
              "      const quickchartButtonEl =\n",
              "        document.querySelector('#' + key + ' button');\n",
              "      quickchartButtonEl.disabled = true;  // To prevent multiple clicks.\n",
              "      quickchartButtonEl.classList.add('colab-df-spinner');\n",
              "      try {\n",
              "        const charts = await google.colab.kernel.invokeFunction(\n",
              "            'suggestCharts', [key], {});\n",
              "      } catch (error) {\n",
              "        console.error('Error during call to suggestCharts:', error);\n",
              "      }\n",
              "      quickchartButtonEl.classList.remove('colab-df-spinner');\n",
              "      quickchartButtonEl.classList.add('colab-df-quickchart-complete');\n",
              "    }\n",
              "    (() => {\n",
              "      let quickchartButtonEl =\n",
              "        document.querySelector('#df-ae35e678-d0c8-4316-b3d4-c522e43ca730 button');\n",
              "      quickchartButtonEl.style.display =\n",
              "        google.colab.kernel.accessAllowed ? 'block' : 'none';\n",
              "    })();\n",
              "  </script>\n",
              "</div>\n",
              "\n",
              "    </div>\n",
              "  </div>\n"
            ],
            "application/vnd.google.colaboratory.intrinsic+json": {
              "type": "dataframe",
              "summary": "{\n  \"name\": \"televisa\",\n  \"rows\": 6139,\n  \"fields\": [\n    {\n      \"column\": \"Date\",\n      \"properties\": {\n        \"dtype\": \"date\",\n        \"min\": \"2000-03-21 00:00:00-06:00\",\n        \"max\": \"2024-05-24 00:00:00-06:00\",\n        \"num_unique_values\": 6139,\n        \"samples\": [\n          \"2023-05-12 00:00:00-06:00\",\n          \"2021-04-21 00:00:00-05:00\",\n          \"2020-04-30 00:00:00-05:00\"\n        ],\n        \"semantic_type\": \"\",\n        \"description\": \"\"\n      }\n    },\n    {\n      \"column\": \"Open\",\n      \"properties\": {\n        \"dtype\": \"number\",\n        \"std\": 25.31103598843442,\n        \"min\": 8.010000228881836,\n        \"max\": 117.2196153860525,\n        \"num_unique_values\": 5789,\n        \"samples\": [\n          83.85449667022506,\n          43.233445376827184,\n          25.91510366356285\n        ],\n        \"semantic_type\": \"\",\n        \"description\": \"\"\n      }\n    },\n    {\n      \"column\": \"High\",\n      \"properties\": {\n        \"dtype\": \"number\",\n        \"std\": 25.575545218500345,\n        \"min\": 8.289999961853027,\n        \"max\": 117.26675120082615,\n        \"num_unique_values\": 5843,\n        \"samples\": [\n          50.60480040753373,\n          15.917781498170712,\n          25.03676197720618\n        ],\n        \"semantic_type\": \"\",\n        \"description\": \"\"\n      }\n    },\n    {\n      \"column\": \"Low\",\n      \"properties\": {\n        \"dtype\": \"number\",\n        \"std\": 25.06586669118837,\n        \"min\": 7.639999866485596,\n        \"max\": 115.53225534235726,\n        \"num_unique_values\": 5855,\n        \"samples\": [\n          110.54557769499746,\n          86.0778941948203,\n          22.472947534594596\n        ],\n        \"semantic_type\": \"\",\n        \"description\": \"\"\n      }\n    },\n    {\n      \"column\": \"Close\",\n      \"properties\": {\n        \"dtype\": \"number\",\n        \"std\": 25.339806839452116,\n        \"min\": 7.900000095367432,\n        \"max\": 115.88104248046875,\n        \"num_unique_values\": 5219,\n        \"samples\": [\n          44.00994110107422,\n          20.154436111450195,\n          51.162940979003906\n        ],\n        \"semantic_type\": \"\",\n        \"description\": \"\"\n      }\n    },\n    {\n      \"column\": \"Volume\",\n      \"properties\": {\n        \"dtype\": \"number\",\n        \"std\": 4757607,\n        \"min\": 0,\n        \"max\": 312967528,\n        \"num_unique_values\": 5829,\n        \"samples\": [\n          3041807,\n          1290887,\n          5000940\n        ],\n        \"semantic_type\": \"\",\n        \"description\": \"\"\n      }\n    },\n    {\n      \"column\": \"Dividends\",\n      \"properties\": {\n        \"dtype\": \"number\",\n        \"std\": 0.045060584851372876,\n        \"min\": 0.0,\n        \"max\": 1.75,\n        \"num_unique_values\": 8,\n        \"samples\": [\n          0.189365,\n          1.45,\n          0.0\n        ],\n        \"semantic_type\": \"\",\n        \"description\": \"\"\n      }\n    },\n    {\n      \"column\": \"Stock Splits\",\n      \"properties\": {\n        \"dtype\": \"number\",\n        \"std\": 0.0,\n        \"min\": 0.0,\n        \"max\": 0.0,\n        \"num_unique_values\": 1,\n        \"samples\": [\n          0.0\n        ],\n        \"semantic_type\": \"\",\n        \"description\": \"\"\n      }\n    }\n  ]\n}"
            }
          },
          "metadata": {},
          "execution_count": 8
        }
      ]
    },
    {
      "cell_type": "markdown",
      "source": [
        "# Precio de cierre"
      ],
      "metadata": {
        "id": "xunJ6irQAEQi"
      },
      "id": "xunJ6irQAEQi"
    },
    {
      "cell_type": "code",
      "source": [
        "televisa.history(period=\"max\")[\"Close\"]"
      ],
      "metadata": {
        "id": "s4EK1zPn8Lbs",
        "outputId": "f09b7218-0bd9-4ef4-958e-5caa6a0d94ac",
        "colab": {
          "base_uri": "https://localhost:8080/"
        }
      },
      "id": "s4EK1zPn8Lbs",
      "execution_count": 11,
      "outputs": [
        {
          "output_type": "execute_result",
          "data": {
            "text/plain": [
              "Date\n",
              "2000-03-21 00:00:00-06:00    24.608994\n",
              "2000-03-22 00:00:00-06:00    24.608994\n",
              "2000-03-23 00:00:00-06:00    24.608994\n",
              "2000-03-24 00:00:00-06:00    24.608994\n",
              "2000-03-27 00:00:00-06:00    24.608994\n",
              "                               ...    \n",
              "2024-05-20 00:00:00-06:00    11.290000\n",
              "2024-05-21 00:00:00-06:00    10.910000\n",
              "2024-05-22 00:00:00-06:00    10.710000\n",
              "2024-05-23 00:00:00-06:00    10.580000\n",
              "2024-05-24 00:00:00-06:00    10.600000\n",
              "Name: Close, Length: 6139, dtype: float64"
            ]
          },
          "metadata": {},
          "execution_count": 11
        }
      ]
    },
    {
      "cell_type": "markdown",
      "source": [
        "# Grafico"
      ],
      "metadata": {
        "id": "U87LkBAZAHyM"
      },
      "id": "U87LkBAZAHyM"
    },
    {
      "cell_type": "code",
      "source": [
        "plt.plot(televisa.history(period=\"max\")[\"Close\"])\n",
        "plt.ylabel(\"Precio de cierre\")\n",
        "plt.xlabel(\"Periodo\")\n",
        "plt.grid()\n",
        "plt.show()"
      ],
      "metadata": {
        "id": "0k5gEr9q9TiY",
        "outputId": "8439e775-e141-42fe-eaa6-14cc7cdb006b",
        "colab": {
          "base_uri": "https://localhost:8080/",
          "height": 451
        }
      },
      "id": "0k5gEr9q9TiY",
      "execution_count": 14,
      "outputs": [
        {
          "output_type": "display_data",
          "data": {
            "text/plain": [
              "<Figure size 640x480 with 1 Axes>"
            ],
            "image/png": "[encoded data removed]"
          },
          "metadata": {}
        }
      ]
    },
    {
      "cell_type": "markdown",
      "source": [
        "# Retorno simple\n",
        "\n",
        "$$\\dfrac{P_1-P_0}{P_0}=\\dfrac{P_1}{P_0}-1$$"
      ],
      "metadata": {
        "id": "UOEsJ2OtAvZy"
      },
      "id": "UOEsJ2OtAvZy"
    },
    {
      "cell_type": "code",
      "source": [
        "TCPO = televisa.history(period=\"max\")\n",
        "TCPO[\"Retorno simple\"] = TCPO[\"Close\"]/TCPO[\"Close\"].shift(1)-1\n",
        "TCPO[\"Retorno simple\"]"
      ],
      "metadata": {
        "id": "Xb6nbuKQA-tK",
        "outputId": "ddef029b-8315-4b76-8d0c-ffc3c8241908",
        "colab": {
          "base_uri": "https://localhost:8080/"
        }
      },
      "id": "Xb6nbuKQA-tK",
      "execution_count": 29,
      "outputs": [
        {
          "output_type": "execute_result",
          "data": {
            "text/plain": [
              "Date\n",
              "2000-03-21 00:00:00-06:00         NaN\n",
              "2000-03-22 00:00:00-06:00    0.000000\n",
              "2000-03-23 00:00:00-06:00    0.000000\n",
              "2000-03-24 00:00:00-06:00    0.000000\n",
              "2000-03-27 00:00:00-06:00    0.000000\n",
              "                               ...   \n",
              "2024-05-20 00:00:00-06:00    0.017117\n",
              "2024-05-21 00:00:00-06:00   -0.033658\n",
              "2024-05-22 00:00:00-06:00   -0.018332\n",
              "2024-05-23 00:00:00-06:00   -0.012138\n",
              "2024-05-24 00:00:00-06:00    0.004726\n",
              "Name: Retorno simple, Length: 6139, dtype: float64"
            ]
          },
          "metadata": {},
          "execution_count": 29
        }
      ]
    },
    {
      "cell_type": "code",
      "source": [
        "plt.plot(TCPO[\"Retorno simple\"])\n",
        "plt.title(\"Retorno simple\")\n",
        "plt.ylabel(\"%\")\n",
        "plt.xlabel(\"Periodo\")\n",
        "plt.grid()\n",
        "plt.show()"
      ],
      "metadata": {
        "id": "kgLB9sdLE1bv",
        "outputId": "f5a91d30-b55b-4be4-c1db-384d5359f828",
        "colab": {
          "base_uri": "https://localhost:8080/",
          "height": 472
        }
      },
      "id": "kgLB9sdLE1bv",
      "execution_count": 34,
      "outputs": [
        {
          "output_type": "display_data",
          "data": {
            "text/plain": [
              "<Figure size 640x480 with 1 Axes>"
            ],
            "image/png": "[encoded data removed]"
          },
          "metadata": {}
        }
      ]
    },
    {
      "cell_type": "code",
      "source": [
        "print(\"Maximo:\",TCPO[\"Retorno simple\"].max())\n",
        "print(\"Minimo:\",TCPO[\"Retorno simple\"].min())\n",
        "print(\"Media:\",TCPO[\"Retorno simple\"].mean())\n",
        "print(\"Varianza\",TCPO[\"Retorno simple\"].var())\n",
        "print(\"Desviacion:\",TCPO[\"Retorno simple\"].std())"
      ],
      "metadata": {
        "id": "UIIMfqaEFJit",
        "outputId": "63f93baa-40c4-4cdb-d460-cf05f35cbca9",
        "colab": {
          "base_uri": "https://localhost:8080/"
        }
      },
      "id": "UIIMfqaEFJit",
      "execution_count": 35,
      "outputs": [
        {
          "output_type": "stream",
          "name": "stdout",
          "text": [
            "Maximo: 0.2057777543945139\n",
            "Minimo: -0.19631626662365684\n",
            "Media: -0.00013706667954363667\n",
            "Varianza 0.0004475943463915209\n",
            "Desviacion: 0.021156425652541614\n"
          ]
        }
      ]
    },
    {
      "cell_type": "code",
      "source": [
        "print(\"Retorno diario: {0}%\".format(round( TCPO[\"Retorno simple\"].mean()*100 ,2)))\n",
        "print(\"Retorno anual: {0}%\".format(round(TCPO[\"Retorno simple\"].mean()*100*250,2)))"
      ],
      "metadata": {
        "id": "yyOx31fpIO0J",
        "outputId": "c4775db1-4574-4f50-ed24-64a428c89f3d",
        "colab": {
          "base_uri": "https://localhost:8080/"
        }
      },
      "id": "yyOx31fpIO0J",
      "execution_count": 45,
      "outputs": [
        {
          "output_type": "stream",
          "name": "stdout",
          "text": [
            "Retorno diario: -0.01%\n",
            "Retorno anual: -3.43%\n"
          ]
        }
      ]
    },
    {
      "cell_type": "markdown",
      "source": [
        "# Retorno logaritmo\n",
        "\n",
        "$$log(\\dfrac{P_1}{P_0})$$"
      ],
      "metadata": {
        "id": "PoYvwr6YGR7d"
      },
      "id": "PoYvwr6YGR7d"
    },
    {
      "cell_type": "code",
      "source": [
        "TCPOL = televisa.history(period=\"max\")\n",
        "TCPOL[\"Retorno simple\"] = np.log(TCPO[\"Close\"]/TCPO[\"Close\"].shift(1))\n",
        "TCPOL[\"Retorno simple\"]"
      ],
      "metadata": {
        "id": "uvpSIT_sGgep",
        "outputId": "de212016-57a9-4c23-cd96-cf65cfb7f058",
        "colab": {
          "base_uri": "https://localhost:8080/"
        }
      },
      "id": "uvpSIT_sGgep",
      "execution_count": 36,
      "outputs": [
        {
          "output_type": "execute_result",
          "data": {
            "text/plain": [
              "Date\n",
              "2000-03-21 00:00:00-06:00         NaN\n",
              "2000-03-22 00:00:00-06:00    0.000000\n",
              "2000-03-23 00:00:00-06:00    0.000000\n",
              "2000-03-24 00:00:00-06:00    0.000000\n",
              "2000-03-27 00:00:00-06:00    0.000000\n",
              "                               ...   \n",
              "2024-05-20 00:00:00-06:00    0.016972\n",
              "2024-05-21 00:00:00-06:00   -0.034238\n",
              "2024-05-22 00:00:00-06:00   -0.018502\n",
              "2024-05-23 00:00:00-06:00   -0.012212\n",
              "2024-05-24 00:00:00-06:00    0.002832\n",
              "Name: Retorno simple, Length: 6139, dtype: float64"
            ]
          },
          "metadata": {},
          "execution_count": 36
        }
      ]
    },
    {
      "cell_type": "code",
      "source": [
        "plt.plot(TCPOL[\"Retorno simple\"])\n",
        "plt.title(\"Retorno logaritmo\")\n",
        "plt.ylabel(\"%\")\n",
        "plt.xlabel(\"Periodo\")\n",
        "plt.grid()\n",
        "plt.show()"
      ],
      "metadata": {
        "id": "S0B_7F6-GpY0",
        "outputId": "78cd7ae9-cb0e-46e9-ed89-192988113d5b",
        "colab": {
          "base_uri": "https://localhost:8080/",
          "height": 472
        }
      },
      "id": "S0B_7F6-GpY0",
      "execution_count": 37,
      "outputs": [
        {
          "output_type": "display_data",
          "data": {
            "text/plain": [
              "<Figure size 640x480 with 1 Axes>"
            ],
            "image/png": "[encoded data removed]"
          },
          "metadata": {}
        }
      ]
    },
    {
      "cell_type": "code",
      "source": [
        "print(\"Maximo:\",TCPOL[\"Retorno simple\"].max())\n",
        "print(\"Minimo:\",TCPOL[\"Retorno simple\"].min())\n",
        "print(\"Media:\",TCPOL[\"Retorno simple\"].mean())\n",
        "print(\"Varianza\",TCPOL[\"Retorno simple\"].var())\n",
        "print(\"Desviacion:\",TCPOL[\"Retorno simple\"].std())"
      ],
      "metadata": {
        "id": "D1b5BVUaHxm2",
        "outputId": "fe6dbf05-c082-4ad0-c231-5ade88c18af9",
        "colab": {
          "base_uri": "https://localhost:8080/"
        }
      },
      "id": "D1b5BVUaHxm2",
      "execution_count": 39,
      "outputs": [
        {
          "output_type": "stream",
          "name": "stdout",
          "text": [
            "Maximo: 0.2057777543945139\n",
            "Minimo: -0.19631626662365684\n",
            "Media: -0.00013706667954363667\n",
            "Varianza 0.0004475943463915209\n",
            "Desviacion: 0.021156425652541614\n"
          ]
        }
      ]
    },
    {
      "cell_type": "code",
      "source": [
        "print(\"Retorno diario: {0}%\".format(round( TCPOL[\"Retorno simple\"].mean()*100 ,2)))\n",
        "print(\"Retorno anual: {0}%\".format(round(TCPOL[\"Retorno simple\"].mean()*100*250,2)))"
      ],
      "metadata": {
        "id": "r4B5HaSCKRfT",
        "outputId": "3acc6dc1-c945-463e-925a-5aa585089483",
        "colab": {
          "base_uri": "https://localhost:8080/"
        }
      },
      "id": "r4B5HaSCKRfT",
      "execution_count": 46,
      "outputs": [
        {
          "output_type": "stream",
          "name": "stdout",
          "text": [
            "Retorno diario: -0.01%\n",
            "Retorno anual: -3.43%\n"
          ]
        }
      ]
    }
  ],
  "metadata": {
    "kernelspec": {
      "display_name": "Python 3 (ipykernel)",
      "language": "python",
      "name": "python3"
    },
    "language_info": {
      "codemirror_mode": {
        "name": "ipython",
        "version": 3
      },
      "file_extension": ".py",
      "mimetype": "text/x-python",
      "name": "python",
      "nbconvert_exporter": "python",
      "pygments_lexer": "ipython3",
      "version": "3.7.3"
    },
    "colab": {
      "provenance": []
    }
  },
  "nbformat": 4,
  "nbformat_minor": 5
}