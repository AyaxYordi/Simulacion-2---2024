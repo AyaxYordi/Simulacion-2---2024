{
  "nbformat": 4,
  "nbformat_minor": 0,
  "metadata": {
    "colab": {
      "provenance": [],
      "authorship_tag": "ABX9TyMr4ILeCibaDm8cN9Talpwt"
    },
    "kernelspec": {
      "name": "python3",
      "display_name": "Python 3"
    },
    "language_info": {
      "name": "python"
    }
  },
  "cells": [
    {
      "cell_type": "markdown",
      "source": [
        "# Monte Carlo\n",
        "\n",
        "Aquí en este documento se verán cuatro variantes del método de Monte Carlo y se van a comparar con respecto a su varianza para ver cuál es el que tiene la mínima varianza.\n",
        "\n",
        "Para ilustrar el funcionamiento de estos métodos, se resolverá esta integral.\n",
        "\n",
        "$$\\int_{0}^{1}\\dfrac{e^x-1}{e-1}dx$$\n",
        "\n",
        "# Monte Carlo estratificado\n",
        "\n",
        "El siguiente código solo sirve para una variable aleatoria uniforme $X \\sim U(0,1)$ o para integrales definidas donde el intervalo de integración sea $[0,1]$\n",
        "\n",
        "\n",
        "Primero se van a importar las librerías que se van a ocupar para este método."
      ],
      "metadata": {
        "id": "gjtG2xzX545l"
      }
    },
    {
      "cell_type": "code",
      "source": [
        "from math import *\n",
        "from random import random"
      ],
      "metadata": {
        "id": "cBA8bo6M74jn"
      },
      "execution_count": null,
      "outputs": []
    },
    {
      "cell_type": "markdown",
      "source": [
        "Definimos la función."
      ],
      "metadata": {
        "id": "8ZONp6yN76F2"
      }
    },
    {
      "cell_type": "code",
      "source": [
        "f = lambda x : (exp(x)-1)/(e-1)"
      ],
      "metadata": {
        "id": "QeCl91SB7_Yv"
      },
      "execution_count": null,
      "outputs": []
    },
    {
      "cell_type": "markdown",
      "source": [
        "Definimos una función que regrese una lista con números aleatorios que siguen una distribución uniforme. $X \\sim U(a,b)$\n",
        "\n",
        "La función ```u(a,b,n)``` retorna una lista con números aleatorios que siguen una distribución uniforme en el intervalo $(a, b)$ y la función tiene como parámetros los siguientes:\n",
        "\n",
        "*   ```a```: Limite inferior.\n",
        "*   ```b```: Limite superior.\n",
        "*   ```n```: Cantidad de números aleatorios a generar.\n",
        "\n",
        "Técnicamente, lo que regresa ```u(a,b,n)``` es un generador, pero para ver los valores simplemente se utiliza la función ```list()```."
      ],
      "metadata": {
        "id": "q4fmWExq9wDH"
      }
    },
    {
      "cell_type": "code",
      "source": [
        "u = lambda a,b,n: ((b-a)*random()+a for i in range(n))"
      ],
      "metadata": {
        "id": "UzFdN4q191es"
      },
      "execution_count": null,
      "outputs": []
    },
    {
      "cell_type": "markdown",
      "source": [
        "Un ejemplo de prueba para ver funcionamiento de ```u(a,b,n)```"
      ],
      "metadata": {
        "id": "lC1-Yyc7piyp"
      }
    },
    {
      "cell_type": "code",
      "source": [
        "print(u(0,0.5,10)) # Generador\n",
        "print(list(u(0,0.5,10))) # Lista"
      ],
      "metadata": {
        "colab": {
          "base_uri": "https://localhost:8080/"
        },
        "id": "9AB54gxnpie3",
        "outputId": "1b053734-97b1-43f6-dcd0-df2f89e2347c"
      },
      "execution_count": null,
      "outputs": [
        {
          "output_type": "stream",
          "name": "stdout",
          "text": [
            "<generator object <lambda>.<locals>.<genexpr> at 0x7e20a95ebdf0>\n",
            "[0.47566262662846803, 0.4201675948362208, 0.3051752480436873, 0.16969537920434374, 0.12632433540359, 0.2690373412233583, 0.36001022023195645, 0.494909245571375, 0.16377715589734326, 0.20214163819276498]\n"
          ]
        }
      ]
    },
    {
      "cell_type": "markdown",
      "source": [
        "Para el estimador del método de Monte Carlo estratificado, se va a definir la siguiente función con el nombre de ```estratificado(M,N)``` y los parámetros son los siguientes:\n",
        "\n",
        "*   ```M```: Número de subintervalos.\n",
        "*   ```N```: Cantidad de números aleatorios por intervalo.\n",
        "\n"
      ],
      "metadata": {
        "id": "uv865EdF95Va"
      }
    },
    {
      "cell_type": "code",
      "execution_count": null,
      "metadata": {
        "id": "77yolr1e5xSo"
      },
      "outputs": [],
      "source": [
        "def estratificado(M,N):\n",
        "\ts = 0\n",
        "\tfor j in range(M):\n",
        "\t\ts+=sum([f(k) for k in u((j/M),(j+1)/M,N)])\n",
        "\treturn s/(M*N)"
      ]
    },
    {
      "cell_type": "markdown",
      "source": [
        "Pasamos los parametros con ```M=4 N=20``` se imprime el resultado estimado."
      ],
      "metadata": {
        "id": "RsejANyA-KGx"
      }
    },
    {
      "cell_type": "code",
      "source": [
        "print(estratificado(4,20))\n",
        "print(1-1/(e-1))"
      ],
      "metadata": {
        "colab": {
          "base_uri": "https://localhost:8080/"
        },
        "id": "Uc-EGYzt-C4a",
        "outputId": "ab5f0c1a-b3bd-4d0f-a5a1-af6986756043"
      },
      "execution_count": null,
      "outputs": [
        {
          "output_type": "stream",
          "name": "stdout",
          "text": [
            "0.4036526810591045\n",
            "0.41802329313067355\n"
          ]
        }
      ]
    },
    {
      "cell_type": "markdown",
      "source": [
        "# Monte Carlo muestreo importancia\n",
        "\n",
        "Primero empezamos importando las librerías."
      ],
      "metadata": {
        "id": "fGfVepEk86EI"
      }
    },
    {
      "cell_type": "code",
      "source": [
        "from random import random\n",
        "from math import *\n",
        "from scipy.integrate import quad\n",
        "import numpy as np\n",
        "import matplotlib.pyplot as plt"
      ],
      "metadata": {
        "id": "CLym8KQPfT61"
      },
      "execution_count": 215,
      "outputs": []
    },
    {
      "cell_type": "markdown",
      "source": [
        "Graficamos la función que se va a integrar."
      ],
      "metadata": {
        "id": "sLgvJVPhfbT_"
      }
    },
    {
      "cell_type": "code",
      "source": [
        "f1 = lambda x : (np.exp(x)-1)/(e-1)\n",
        "\n",
        "t = np.arange(0,1,0.001)\n",
        "plt.plot(t,f1(t))\n",
        "plt.xlabel(\"x\")\n",
        "plt.ylabel(\"y\")\n",
        "plt.show()"
      ],
      "metadata": {
        "id": "8ahDE0qPf3zh",
        "outputId": "72b03ceb-1db6-4338-812b-f42c31d084d9",
        "colab": {
          "base_uri": "https://localhost:8080/",
          "height": 449
        }
      },
      "execution_count": 216,
      "outputs": [
        {
          "output_type": "display_data",
          "data": {
            "text/plain": [
              "<Figure size 640x480 with 1 Axes>"
            ],
            "image/png": "[encoded data removed]"
          },
          "metadata": {}
        }
      ]
    },
    {
      "cell_type": "markdown",
      "source": [
        "La función que se propone es la siguiente."
      ],
      "metadata": {
        "id": "ZCZLPzGwisI7"
      }
    },
    {
      "cell_type": "code",
      "source": [
        "f2 = lambda t: 0.5*np.exp(t)-0.5\n",
        "\n",
        "t = np.arange(0,1,0.001)\n",
        "plt.plot(t,f2(t),c=\"red\")\n",
        "plt.xlabel(\"x\")\n",
        "plt.ylabel(\"y\")\n",
        "plt.show()"
      ],
      "metadata": {
        "id": "mQTggN5aiofa",
        "outputId": "af6c1939-5998-4674-ef0c-b96f9f00f51e",
        "colab": {
          "base_uri": "https://localhost:8080/",
          "height": 449
        }
      },
      "execution_count": 217,
      "outputs": [
        {
          "output_type": "display_data",
          "data": {
            "text/plain": [
              "<Figure size 640x480 with 1 Axes>"
            ],
            "image/png": "[encoded data removed]"
          },
          "metadata": {}
        }
      ]
    },
    {
      "cell_type": "markdown",
      "source": [
        "Normalizamos la función."
      ],
      "metadata": {
        "id": "QqO96QVdHvIg"
      }
    },
    {
      "cell_type": "code",
      "source": [
        "g = lambda x : 0.5*exp(x)-0.5\n",
        "\n",
        "print(\"Valor de la integral en el intevalo [0,1]: {0}\".format(quad(g,0,1)[0]))"
      ],
      "metadata": {
        "id": "U3zTUCPSHu1K",
        "outputId": "c6a5ea88-5387-4c35-c7e5-cec77289d100",
        "colab": {
          "base_uri": "https://localhost:8080/"
        }
      },
      "execution_count": 218,
      "outputs": [
        {
          "output_type": "stream",
          "name": "stdout",
          "text": [
            "Valor de la integral en el intevalo [0,1]: 0.35914091422952266\n"
          ]
        }
      ]
    },
    {
      "cell_type": "markdown",
      "source": [
        "Graficamos la función normalizada."
      ],
      "metadata": {
        "id": "uvLQQzuyJ_en"
      }
    },
    {
      "cell_type": "code",
      "source": [
        "G = lambda t :(1/quad(g,0,1)[0])*(0.5*np.exp(t)-0.5)\n",
        "\n",
        "t = np.arange(0,1,0.001)\n",
        "plt.plot(t,G(t),c=\"red\")\n",
        "plt.xlabel(\"x\")\n",
        "plt.ylabel(\"y\")\n",
        "plt.show()"
      ],
      "metadata": {
        "id": "9aUBnhHVJ-8e",
        "outputId": "2efb6e88-788d-48b3-d806-368144fe80bf",
        "colab": {
          "base_uri": "https://localhost:8080/",
          "height": 454
        }
      },
      "execution_count": 219,
      "outputs": [
        {
          "output_type": "display_data",
          "data": {
            "text/plain": [
              "<Figure size 640x480 with 1 Axes>"
            ],
            "image/png": "[encoded data removed]"
          },
          "metadata": {}
        }
      ]
    },
    {
      "cell_type": "markdown",
      "source": [
        "Graficando ambas funciones para compararlas."
      ],
      "metadata": {
        "id": "a513K7kQjArA"
      }
    },
    {
      "cell_type": "code",
      "source": [
        "f1 = lambda x : (np.exp(x)-1)/(e-1)\n",
        "G = lambda t :(1/quad(g,0,1)[0])*(0.5*np.exp(t)-0.5)\n",
        "\n",
        "t = np.arange(0,1,0.001)\n",
        "plt.plot(t,G(t),c=\"red\")\n",
        "plt.plot(t,f1(t))\n",
        "plt.xlabel(\"x\")\n",
        "plt.ylabel(\"y\")\n",
        "plt.show()"
      ],
      "metadata": {
        "id": "L4GtTyn6jHid",
        "outputId": "88c3af73-0466-4b9e-d822-b013323da21d",
        "colab": {
          "base_uri": "https://localhost:8080/",
          "height": 454
        }
      },
      "execution_count": 220,
      "outputs": [
        {
          "output_type": "display_data",
          "data": {
            "text/plain": [
              "<Figure size 640x480 with 1 Axes>"
            ],
            "image/png": "[encoded data removed]"
          },
          "metadata": {}
        }
      ]
    },
    {
      "cell_type": "markdown",
      "source": [
        "Definimos la función ```importancia(N)``` que solo tendrá un parámetro que vendría siendo la cantidad de números aleatorios que se van a utilizar para estimar la integral."
      ],
      "metadata": {
        "id": "Kgc9CK7jgGlf"
      }
    },
    {
      "cell_type": "code",
      "source": [
        "f = lambda x : (exp(x)-1)/(e-1)\n",
        "g1 = lambda x : (0.5*exp(x)-0.5)\n",
        "g = lambda x : (1/quad(g1,0,1)[0])*(0.5*exp(x)-0.5)\n",
        "\n",
        "def importancia(n):\n",
        "\tu = random()\n",
        "\tl = (f(u)/g(u) for i in range(n))\n",
        "\treturn sum(l)/n"
      ],
      "metadata": {
        "id": "CzZ302zr9a3c"
      },
      "execution_count": 230,
      "outputs": []
    },
    {
      "cell_type": "markdown",
      "source": [
        "Estimamos el resultado de la integral con un millón de números aleatorios."
      ],
      "metadata": {
        "id": "U4UGeXYbPAOc"
      }
    },
    {
      "cell_type": "code",
      "source": [
        "print(importancia(1000000))"
      ],
      "metadata": {
        "id": "zLhp2Vv2O_7D",
        "outputId": "9e32861d-448b-4b57-f5bc-7dbba8675927",
        "colab": {
          "base_uri": "https://localhost:8080/"
        }
      },
      "execution_count": 229,
      "outputs": [
        {
          "output_type": "stream",
          "name": "stdout",
          "text": [
            "0.4180232931359238\n"
          ]
        }
      ]
    },
    {
      "cell_type": "markdown",
      "source": [
        "# Monte Carlo media muestral\n"
      ],
      "metadata": {
        "id": "UlmhATpC9miv"
      }
    },
    {
      "cell_type": "markdown",
      "source": [
        "Primero importamos las librerías que se van a usar para este método."
      ],
      "metadata": {
        "id": "yO53XOUZQay-"
      }
    },
    {
      "cell_type": "code",
      "source": [
        "from random import random\n",
        "from math import *"
      ],
      "metadata": {
        "id": "WQTSas3zQnuW"
      },
      "execution_count": null,
      "outputs": []
    },
    {
      "cell_type": "markdown",
      "source": [
        "Se define la función a integrar."
      ],
      "metadata": {
        "id": "5mSsEmdBQo4I"
      }
    },
    {
      "cell_type": "code",
      "source": [
        "f = lambda x : (exp(x)-1)/(e-1)"
      ],
      "metadata": {
        "id": "_0fBAb0VQz3P"
      },
      "execution_count": null,
      "outputs": []
    },
    {
      "cell_type": "markdown",
      "source": [
        "Por último, se define una función que ejecuta el método de media muestral.\n",
        "\n",
        "Se genera una lista de números aleatorios dentro del intervalo donde se desea calcular la integral definida, en este caso el intervalo de integración es de $[0,1]$ y se van a generar números aleatorios que estén dentro de este intervalo.\n",
        "\n",
        "La función ```media(a,b,N)``` tiene tres parámetros que son:\n",
        "\n",
        "\n",
        "*   ```a```: Limite inferior.\n",
        "*   ```b```: Limite superior.\n",
        "*   ```N```: Cantidad de números aleatorios a generar.\n",
        "\n",
        "Lo que regresa la función es la aproximación de la integral.\n",
        "\n",
        "O sea:\n",
        "\n",
        "$$\\theta=\\dfrac{(b-a)}{N}\\sum_{i=1}^{n}g(X_i)$$"
      ],
      "metadata": {
        "id": "P0FBQzkfQ1CY"
      }
    },
    {
      "cell_type": "code",
      "source": [
        "def media(a,b,N):\n",
        "  l = (f((b-a)*random()+a) for i in range(N))  # Generador que evalua los numeros aleatorios en la funcion f\n",
        "  return (b-a)*(sum(l)/N)"
      ],
      "metadata": {
        "id": "oeYPjCl3-eoN"
      },
      "execution_count": null,
      "outputs": []
    },
    {
      "cell_type": "markdown",
      "source": [
        "Por último, le pasamos los parámetros ```a=0 b=1``` y aproximamos la integral con un millón de números aleatorios. ```N=1000000```"
      ],
      "metadata": {
        "id": "9L_0sQaUaTGl"
      }
    },
    {
      "cell_type": "code",
      "source": [
        "print(media(0,1,1000000))"
      ],
      "metadata": {
        "id": "Gr4EZ3icSIUk",
        "outputId": "63f5bc35-d45c-4d81-b6d7-9a88294853d3",
        "colab": {
          "base_uri": "https://localhost:8080/"
        }
      },
      "execution_count": null,
      "outputs": [
        {
          "output_type": "stream",
          "name": "stdout",
          "text": [
            "0.4183863104720596\n"
          ]
        }
      ]
    },
    {
      "cell_type": "markdown",
      "source": [
        "# Monte Carlo acierto y error.\n",
        "\n",
        "Este código solo sirve para integrales definidas en un intervalo de integración $[0,1]$.\n",
        "\n",
        "Importamos las librerías."
      ],
      "metadata": {
        "id": "avnBaELt_Eoa"
      }
    },
    {
      "cell_type": "code",
      "source": [
        "from random import random\n",
        "from math import *\n",
        "import numpy as np\n",
        "import matplotlib.pyplot as plt"
      ],
      "metadata": {
        "id": "kKFpJkJ4_EXU"
      },
      "execution_count": 166,
      "outputs": []
    },
    {
      "cell_type": "markdown",
      "source": [
        "Definimos la función a integrar."
      ],
      "metadata": {
        "id": "ROTn7ULefnP0"
      }
    },
    {
      "cell_type": "code",
      "source": [
        "f = lambda x : (exp(x)-1)/(e-1)"
      ],
      "metadata": {
        "id": "Nx3F86uFfm-n"
      },
      "execution_count": 167,
      "outputs": []
    },
    {
      "cell_type": "markdown",
      "source": [
        "Graficamos la función."
      ],
      "metadata": {
        "id": "fvkIzP8xxnhd"
      }
    },
    {
      "cell_type": "code",
      "source": [
        "f1 = lambda x : (np.exp(x)-1)/(e-1)\n",
        "x = np.arange(0,1,0.001)\n",
        "\n",
        "plt.plot(x,f1(x))\n",
        "plt.xlabel(\"x\")\n",
        "plt.ylabel(\"y\")\n",
        "plt.axis(\"equal\")\n",
        "plt.show()"
      ],
      "metadata": {
        "colab": {
          "base_uri": "https://localhost:8080/",
          "height": 449
        },
        "id": "w-NERo4Bx2jc",
        "outputId": "cb39653a-3a2c-4cc2-d321-6eeda941f5a2"
      },
      "execution_count": 168,
      "outputs": [
        {
          "output_type": "display_data",
          "data": {
            "text/plain": [
              "<Figure size 640x480 with 1 Axes>"
            ],
            "image/png": "[encoded data removed]"
          },
          "metadata": {}
        }
      ]
    },
    {
      "cell_type": "markdown",
      "source": [
        "Creamos una función que genera vectores aleatorios. Las componentes del vector siguen una distribución uniforme de parámetros cero y uno. $(X,Y)\\hspace{0.5cm} X\\sim U(0,1)\\hspace{0.5cm} Y\\sim U(0,1)$\n",
        "\n",
        "La función tendra el siguiente nombre ```p()``` y no tendra parámetros solo bastara con llamar la función para que retorne un vector aleatorio."
      ],
      "metadata": {
        "id": "g2CzZnz5yf2o"
      }
    },
    {
      "cell_type": "code",
      "source": [
        "def p():\n",
        "  u = random()\n",
        "  v = random()\n",
        "  return (u,v)"
      ],
      "metadata": {
        "id": "kRk1DZct0GzA"
      },
      "execution_count": 169,
      "outputs": []
    },
    {
      "cell_type": "markdown",
      "source": [
        "Hacemos uso de un generador que tendrá el nombre de ```lista``` que va a generar $N$ vectores.\n",
        "\n",
        "Creamos cuatro listas que tienen los siguientes nombres: ```l1, l2, a1, a2``` los vectores que están debajo de la función se guardarán en las listas ```a1, a2``` y los que estén por arriba de la curva se guardarán en las listas ```l1, l2```.\n",
        "\n",
        "Ahora graficamos 50 vectores y la función para ver el funcionamiento del código."
      ],
      "metadata": {
        "id": "qtNAeJTa2eDm"
      }
    },
    {
      "cell_type": "code",
      "source": [
        "f1 = lambda x : (np.exp(x)-1)/(e-1)   # Funcion\n",
        "x = np.arange(0,1,0.001)              # Dominio de la funcion\n",
        "\n",
        "lista = (p() for i in range(50)) # Generador\n",
        "\n",
        "l1 = []\n",
        "l2 = []\n",
        "a1 = []\n",
        "a2 = []\n",
        "\n",
        "# Filtro\n",
        "for j in lista:\n",
        "  if f(j[0])>j[1]:\n",
        "    a1.append(j[0])\n",
        "    a2.append(j[1])\n",
        "  else:\n",
        "    l1.append(j[0])\n",
        "    l2.append(j[1])\n",
        "\n",
        "\n",
        "plt.plot(x,f1(x))\n",
        "plt.plot(l1,l2,\".\",color=\"red\")\n",
        "plt.plot(a1,a2,\".\",color=\"blue\")\n",
        "plt.xlabel(\"x\")\n",
        "plt.ylabel(\"y\")\n",
        "plt.show()"
      ],
      "metadata": {
        "id": "Hyl5A_Tw2rj8",
        "colab": {
          "base_uri": "https://localhost:8080/",
          "height": 449
        },
        "outputId": "6e29439c-b6dd-4612-facd-053f8ff3f11e"
      },
      "execution_count": 181,
      "outputs": [
        {
          "output_type": "display_data",
          "data": {
            "text/plain": [
              "<Figure size 640x480 with 1 Axes>"
            ],
            "image/png": "[encoded data removed]"
          },
          "metadata": {}
        }
      ]
    },
    {
      "cell_type": "markdown",
      "source": [
        "Creamos una función que estime la integral y tendrá el nombre de ```acierto_error(a,b,c,N)``` que tiene los siguientes parámetros:\n",
        "\n",
        "\n",
        "*   ```c```: Cota para la curva\n",
        "*   ```a```: Limite infereior del intervalo.\n",
        "*   ```b```: Limite superior del intervalo.\n",
        "*   ```N```: Cantidad de números aleatorios.\n",
        "\n",
        "Retorna la estimación de la integral."
      ],
      "metadata": {
        "id": "lEjGiDJ93F57"
      }
    },
    {
      "cell_type": "code",
      "source": [
        "def acierto_error(a,b,c,N):\n",
        "  lista = (p() for i in range(N))\n",
        "  acierto = 0\n",
        "  for j in lista:\n",
        "    if f(j[0])>j[1]:\n",
        "      acierto +=1\n",
        "  return c*(b-a)*(acierto/N)"
      ],
      "metadata": {
        "id": "7ji9RO0g3GI4"
      },
      "execution_count": 190,
      "outputs": []
    },
    {
      "cell_type": "markdown",
      "source": [
        "Proponemos una cota ```c=1``` y el intervalo donde se integra la función es ```a=0, b=1``` y estimamos con dos millones de números aleatorios."
      ],
      "metadata": {
        "id": "8-ooE_q0BnCl"
      }
    },
    {
      "cell_type": "code",
      "source": [
        "print(acierto_error(0,1,1,2000000))"
      ],
      "metadata": {
        "colab": {
          "base_uri": "https://localhost:8080/"
        },
        "id": "UIB4YmxEBGEG",
        "outputId": "b4b18553-3d20-463f-fe3a-75f09b21a4ce"
      },
      "execution_count": 194,
      "outputs": [
        {
          "output_type": "stream",
          "name": "stdout",
          "text": [
            "0.4174775\n"
          ]
        }
      ]
    }
  ]
}