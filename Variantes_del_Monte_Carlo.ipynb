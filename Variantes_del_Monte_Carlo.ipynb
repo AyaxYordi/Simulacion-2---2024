{
  "nbformat": 4,
  "nbformat_minor": 0,
  "metadata": {
    "colab": {
      "provenance": [],
      "authorship_tag": "ABX9TyOcYZeTlHD08Dgl255KGvfX",
      "include_colab_link": true
    },
    "kernelspec": {
      "name": "python3",
      "display_name": "Python 3"
    },
    "language_info": {
      "name": "python"
    }
  },
  "cells": [
    {
      "cell_type": "markdown",
      "metadata": {
        "id": "view-in-github",
        "colab_type": "text"
      },
      "source": [
        "<a href=\"https://colab.research.google.com/github/AyaxYordi/Simulacion-2---2024/blob/main/Variantes_del_Monte_Carlo.ipynb\" target=\"_parent\"><img src=\"https://colab.research.google.com/assets/colab-badge.svg\" alt=\"Open In Colab\"/></a>"
      ]
    },
    {
      "cell_type": "markdown",
      "source": [
        "# Monte Carlo\n",
        "\n",
        "Aquí en este documento se verán cuatro variantes del método de Monte Carlo y se van a comparar con respecto a su varianza para ver cuál es el que tiene la mínima varianza.\n",
        "\n",
        "Para ilustrar el funcionamiento de estos métodos, se resolverá esta integral.\n",
        "\n",
        "$$\\int_{0}^{1}\\dfrac{e^x-1}{e-1}dx$$\n",
        "\n",
        "# Monte Carlo estratificado\n",
        "\n",
        "El siguiente código solo sirve para una variable aleatoria uniforme. $X \\sim U(0,1)$\n",
        "\n",
        "Primero se van a importar las librerías que se van a ocupar para este método."
      ],
      "metadata": {
        "id": "gjtG2xzX545l"
      }
    },
    {
      "cell_type": "code",
      "source": [
        "from math import *\n",
        "from random import random"
      ],
      "metadata": {
        "id": "cBA8bo6M74jn"
      },
      "execution_count": null,
      "outputs": []
    },
    {
      "cell_type": "markdown",
      "source": [
        "Definimos la función."
      ],
      "metadata": {
        "id": "8ZONp6yN76F2"
      }
    },
    {
      "cell_type": "code",
      "source": [
        "f = lambda x : (exp(x)-1)/(e-1)"
      ],
      "metadata": {
        "id": "QeCl91SB7_Yv"
      },
      "execution_count": null,
      "outputs": []
    },
    {
      "cell_type": "markdown",
      "source": [
        "$N$ Será la cantidad de números aleatorios que se van a generar y $M$ el número de intervalos en que se va a dividir el intervalo. $[0,1]$"
      ],
      "metadata": {
        "id": "wx6lTclH8Mb2"
      }
    },
    {
      "cell_type": "code",
      "source": [
        "N = 20\n",
        "m = 4"
      ],
      "metadata": {
        "id": "pMn-JtmW8zm8"
      },
      "execution_count": null,
      "outputs": []
    },
    {
      "cell_type": "markdown",
      "source": [
        "Estos son los U sub k sub i"
      ],
      "metadata": {
        "id": "q4fmWExq9wDH"
      }
    },
    {
      "cell_type": "code",
      "source": [
        "def u(n,m1,N1):\n",
        "\tl = ((1/m1)*random()+n/m1 for i in range(N1))\n",
        "\treturn l"
      ],
      "metadata": {
        "id": "UzFdN4q191es"
      },
      "execution_count": null,
      "outputs": []
    },
    {
      "cell_type": "markdown",
      "source": [
        "Theta que en este caso se va a definir como estimador."
      ],
      "metadata": {
        "id": "uv865EdF95Va"
      }
    },
    {
      "cell_type": "code",
      "execution_count": null,
      "metadata": {
        "id": "77yolr1e5xSo"
      },
      "outputs": [],
      "source": [
        "def estimador(m,N):\n",
        "\ts = 0\n",
        "\tfor j in range(m):\n",
        "\t\ts+=sum([f(k) for k in u(j,m,N)])\n",
        "\treturn s/(m*N)"
      ]
    },
    {
      "cell_type": "markdown",
      "source": [
        "Se el resultado estimado y el resultado original."
      ],
      "metadata": {
        "id": "RsejANyA-KGx"
      }
    },
    {
      "cell_type": "code",
      "source": [
        "print(estimador(m,N))\n",
        "print(1-1/(e-1))"
      ],
      "metadata": {
        "colab": {
          "base_uri": "https://localhost:8080/"
        },
        "id": "Uc-EGYzt-C4a",
        "outputId": "96556e55-1fe8-4ce5-993d-efc2a4d420eb"
      },
      "execution_count": null,
      "outputs": [
        {
          "output_type": "stream",
          "name": "stdout",
          "text": [
            "0.40087973088011586\n",
            "0.41802329313067355\n"
          ]
        }
      ]
    },
    {
      "cell_type": "markdown",
      "source": [
        "# Monte Carlo muestreo importancia"
      ],
      "metadata": {
        "id": "fGfVepEk86EI"
      }
    },
    {
      "cell_type": "code",
      "source": [
        "from random import random\n",
        "from math import sin,pi\n",
        "\n",
        "f = lambda x : (exp(x)-1)/(e-1)\n",
        "\n",
        "g = lambda x : sin(x)\n",
        "\n",
        "\n",
        "def estimador(n,a,b):\n",
        "\tu = (b-a)*random()+a\n",
        "\tl = (g(u)/f(u) for i in range(n))\n",
        "\treturn sum(l)/n\n",
        "\n",
        "def es(n,a,b):\n",
        "\ts = 0\n",
        "\tu = (b-a)*random()+a\n",
        "\tfor i in range(n):\n",
        "\t\ts+=g(u)/f(u)\n",
        "\treturn s/n\n",
        "\n",
        "\n",
        "print(estimador(1000000,0,pi/2))"
      ],
      "metadata": {
        "colab": {
          "base_uri": "https://localhost:8080/"
        },
        "id": "CzZ302zr9a3c",
        "outputId": "9a871f19-223b-4050-8f77-494424064412"
      },
      "execution_count": null,
      "outputs": [
        {
          "output_type": "stream",
          "name": "stdout",
          "text": [
            "0.6037436639896097\n"
          ]
        }
      ]
    },
    {
      "cell_type": "markdown",
      "source": [
        "# Monte Carlo media muestral\n"
      ],
      "metadata": {
        "id": "UlmhATpC9miv"
      }
    },
    {
      "cell_type": "code",
      "source": [
        "from random import random\n",
        "from math import *\n",
        "\n",
        "f = lambda x : (exp(x)-1)/(e-1)\n",
        "\n",
        "def media(n):\n",
        "  s = 0\n",
        "  for i in range(n):\n",
        "    s+=f(random())\n",
        "  return s/n\n",
        "print(media(100))"
      ],
      "metadata": {
        "colab": {
          "base_uri": "https://localhost:8080/"
        },
        "id": "oeYPjCl3-eoN",
        "outputId": "5aaa6983-3440-4b72-ea98-f87a90a3c658"
      },
      "execution_count": null,
      "outputs": [
        {
          "output_type": "stream",
          "name": "stdout",
          "text": [
            "0.4325436310033867\n"
          ]
        }
      ]
    },
    {
      "cell_type": "markdown",
      "source": [
        "# Monte Carlo acierto y error."
      ],
      "metadata": {
        "id": "avnBaELt_Eoa"
      }
    },
    {
      "cell_type": "code",
      "source": [],
      "metadata": {
        "id": "kKFpJkJ4_EXU"
      },
      "execution_count": null,
      "outputs": []
    }
  ]
}