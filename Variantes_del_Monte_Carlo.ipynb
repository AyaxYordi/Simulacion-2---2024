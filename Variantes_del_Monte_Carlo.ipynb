{
  "nbformat": 4,
  "nbformat_minor": 0,
  "metadata": {
    "colab": {
      "provenance": [],
      "authorship_tag": "ABX9TyNIej/9rInLN6JfSc9Cs+lC"
    },
    "kernelspec": {
      "name": "python3",
      "display_name": "Python 3"
    },
    "language_info": {
      "name": "python"
    }
  },
  "cells": [
    {
      "cell_type": "markdown",
      "source": [
        "# Monte Carlo\n",
        "\n",
        "Aquí en este documento se verán cuatro variantes del método de Monte Carlo y se van a comparar con respecto a su varianza para ver cuál es el que tiene la mínima varianza.\n",
        "\n",
        "Para ilustrar el funcionamiento de estos métodos, se resolverá esta integral.\n",
        "\n",
        "$$\\int_{0}^{1}\\dfrac{e^x-1}{e-1}dx$$\n",
        "\n",
        "# Monte Carlo estratificado\n",
        "\n",
        "El siguiente código solo sirve para una variable aleatoria uniforme. $X \\sim U(0,1)$\n",
        "\n",
        "Primero se van a importar las librerías que se van a ocupar para este método."
      ],
      "metadata": {
        "id": "gjtG2xzX545l"
      }
    },
    {
      "cell_type": "code",
      "source": [
        "from math import *\n",
        "from random import random"
      ],
      "metadata": {
        "id": "cBA8bo6M74jn"
      },
      "execution_count": null,
      "outputs": []
    },
    {
      "cell_type": "markdown",
      "source": [
        "Definimos la función."
      ],
      "metadata": {
        "id": "8ZONp6yN76F2"
      }
    },
    {
      "cell_type": "code",
      "source": [
        "f = lambda x : (exp(x)-1)/(e-1)"
      ],
      "metadata": {
        "id": "QeCl91SB7_Yv"
      },
      "execution_count": null,
      "outputs": []
    },
    {
      "cell_type": "markdown",
      "source": [
        "$N$ Será la cantidad de números aleatorios que se van a generar y $M$ el número de intervalos en que se va a dividir el intervalo. $[0,1]$"
      ],
      "metadata": {
        "id": "wx6lTclH8Mb2"
      }
    },
    {
      "cell_type": "code",
      "source": [
        "N = 20\n",
        "m = 4"
      ],
      "metadata": {
        "id": "pMn-JtmW8zm8"
      },
      "execution_count": null,
      "outputs": []
    },
    {
      "cell_type": "markdown",
      "source": [
        "Estos son los U sub k sub i"
      ],
      "metadata": {
        "id": "q4fmWExq9wDH"
      }
    },
    {
      "cell_type": "code",
      "source": [
        "def u(a,b,n):\n",
        "\tl = ((b-a)*random()+a for i in range(n))\n",
        "\treturn l"
      ],
      "metadata": {
        "id": "UzFdN4q191es"
      },
      "execution_count": null,
      "outputs": []
    },
    {
      "cell_type": "markdown",
      "source": [
        "Theta que en este caso se va a definir como estimador."
      ],
      "metadata": {
        "id": "uv865EdF95Va"
      }
    },
    {
      "cell_type": "code",
      "execution_count": 50,
      "metadata": {
        "id": "77yolr1e5xSo"
      },
      "outputs": [],
      "source": [
        "def estratificado(M,N):\n",
        "\ts = 0\n",
        "\tfor j in range(M):\n",
        "\t\ts+=sum([f(k) for k in u(j*(1/M),(j+1)*(1/M),N)])\n",
        "\treturn s/(M*N)"
      ]
    },
    {
      "cell_type": "markdown",
      "source": [
        "Se el resultado estimado y el resultado original."
      ],
      "metadata": {
        "id": "RsejANyA-KGx"
      }
    },
    {
      "cell_type": "code",
      "source": [
        "print(estratificado(4,20))\n",
        "print(1-1/(e-1))"
      ],
      "metadata": {
        "colab": {
          "base_uri": "https://localhost:8080/"
        },
        "id": "Uc-EGYzt-C4a",
        "outputId": "67692fa8-eb66-4e6f-a896-3300e043a689"
      },
      "execution_count": 51,
      "outputs": [
        {
          "output_type": "stream",
          "name": "stdout",
          "text": [
            "3.5297432782551668\n",
            "0.41802329313067355\n"
          ]
        }
      ]
    },
    {
      "cell_type": "markdown",
      "source": [
        "# Monte Carlo muestreo importancia\n",
        "\n",
        "Primero empezamos importando las librerías."
      ],
      "metadata": {
        "id": "fGfVepEk86EI"
      }
    },
    {
      "cell_type": "code",
      "source": [
        "from random import random\n",
        "from math import *\n",
        "import numpy as np\n",
        "import matplotlib.pyplot as plt"
      ],
      "metadata": {
        "id": "CLym8KQPfT61"
      },
      "execution_count": 31,
      "outputs": []
    },
    {
      "cell_type": "markdown",
      "source": [
        "Ahora definimos la función a la cual se le desea calcular la integral y la función que se le parece."
      ],
      "metadata": {
        "id": "sLgvJVPhfbT_"
      }
    },
    {
      "cell_type": "code",
      "source": [
        "f1 = lambda x : (np.exp(x)-1)/(e-1)\n",
        "\n",
        "t = np.arange(0,1,0.001)\n",
        "plt.plot(t,f1(t))\n",
        "plt.xlabel(\"x\")\n",
        "plt.ylabel(\"y\")\n",
        "plt.show()"
      ],
      "metadata": {
        "id": "8ahDE0qPf3zh",
        "outputId": "89467a63-72c8-490e-97c1-0c86dafddf70",
        "colab": {
          "base_uri": "https://localhost:8080/",
          "height": 449
        }
      },
      "execution_count": 32,
      "outputs": [
        {
          "output_type": "display_data",
          "data": {
            "text/plain": [
              "<Figure size 640x480 with 1 Axes>"
            ],
            "image/png": "[encoded data removed]"
          },
          "metadata": {}
        }
      ]
    },
    {
      "cell_type": "markdown",
      "source": [
        "La funcion que se propone es la siguiente."
      ],
      "metadata": {
        "id": "ZCZLPzGwisI7"
      }
    },
    {
      "cell_type": "code",
      "source": [
        "f2 = lambda x: 0.5*np.exp(t)-0.5\n",
        "\n",
        "plt.plot(t,f2(t),c=\"red\")\n",
        "plt.xlabel(\"x\")\n",
        "plt.ylabel(\"y\")\n",
        "plt.show()"
      ],
      "metadata": {
        "id": "mQTggN5aiofa",
        "outputId": "18641a2a-a4aa-41a4-ed03-d4972a0ae60d",
        "colab": {
          "base_uri": "https://localhost:8080/",
          "height": 449
        }
      },
      "execution_count": 33,
      "outputs": [
        {
          "output_type": "display_data",
          "data": {
            "text/plain": [
              "<Figure size 640x480 with 1 Axes>"
            ],
            "image/png": "[encoded data removed]"
          },
          "metadata": {}
        }
      ]
    },
    {
      "cell_type": "markdown",
      "source": [
        "Graficando ambas funciones para compararlas."
      ],
      "metadata": {
        "id": "a513K7kQjArA"
      }
    },
    {
      "cell_type": "code",
      "source": [
        "f1 = lambda x : (np.exp(x)-1)/(e-1)\n",
        "f2 = lambda x: 0.6*np.exp(t)-0.61\n",
        "\n",
        "t = np.arange(0,1,0.001)\n",
        "plt.plot(t,f2(t),c=\"red\")\n",
        "plt.plot(t,f1(t))\n",
        "plt.xlabel(\"x\")\n",
        "plt.ylabel(\"y\")\n",
        "plt.show()"
      ],
      "metadata": {
        "id": "L4GtTyn6jHid",
        "outputId": "10f5acfd-ac51-4287-da4e-71616414cea1",
        "colab": {
          "base_uri": "https://localhost:8080/",
          "height": 449
        }
      },
      "execution_count": 44,
      "outputs": [
        {
          "output_type": "display_data",
          "data": {
            "text/plain": [
              "<Figure size 640x480 with 1 Axes>"
            ],
            "image/png": "[encoded data removed]"
          },
          "metadata": {}
        }
      ]
    },
    {
      "cell_type": "markdown",
      "source": [
        "Definimos la funcion estimador."
      ],
      "metadata": {
        "id": "Kgc9CK7jgGlf"
      }
    },
    {
      "cell_type": "code",
      "source": [
        "f = lambda x : (exp(x)-1)/(e-1)\n",
        "\n",
        "g = lambda x : 0.6*exp(x)-0.61\n",
        "\n",
        "\n",
        "def estimador(a,b,n):\n",
        "\tu = (b-a)*random()+a\n",
        "\tl = (g(u)/f(u) for i in range(n))\n",
        "\treturn sum(l)/n\n",
        "\n",
        "print(estimador(0,1,1000000))"
      ],
      "metadata": {
        "colab": {
          "base_uri": "https://localhost:8080/"
        },
        "id": "CzZ302zr9a3c",
        "outputId": "cf2c1df1-4090-44af-f4a8-2aecda73a94b"
      },
      "execution_count": 48,
      "outputs": [
        {
          "output_type": "stream",
          "name": "stdout",
          "text": [
            "0.9629689516736184\n"
          ]
        }
      ]
    },
    {
      "cell_type": "markdown",
      "source": [
        "# Monte Carlo media muestral\n"
      ],
      "metadata": {
        "id": "UlmhATpC9miv"
      }
    },
    {
      "cell_type": "markdown",
      "source": [
        "Primero importamos las librerías que se van a usar para este método."
      ],
      "metadata": {
        "id": "yO53XOUZQay-"
      }
    },
    {
      "cell_type": "code",
      "source": [
        "from random import random\n",
        "from math import *"
      ],
      "metadata": {
        "id": "WQTSas3zQnuW"
      },
      "execution_count": null,
      "outputs": []
    },
    {
      "cell_type": "markdown",
      "source": [
        "Se define la función a integrar."
      ],
      "metadata": {
        "id": "5mSsEmdBQo4I"
      }
    },
    {
      "cell_type": "code",
      "source": [
        "f = lambda x : (exp(x)-1)/(e-1)"
      ],
      "metadata": {
        "id": "_0fBAb0VQz3P"
      },
      "execution_count": null,
      "outputs": []
    },
    {
      "cell_type": "markdown",
      "source": [
        "Por último, se define una función que ejecuta el método de media muestral.\n",
        "\n",
        "Se genera una lista de números aleatorios dentro del intervalo donde se desea calcular la integral definida, en este caso el intervalo de integración es de $[0,1]$ y se van a generar números aleatorios que estén dentro de este intervalo.\n",
        "\n",
        "La función ```media(a,b,N)``` tiene tres parámetros que son:\n",
        "\n",
        "\n",
        "*   ```a```: Limite inferior.\n",
        "*   ```b```: Limite superior.\n",
        "*   ```N```: Cantidad de números aleatorios a generar.\n",
        "\n",
        "Lo que regresa la función es la aproximación de la integral.\n",
        "\n",
        "O sea:\n",
        "\n",
        "$$\\theta=\\dfrac{(b-a)}{N}\\sum_{i=1}^{n}g(X_i)$$"
      ],
      "metadata": {
        "id": "P0FBQzkfQ1CY"
      }
    },
    {
      "cell_type": "code",
      "source": [
        "def media(a,b,N):\n",
        "  l = (f((b-a)*random()+a) for i in range(N))  # Generador que evalua los numeros aleatorios en la funcion f\n",
        "  return (b-a)*(sum(l)/N)"
      ],
      "metadata": {
        "id": "oeYPjCl3-eoN"
      },
      "execution_count": null,
      "outputs": []
    },
    {
      "cell_type": "markdown",
      "source": [
        "Por último, le pasamos los parámetros ```a=0 b=1``` y aproximamos la integral con un millón de números aleatorios. ```N=1000000```"
      ],
      "metadata": {
        "id": "9L_0sQaUaTGl"
      }
    },
    {
      "cell_type": "code",
      "source": [
        "print(media(0,1,1000000))"
      ],
      "metadata": {
        "id": "Gr4EZ3icSIUk",
        "outputId": "63f5bc35-d45c-4d81-b6d7-9a88294853d3",
        "colab": {
          "base_uri": "https://localhost:8080/"
        }
      },
      "execution_count": 29,
      "outputs": [
        {
          "output_type": "stream",
          "name": "stdout",
          "text": [
            "0.4183863104720596\n"
          ]
        }
      ]
    },
    {
      "cell_type": "markdown",
      "source": [
        "# Monte Carlo acierto y error.\n",
        "\n",
        "Importamos las librerías."
      ],
      "metadata": {
        "id": "avnBaELt_Eoa"
      }
    },
    {
      "cell_type": "code",
      "source": [
        "from random import random\n",
        "from math import *\n",
        "import numpy as np\n",
        "import matplotlib.pyplot as plt"
      ],
      "metadata": {
        "id": "kKFpJkJ4_EXU"
      },
      "execution_count": 49,
      "outputs": []
    },
    {
      "cell_type": "markdown",
      "source": [],
      "metadata": {
        "id": "ROTn7ULefnP0"
      }
    },
    {
      "cell_type": "code",
      "source": [],
      "metadata": {
        "id": "Nx3F86uFfm-n"
      },
      "execution_count": null,
      "outputs": []
    }
  ]
}